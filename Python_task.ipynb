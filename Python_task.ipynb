{
 "cells": [
  {
   "cell_type": "code",
   "execution_count": 1,
   "metadata": {},
   "outputs": [],
   "source": [
    "import pandas as pd\n",
    "import warnings\n",
    "warnings.filterwarnings('ignore')"
   ]
  },
  {
   "cell_type": "markdown",
   "metadata": {},
   "source": [
    "<h2> Loading and concating data </h2>"
   ]
  },
  {
   "cell_type": "code",
   "execution_count": 2,
   "metadata": {},
   "outputs": [],
   "source": [
    "data = []\n",
    "for i in range(1,6):\n",
    "    tmp_df = pd.read_csv(f'data/data{i}.csv')\n",
    "    tmp_df.columns =['Artist', 'Name', 'Year', 'Popularity', 'genre', 'lyrics'] \n",
    "    data.append(tmp_df)\n",
    "df = pd.concat(data,ignore_index=True, sort=True)"
   ]
  },
  {
   "cell_type": "code",
   "execution_count": 3,
   "metadata": {},
   "outputs": [],
   "source": [
    "# replace \\r\\n with space in Lyrics\n",
    "df.lyrics = df.lyrics.str.replace('\\r\\n', ' ')"
   ]
  },
  {
   "cell_type": "code",
   "execution_count": 4,
   "metadata": {},
   "outputs": [],
   "source": [
    "# extract gener\n",
    "df.genre = df.genre.apply(lambda x: x[7:x.find('\").setTar')])"
   ]
  },
  {
   "cell_type": "code",
   "execution_count": 5,
   "metadata": {},
   "outputs": [
    {
     "data": {
      "text/plain": [
       "array(['Rock', 'Pop', 'Other', 'Country', 'RB', '', 'HipHop', 'Jazz',\n",
       "       'Folk', 'Electronic', 'Indie'], dtype=object)"
      ]
     },
     "execution_count": 5,
     "metadata": {},
     "output_type": "execute_result"
    }
   ],
   "source": [
    "df.genre.unique()"
   ]
  },
  {
   "cell_type": "code",
   "execution_count": 6,
   "metadata": {},
   "outputs": [],
   "source": [
    "# sepaarate mising genre\n",
    "df_mis_gen = df[df.genre ==\"\"]\n",
    "df = df[df.genre !=\"\"]"
   ]
  },
  {
   "cell_type": "code",
   "execution_count": 7,
   "metadata": {},
   "outputs": [],
   "source": [
    "#fixing Bob Marley's genre\n",
    "bob = df_mis_gen[df_mis_gen.Artist == 'Bob Marley']\n",
    "bob.genre = 'Folk'\n",
    "df = pd.concat([df,bob],ignore_index=True, sort=True)"
   ]
  },
  {
   "cell_type": "code",
   "execution_count": 8,
   "metadata": {},
   "outputs": [],
   "source": [
    "#fixing Zack Knight's genre\n",
    "zak = df_mis_gen[df_mis_gen.Artist == 'Zack Knight']\n",
    "zak.genre = 'RB'\n",
    "df = pd.concat([df,zak],ignore_index=True, sort=True)"
   ]
  },
  {
   "cell_type": "code",
   "execution_count": 9,
   "metadata": {},
   "outputs": [],
   "source": [
    "# saving missing genre\n",
    "df_mis_gen.to_csv(\"missing_genre.csv\")"
   ]
  },
  {
   "cell_type": "code",
   "execution_count": 10,
   "metadata": {},
   "outputs": [],
   "source": [
    "# saving rows that contain missing values\n",
    "df[df.isnull().values.any(axis=1)].to_csv('mising_val.csv')"
   ]
  },
  {
   "cell_type": "code",
   "execution_count": 11,
   "metadata": {},
   "outputs": [],
   "source": [
    "#dropp mising value containing rows\n",
    "df = df[~df.isnull().values.any(axis=1)]"
   ]
  },
  {
   "cell_type": "code",
   "execution_count": 12,
   "metadata": {},
   "outputs": [],
   "source": [
    "# save dublicated rows\n",
    "df[df[['Artist', 'Name' ]].duplicated()].sort_values(['Artist', 'Name' ]).to_csv('dublicated.csv')"
   ]
  },
  {
   "cell_type": "code",
   "execution_count": 13,
   "metadata": {},
   "outputs": [],
   "source": [
    "#drop duplicates\n",
    "df = df[~df[['Artist', 'Name' ]].duplicated()]"
   ]
  },
  {
   "cell_type": "markdown",
   "metadata": {},
   "source": [
    "<h2> four informative visualizations </h2>"
   ]
  },
  {
   "cell_type": "code",
   "execution_count": 14,
   "metadata": {},
   "outputs": [],
   "source": [
    "import seaborn as sns\n",
    "import matplotlib.pyplot as plt\n",
    "sns.set(color_codes=True)\n",
    "from matplotlib.pyplot import figure\n",
    "%matplotlib Inline"
   ]
  },
  {
   "cell_type": "markdown",
   "metadata": {},
   "source": [
    "<h2> The avarage popularity af every gener </h2>"
   ]
  },
  {
   "cell_type": "code",
   "execution_count": 15,
   "metadata": {},
   "outputs": [
    {
     "data": {
      "image/png": "[encoded data removed]",
      "text/plain": [
       "<Figure size 960x640 with 1 Axes>"
      ]
     },
     "metadata": {},
     "output_type": "display_data"
    }
   ],
   "source": [
    "tmp = df[['genre','Popularity']].groupby('genre').mean()\n",
    "fig = figure(num=None, figsize=(12, 8), dpi=80, facecolor='w', edgecolor='k')\n",
    "sns.barplot(x=tmp.index, y=tmp.Popularity, color='b');\n",
    "plt.xlabel('Genre', fontsize=18)\n",
    "plt.ylabel('Popularity', fontsize=18);"
   ]
  },
  {
   "cell_type": "markdown",
   "metadata": {},
   "source": [
    "<h3> The chart show that Indie, R&B and Electronic are the most unpopular genres oppositely Jazz which of course the most popular for all times </h3>"
   ]
  },
  {
   "cell_type": "code",
   "execution_count": 16,
   "metadata": {
    "scrolled": true
   },
   "outputs": [],
   "source": [
    "from ipywidgets import interact, widgets"
   ]
  },
  {
   "cell_type": "markdown",
   "metadata": {},
   "source": [
    "<h2> Time serries that shows yearly made songs in every genre and genre popularity </h2>"
   ]
  },
  {
   "cell_type": "code",
   "execution_count": 17,
   "metadata": {
    "scrolled": false
   },
   "outputs": [],
   "source": [
    "grouped_mean = df[['Year','genre','Popularity']].groupby(['Year','genre']).mean()\n",
    "grouped_count = df[['Year','genre','Popularity']].groupby(['Year','genre']).count()\n",
    "def plotyear(year): \n",
    "    fig = figure(num=None, figsize=(18, 10), dpi=80, facecolor='w', edgecolor='k');\n",
    "    x = grouped_count.loc[year].Popularity\n",
    "    y = grouped_mean.loc[year].Popularity\n",
    "    ax = sns.scatterplot(x=x, y=y, s=250)\n",
    "    plt.xlabel('Number of songs in that genre', fontsize=20)\n",
    "    plt.ylabel('Avarage popularity of genre', fontsize=20)\n",
    "    ax.set_ylim([0,100])\n",
    "    for i in list(list(x.index)):\n",
    "        ax.text(x[i],y[i],i, fontsize=35, verticalalignment='bottom')"
   ]
  },
  {
   "cell_type": "code",
   "execution_count": 18,
   "metadata": {},
   "outputs": [
    {
     "data": {
      "application/vnd.jupyter.widget-view+json": {
       "model_id": "8e3dbc4632da47d2a459bd09226e642d",
       "version_major": 2,
       "version_minor": 0
      },
      "text/plain": [
       "interactive(children=(IntSlider(value=2015, description='year', max=2018, min=1990), Output()), _dom_classes=(…"
      ]
     },
     "metadata": {},
     "output_type": "display_data"
    }
   ],
   "source": [
    "interact(plotyear, year=widgets.IntSlider(min=1990, max=2018, step=1, value=2015));"
   ]
  },
  {
   "cell_type": "markdown",
   "metadata": {},
   "source": [
    "<h2> The  time series shows that after 2000 the amount of Rock and Pop songs significantly larger than other genres, also Jazz songs tipically  announced in fewer countities but they typically are on top of popularity, another thing is that at 2015 year genre Indie is outsider becouse of low popularity and so on </h2>"
   ]
  },
  {
   "cell_type": "code",
   "execution_count": 19,
   "metadata": {},
   "outputs": [],
   "source": [
    "from scipy import stats"
   ]
  },
  {
   "cell_type": "markdown",
   "metadata": {},
   "source": [
    "<h2> The mean popularity of each artist</h2>"
   ]
  },
  {
   "cell_type": "code",
   "execution_count": 20,
   "metadata": {},
   "outputs": [],
   "source": [
    "grouped = df[['Artist','Popularity', 'Year']].groupby(['Artist','Year']).apply(func=stats.hmean)"
   ]
  },
  {
   "cell_type": "code",
   "execution_count": 21,
   "metadata": {},
   "outputs": [],
   "source": [
    "def plot_artist(artist):\n",
    "    fig = figure(num=None, figsize=(18, 10), dpi=80, facecolor='w', edgecolor='k');\n",
    "    data = grouped[artist]\n",
    "    ax = sns.scatterplot(x=data.index, y=data.values, s=300)\n",
    "    plt.xlabel('Year', fontsize=20)\n",
    "    plt.ylabel('Avarage popularity of Artist', fontsize=20);\n",
    "    plt.title(artist, fontsize=30)\n",
    "    ax.tick_params(axis='x', labelsize=15 )\n",
    "    ax.tick_params(axis='y', labelsize=15 )\n",
    "    ax.set_ylim([0,100])"
   ]
  },
  {
   "cell_type": "code",
   "execution_count": 22,
   "metadata": {
    "scrolled": false
   },
   "outputs": [
    {
     "data": {
      "application/vnd.jupyter.widget-view+json": {
       "model_id": "ab663386bbbb4771813b9272dc2e9209",
       "version_major": 2,
       "version_minor": 0
      },
      "text/plain": [
       "interactive(children=(Dropdown(description='Artist:', index=3, options=('Atif Aslam', 'ABBA', 'Arijit Singh', …"
      ]
     },
     "metadata": {},
     "output_type": "display_data"
    }
   ],
   "source": [
    "interact(plot_artist, artist=widgets.Dropdown(options=df.Artist.unique(), value='Adele',  description='Artist:'));"
   ]
  },
  {
   "cell_type": "markdown",
   "metadata": {},
   "source": [
    "<h2> The following heatmap shows how the number of songs announced every year dramaticaly increase compering a few Folk and Rock songs in 70s to 2000s. It also shows development of each genre, for exaple accordig our data Country genre achives to it popularity in mining of new songs around 2005, RB starts to become popular since 1995  </h2> "
   ]
  },
  {
   "cell_type": "code",
   "execution_count": 23,
   "metadata": {
    "scrolled": false
   },
   "outputs": [
    {
     "data": {
      "image/png": "[encoded data removed]",
      "text/plain": [
       "<Figure size 1440x800 with 2 Axes>"
      ]
     },
     "metadata": {},
     "output_type": "display_data"
    }
   ],
   "source": [
    "sns.set_style(\"whitegrid\")\n",
    "fig = figure(num=None, figsize=(18, 10), dpi=80, facecolor='w', edgecolor='k');\n",
    "df2 = grouped_count.reset_index().pivot(columns='Year',index='genre',values='Popularity')\n",
    "ax = sns.heatmap(df2,cmap=\"Blues\", vmin=-50, vmax=200);\n",
    "ax.tick_params(axis='x', labelsize=15 );\n",
    "ax.tick_params(axis='y', labelsize=13 );\n",
    "plt.xlabel('Year', fontsize=20)\n",
    "plt.ylabel('Gener', fontsize=20);"
   ]
  },
  {
   "cell_type": "code",
   "execution_count": 24,
   "metadata": {},
   "outputs": [],
   "source": [
    "# saving songs with very short lyrics, instrumental you can feel it and such kind of staff\n",
    "df[df.lyrics.str.len() <= 60].to_csv('uncertain_lirics.csv')"
   ]
  },
  {
   "cell_type": "code",
   "execution_count": 25,
   "metadata": {
    "scrolled": false
   },
   "outputs": [],
   "source": [
    "# remov songs with very short lyrics\n",
    "df = df[df.lyrics.str.len() > 60]"
   ]
  },
  {
   "cell_type": "code",
   "execution_count": 26,
   "metadata": {},
   "outputs": [],
   "source": [
    "#ABBA\tHamlet III Lyrics story beside of lirics\n",
    "ind = df[df.Artist == 'ABBA'][df.Name =='Hamlet III Lyrics'].index\n",
    "df.drop(ind, inplace=True)"
   ]
  },
  {
   "cell_type": "markdown",
   "metadata": {},
   "source": [
    "<h2> Nonlatin chaaracters </h2>"
   ]
  },
  {
   "cell_type": "code",
   "execution_count": 27,
   "metadata": {
    "scrolled": true
   },
   "outputs": [
    {
     "data": {
      "text/plain": [
       "\"तू जो रूठा तो कौन हंसेगा तू जो छूटा तो कौन रहेगा तू चुप है तो ये डर लगता है अपना मुझको अब कौन कहेगा तू ही वजह. तेरे बिना बेवजह बेकार हूँ मैं तेरा यार हूँ मैं तेरा यार हूँ मैं,आजा लड़ें फिर खिलौनों के लिए तू जीते मैं हार जाऊं आजा करें फिर वोही शरारतें तू भागे मैं मार खाऊं,मीठी सी वो गाली तेरी सुनने को तैयार हूँ मैं तेरा यार हूँ मैं हम्म. तेरा यार हूँ मैं तेरा यार हूँ.,सजना दे रंग रंगइयां वे सगना दियां सह्नायाँ वे ढोल वजांगे यार नचांगे लख लख दो बधाईयाँ वे,खुशियाँ च नचदा मैं फिरां हंजुँ तों बचदा मैं फिरां.,ओ जाते नहीं कहीं रिश्ते पुराने किसी नए के आ जाने से जाता हूँ मैं तो मुझे तू जाने दे क्यूँ परेशां है मेरे जाने से,टूटा है तो जुड़ा है क्यूँ मेरी तरफ तू मुड़ा है क्यूँ हक नहीं तू ये कहे की यार अब हम ना रहे,एक तेरी यारी का ही सातों जनम हक़दार हूँ मैं,तेरा यार हूँ मैं तेरा यार हूँ मैं तेरा यार हूँ मैं तेरा यार हूँ मैं.,Tu jo rootha toh kaun hansega Tu jo chhoota toh kaun rahega Tu chup hai toh yeh darr lagta hai Apna mujhko ko ab kaun kahega,Tu hi wajah... Tere bina bewajah bekar hoon main Tera yaar hoon main Tera yaar hoon main,Aaja ladein phir khilono ke liye Tu jeete main haar jaaun Aaja karein phir wohi shararatein Tu bhaage main maar khaaun,Meethi si woh gaali teri Sun'ne ko taiyaar hoon main Tera yaar hoon main Tera yaar hoon main Tera yaar hoon...,Sajna de rang rangaaiyan ve Sagna diyan sehnaiyan ve Dhol wajange yaar nachange Lakh lakh deo badhaiyan ve,Khusiyan 'ch nachda main phiraan Hanjuan ton bachda main phiraan...,O jaate nahi kahin rishte puraane Kisi naye ke aa jaane se Jaata hoon main toh mujhe tu jaane de Kyun pareshan hai mere jaane se...,Toota hai toh juda hai kyun Meri taraf tu muda hai kyun Haq nahi tu yeh kahe ki yaar ab hum na rahe,Ek teri yaari ka hi Saaton janam haqdaar hoon main Tera yaar hoon main...,Tera yaar hoon main... Tera yaar hoon main...,Tera yaar hoon main...\""
      ]
     },
     "execution_count": 27,
     "metadata": {},
     "output_type": "execute_result"
    }
   ],
   "source": [
    "# Arijit Singh\tTera Yaar Hoon Main Lyrics\n",
    "\n",
    "tmp = df[df.Artist == 'Arijit Singh'][df.Name =='Tera Yaar Hoon Main Lyrics']\n",
    "tmp.lyrics.item()"
   ]
  },
  {
   "cell_type": "code",
   "execution_count": 28,
   "metadata": {},
   "outputs": [],
   "source": [
    "string = \"तू जो रूठा तो कौन हंसेगा तू जो छूटा तो कौन रहेगा तू चुप है तो ये डर लगता है अपना मुझको अब कौन कहेगा तू ही वजह. तेरे बिना बेवजह बेकार हूँ मैं तेरा यार हूँ मैं तेरा यार हूँ मैं,आजा लड़ें फिर खिलौनों के लिए तू जीते मैं हार जाऊं आजा करें फिर वोही शरारतें तू भागे मैं मार खाऊं,मीठी सी वो गाली तेरी सुनने को तैयार हूँ मैं तेरा यार हूँ मैं हम्म. तेरा यार हूँ मैं तेरा यार हूँ.,सजना दे रंग रंगइयां वे सगना दियां सह्नायाँ वे ढोल वजांगे यार नचांगे लख लख दो बधाईयाँ वे,खुशियाँ च नचदा मैं फिरां हंजुँ तों बचदा मैं फिरां.,ओ जाते नहीं कहीं रिश्ते पुराने किसी नए के आ जाने से जाता हूँ मैं तो मुझे तू जाने दे क्यूँ परेशां है मेरे जाने से,टूटा है तो जुड़ा है क्यूँ मेरी तरफ तू मुड़ा है क्यूँ हक नहीं तू ये कहे की यार अब हम ना रहे,एक तेरी यारी का ही सातों जनम हक़दार हूँ मैं,तेरा यार हूँ मैं तेरा यार हूँ मैं तेरा यार हूँ मैं तेरा यार हूँ मैं.,Tu jo rootha toh kaun hansega Tu jo chhoota toh kaun rahega Tu chup hai toh yeh darr lagta hai Apna mujhko ko ab kaun kahega,Tu hi wajah... Tere bina bewajah bekar hoon main Tera yaar hoon main Tera yaar hoon main,Aaja ladein phir khilono ke liye Tu jeete main haar jaaun Aaja karein phir wohi shararatein Tu bhaage main maar khaaun,Meethi si woh gaali teri Sun'ne ko taiyaar hoon main Tera yaar hoon main Tera yaar hoon main Tera yaar hoon...,Sajna de rang rangaaiyan ve Sagna diyan sehnaiyan ve Dhol wajange yaar nachange Lakh lakh deo badhaiyan ve,Khusiyan 'ch nachda main phiraan Hanjuan ton bachda main phiraan...,O jaate nahi kahin rishte puraane Kisi naye ke aa jaane se Jaata hoon main toh mujhe tu jaane de Kyun pareshan hai mere jaane se...,Toota hai toh juda hai kyun Meri taraf tu muda hai kyun Haq nahi tu yeh kahe ki yaar ab hum na rahe,Ek teri yaari ka hi Saaton janam haqdaar hoon main Tera yaar hoon main...,Tera yaar hoon main... Tera yaar hoon main...,Tera yaar hoon main...\""
   ]
  },
  {
   "cell_type": "code",
   "execution_count": 29,
   "metadata": {},
   "outputs": [],
   "source": [
    "import re"
   ]
  },
  {
   "cell_type": "code",
   "execution_count": 30,
   "metadata": {},
   "outputs": [],
   "source": [
    "df[~df.lyrics.str.match(r'\\W+')].lyrics.to_csv('test.csv')"
   ]
  },
  {
   "cell_type": "markdown",
   "metadata": {},
   "source": [
    "<h2> sentiment and polarity of each song </h2>"
   ]
  },
  {
   "cell_type": "code",
   "execution_count": 105,
   "metadata": {},
   "outputs": [],
   "source": [
    "import numpy as np\n",
    "from sklearn.feature_extraction.text import TfidfVectorizer \n",
    "from sklearn.decomposition import PCA\n",
    "from nltk.corpus import stopwords\n",
    "from nltk.stem import SnowballStemmer\n",
    "from nltk.tokenize import word_tokenize,RegexpTokenizer\n",
    "from sklearn.svm import SVC\n",
    "from sklearn.model_selection import train_test_split, GridSearchCV, cross_val_score"
   ]
  },
  {
   "cell_type": "code",
   "execution_count": 95,
   "metadata": {},
   "outputs": [
    {
     "data": {
      "text/html": [
       "<div>\n",
       "<style scoped>\n",
       "    .dataframe tbody tr th:only-of-type {\n",
       "        vertical-align: middle;\n",
       "    }\n",
       "\n",
       "    .dataframe tbody tr th {\n",
       "        vertical-align: top;\n",
       "    }\n",
       "\n",
       "    .dataframe thead th {\n",
       "        text-align: right;\n",
       "    }\n",
       "</style>\n",
       "<table border=\"1\" class=\"dataframe\">\n",
       "  <thead>\n",
       "    <tr style=\"text-align: right;\">\n",
       "      <th></th>\n",
       "      <th>Artist</th>\n",
       "      <th>Mood</th>\n",
       "      <th>Name</th>\n",
       "      <th>lyrics</th>\n",
       "    </tr>\n",
       "  </thead>\n",
       "  <tbody>\n",
       "    <tr>\n",
       "      <td>0</td>\n",
       "      <td>Sum 41</td>\n",
       "      <td>angry</td>\n",
       "      <td>All Messed Up</td>\n",
       "      <td>Another day wasted out of time I can't get out...</td>\n",
       "    </tr>\n",
       "    <tr>\n",
       "      <td>1</td>\n",
       "      <td>Metallica</td>\n",
       "      <td>angry</td>\n",
       "      <td>All Nightmare Long</td>\n",
       "      <td>Crawl from the wreckage one more time Horrific...</td>\n",
       "    </tr>\n",
       "    <tr>\n",
       "      <td>2</td>\n",
       "      <td>Green Day</td>\n",
       "      <td>angry</td>\n",
       "      <td>American Idiot (Album Version)</td>\n",
       "      <td>Don't wanna be an American idiot.  Don't want ...</td>\n",
       "    </tr>\n",
       "    <tr>\n",
       "      <td>3</td>\n",
       "      <td>Megadeth</td>\n",
       "      <td>angry</td>\n",
       "      <td>Angry Again</td>\n",
       "      <td>The more of you that I inspect The more of me ...</td>\n",
       "    </tr>\n",
       "    <tr>\n",
       "      <td>4</td>\n",
       "      <td>Roadrunner United</td>\n",
       "      <td>angry</td>\n",
       "      <td>Annihilation By The Hands Of God (Album Version)</td>\n",
       "      <td>The prophets of God have left you solaced inde...</td>\n",
       "    </tr>\n",
       "    <tr>\n",
       "      <td>...</td>\n",
       "      <td>...</td>\n",
       "      <td>...</td>\n",
       "      <td>...</td>\n",
       "      <td>...</td>\n",
       "    </tr>\n",
       "    <tr>\n",
       "      <td>773</td>\n",
       "      <td>chris young</td>\n",
       "      <td>relaxed</td>\n",
       "      <td>You</td>\n",
       "      <td>The bluest skies don't seem so blue And the st...</td>\n",
       "    </tr>\n",
       "    <tr>\n",
       "      <td>774</td>\n",
       "      <td>Carly Simon</td>\n",
       "      <td>relaxed</td>\n",
       "      <td>You Are My Sunshine</td>\n",
       "      <td>You are my sunshine, my only sunshine You make...</td>\n",
       "    </tr>\n",
       "    <tr>\n",
       "      <td>775</td>\n",
       "      <td>Carla Bruni</td>\n",
       "      <td>relaxed</td>\n",
       "      <td>You Belong To Me</td>\n",
       "      <td>See the pyramids along the Nile Watch the sunr...</td>\n",
       "    </tr>\n",
       "    <tr>\n",
       "      <td>776</td>\n",
       "      <td>Jason Wade</td>\n",
       "      <td>relaxed</td>\n",
       "      <td>You Belong To Me</td>\n",
       "      <td>See the pyramids along the Nile Watch the sun ...</td>\n",
       "    </tr>\n",
       "    <tr>\n",
       "      <td>777</td>\n",
       "      <td>Michael Learns To Rock</td>\n",
       "      <td>relaxed</td>\n",
       "      <td>You Took My Heart Away</td>\n",
       "      <td>Staring at the moon so blue Turning all my tho...</td>\n",
       "    </tr>\n",
       "  </tbody>\n",
       "</table>\n",
       "<p>778 rows × 4 columns</p>\n",
       "</div>"
      ],
      "text/plain": [
       "                     Artist     Mood  \\\n",
       "0                    Sum 41    angry   \n",
       "1                 Metallica    angry   \n",
       "2                 Green Day    angry   \n",
       "3                  Megadeth    angry   \n",
       "4         Roadrunner United    angry   \n",
       "..                      ...      ...   \n",
       "773             chris young  relaxed   \n",
       "774             Carly Simon  relaxed   \n",
       "775             Carla Bruni  relaxed   \n",
       "776              Jason Wade  relaxed   \n",
       "777  Michael Learns To Rock  relaxed   \n",
       "\n",
       "                                                 Name  \\\n",
       "0                                       All Messed Up   \n",
       "1                                  All Nightmare Long   \n",
       "2                      American Idiot (Album Version)   \n",
       "3                                         Angry Again   \n",
       "4    Annihilation By The Hands Of God (Album Version)   \n",
       "..                                                ...   \n",
       "773                                               You   \n",
       "774                               You Are My Sunshine   \n",
       "775                                  You Belong To Me   \n",
       "776                                  You Belong To Me   \n",
       "777                            You Took My Heart Away   \n",
       "\n",
       "                                                lyrics  \n",
       "0    Another day wasted out of time I can't get out...  \n",
       "1    Crawl from the wreckage one more time Horrific...  \n",
       "2    Don't wanna be an American idiot.  Don't want ...  \n",
       "3    The more of you that I inspect The more of me ...  \n",
       "4    The prophets of God have left you solaced inde...  \n",
       "..                                                 ...  \n",
       "773  The bluest skies don't seem so blue And the st...  \n",
       "774  You are my sunshine, my only sunshine You make...  \n",
       "775  See the pyramids along the Nile Watch the sunr...  \n",
       "776  See the pyramids along the Nile Watch the sun ...  \n",
       "777  Staring at the moon so blue Turning all my tho...  \n",
       "\n",
       "[778 rows x 4 columns]"
      ]
     },
     "execution_count": 95,
     "metadata": {},
     "output_type": "execute_result"
    }
   ],
   "source": [
    "new_df1 = pd.read_csv('new_data/Train.csv')\n",
    "new_df2 = pd.read_csv('new_data/Test.csv')\n",
    "new_df = pd.concat([new_df1,new_df2],ignore_index=True, sort=True)\n",
    "stemmer = SnowballStemmer(\"english\")\n",
    "tokenizer = RegexpTokenizer(\"[\\w’]+\", flags=re.UNICODE)\n",
    "new_df"
   ]
  },
  {
   "cell_type": "code",
   "execution_count": 96,
   "metadata": {},
   "outputs": [],
   "source": [
    "def tokenize(s):\n",
    "    s = s.lower() \n",
    "    tokens = tokenizer.tokenize(s)\n",
    "    tokens = [stemmer.stem(t) for t in tokens]\n",
    "    return tokens"
   ]
  },
  {
   "cell_type": "code",
   "execution_count": 97,
   "metadata": {},
   "outputs": [
    {
     "data": {
      "text/plain": [
       "(778, 6561)"
      ]
     },
     "execution_count": 97,
     "metadata": {},
     "output_type": "execute_result"
    }
   ],
   "source": [
    "vectorizer = TfidfVectorizer(tokenizer=tokenize, stop_words = stopwords.words('english'))\n",
    "X = vectorizer.fit_transform(new_df.lyrics)\n",
    "X.shape"
   ]
  },
  {
   "cell_type": "code",
   "execution_count": 98,
   "metadata": {},
   "outputs": [],
   "source": [
    "X_train, X_test, y_train, y_test = train_test_split(X, new_df.Mood, test_size=0.15, random_state=42)"
   ]
  },
  {
   "cell_type": "code",
   "execution_count": 108,
   "metadata": {},
   "outputs": [],
   "source": [
    "params = {'C' : np.arange(0.5,5,0.5),\n",
    "          'gamma' : np.arange(0.5,5,0.5),\n",
    "          'kernel':['linear','rbf']}\n",
    "svc = SVC()\n",
    "clf = GridSearchCV(estimator=svc, param_grid=params, n_jobs=-1)"
   ]
  },
  {
   "cell_type": "code",
   "execution_count": 109,
   "metadata": {},
   "outputs": [
    {
     "name": "stderr",
     "output_type": "stream",
     "text": [
      "C:\\ProgramData\\Anaconda3\\lib\\site-packages\\sklearn\\model_selection\\_search.py:814: DeprecationWarning: The default of the `iid` parameter will change from True to False in version 0.22 and will be removed in 0.24. This will change numeric results when test-set sizes are unequal.\n",
      "  DeprecationWarning)\n"
     ]
    },
    {
     "data": {
      "text/plain": [
       "GridSearchCV(cv='warn', error_score='raise-deprecating',\n",
       "             estimator=SVC(C=1.0, cache_size=200, class_weight=None, coef0=0.0,\n",
       "                           decision_function_shape='ovr', degree=3,\n",
       "                           gamma='auto_deprecated', kernel='rbf', max_iter=-1,\n",
       "                           probability=False, random_state=None, shrinking=True,\n",
       "                           tol=0.001, verbose=False),\n",
       "             iid='warn', n_jobs=-1,\n",
       "             param_grid={'C': array([0.5, 1. , 1.5, 2. , 2.5, 3. , 3.5, 4. , 4.5]),\n",
       "                         'gamma': array([0.5, 1. , 1.5, 2. , 2.5, 3. , 3.5, 4. , 4.5]),\n",
       "                         'kernel': ['linear', 'rbf']},\n",
       "             pre_dispatch='2*n_jobs', refit=True, return_train_score=False,\n",
       "             scoring=None, verbose=0)"
      ]
     },
     "execution_count": 109,
     "metadata": {},
     "output_type": "execute_result"
    }
   ],
   "source": [
    "clf.fit(X_train,y_train)"
   ]
  },
  {
   "cell_type": "code",
   "execution_count": 113,
   "metadata": {},
   "outputs": [
    {
     "data": {
      "text/plain": [
       "0.4188034188034188"
      ]
     },
     "execution_count": 113,
     "metadata": {},
     "output_type": "execute_result"
    }
   ],
   "source": [
    "clf.score(X_test, y_test)"
   ]
  },
  {
   "cell_type": "code",
   "execution_count": 112,
   "metadata": {},
   "outputs": [
    {
     "data": {
      "text/plain": [
       "0.42735042735042733"
      ]
     },
     "execution_count": 112,
     "metadata": {},
     "output_type": "execute_result"
    }
   ],
   "source": []
  },
  {
   "cell_type": "code",
   "execution_count": 82,
   "metadata": {},
   "outputs": [
    {
     "data": {
      "text/plain": [
       "0.4188034188034188"
      ]
     },
     "execution_count": 82,
     "metadata": {},
     "output_type": "execute_result"
    }
   ],
   "source": [
    "model.score( X_test, y_test )"
   ]
  },
  {
   "cell_type": "code",
   "execution_count": null,
   "metadata": {},
   "outputs": [],
   "source": [
    "X.shape"
   ]
  },
  {
   "cell_type": "code",
   "execution_count": 78,
   "metadata": {},
   "outputs": [
    {
     "data": {
      "text/plain": [
       "(661, 6561)"
      ]
     },
     "execution_count": 78,
     "metadata": {},
     "output_type": "execute_result"
    }
   ],
   "source": [
    "X_train.shape"
   ]
  },
  {
   "cell_type": "code",
   "execution_count": null,
   "metadata": {},
   "outputs": [],
   "source": []
  },
  {
   "cell_type": "code",
   "execution_count": null,
   "metadata": {},
   "outputs": [],
   "source": []
  },
  {
   "cell_type": "code",
   "execution_count": null,
   "metadata": {},
   "outputs": [],
   "source": [
    "tokenizer = RegexpTokenizer('\\w+|\\$[\\d\\.]+|\\S+', flags=re.UNICODE)\n",
    "tokenizer.tokenize(corpus)"
   ]
  },
  {
   "cell_type": "code",
   "execution_count": null,
   "metadata": {},
   "outputs": [],
   "source": [
    "(400, 5968)"
   ]
  },
  {
   "cell_type": "code",
   "execution_count": null,
   "metadata": {},
   "outputs": [],
   "source": [
    "vectorizer1 = TfidfVectorizer(tokenizer=tokenize, stop_words = stopwords.words('english'))\n",
    "vectorizer2 = TfidfVectorizer(stop_words = stopwords.words('english'))"
   ]
  },
  {
   "cell_type": "code",
   "execution_count": null,
   "metadata": {},
   "outputs": [],
   "source": [
    "corpus = [\n",
    "    'This is the first document.',\n",
    "    'This document is the second document.',\n",
    "    'And this is the third one.',\n",
    "    'Is this the first document?',\n",
    "]"
   ]
  },
  {
   "cell_type": "code",
   "execution_count": null,
   "metadata": {},
   "outputs": [],
   "source": [
    "X = vectorizer1.fit_transform(corpus)\n",
    "print(vectorizer.get_feature_names())\n",
    "\n",
    "print(X.shape)"
   ]
  },
  {
   "cell_type": "code",
   "execution_count": null,
   "metadata": {},
   "outputs": [],
   "source": [
    "X = vectorizer2.fit_transform(corpus)\n",
    "print(vectorizer.get_feature_names())\n",
    "\n",
    "print(X.shape)"
   ]
  },
  {
   "cell_type": "code",
   "execution_count": null,
   "metadata": {},
   "outputs": [],
   "source": []
  }
 ],
 "metadata": {
  "kernelspec": {
   "display_name": "Python 3",
   "language": "python",
   "name": "python3"
  },
  "language_info": {
   "codemirror_mode": {
    "name": "ipython",
    "version": 3
   },
   "file_extension": ".py",
   "mimetype": "text/x-python",
   "name": "python",
   "nbconvert_exporter": "python",
   "pygments_lexer": "ipython3",
   "version": "3.7.4"
  }
 },
 "nbformat": 4,
 "nbformat_minor": 2
}
