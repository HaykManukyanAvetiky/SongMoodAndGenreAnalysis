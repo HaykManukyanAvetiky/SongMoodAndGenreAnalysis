{
 "cells": [
  {
   "cell_type": "markdown",
   "metadata": {},
   "source": [
    "<h2> 1. You have 10 tulips and 10 roses. In how many ways can you plant flowers in your 4 flower gardens if: </h2>"
   ]
  },
  {
   "cell_type": "markdown",
   "metadata": {},
   "source": [
    "<h2>a. There are no any restriction</h2>"
   ]
  },
  {
   "cell_type": "markdown",
   "metadata": {},
   "source": [
    "Let's consider separately the devision of 10 tulips in 4 gardens and 10 roses into 4 gardens.  In order to divade range to 4 classes we must made 3 \"cuts\" so overall 13 \"symbols\"(by simbols I mean it is flower od cut) <img src=\"cuts.JPG\" >"
   ]
  },
  {
   "cell_type": "markdown",
   "metadata": {},
   "source": [
    "So for one type of flower is is C 13 to 3 and for both clases will be <img src=\"1a_solution.JPG\" >\n",
    "\n",
    "<h3> The answer is 81,796</h3>"
   ]
  },
  {
   "cell_type": "markdown",
   "metadata": {},
   "source": [
    "<h2> b. First flower garden has at least 1 tulip and 2 roses. </h2>"
   ]
  },
  {
   "cell_type": "markdown",
   "metadata": {},
   "source": [
    "If we pick at list 1 flower in first garden then the options for dividing decreases to 12 places <img src=\"1b_cuts.JPG\" > the arrow indicates cell since wich we can divide. So if we leave 1 tulip and 2 roses solution will be <img src=\"1b_solution.JPG\" >\n",
    "\n",
    "<h3> The answer is 36,300 </h3>"
   ]
  },
  {
   "cell_type": "markdown",
   "metadata": {},
   "source": [
    "<h2> c. Each flower garden has at least one flower </h2>"
   ]
  },
  {
   "cell_type": "markdown",
   "metadata": {},
   "source": [
    "So overall we have 81796 cases  which include cases when 1 gardensis empty, 2 gardens are empty and 3 gardens are empty. Lets look one by one:\n",
    "<h4> if  1 garden is empty </h4>\n",
    "There are 4 gardens and one of them is empty so tere are 4 cases also in each case the flouers are spread in remaining three gardens diferently. To spread flowers between 3 gardens will be <img src=\"1c_part1.JPG\" > and total cases will be <h3> 4*4,356 = 17424 </h3> \n",
    "<h4> if  2 gardens are empty </h4>\n",
    "There are 6 cases which two gardens can be empty(C4 to 2 is 6) and each of them hase diferent spread of flowers between remained 2. the spread cases are <img src=\"1c_part2.JPG\" > and total cases will be <h3> 6*121 = 726 </h3> \n",
    "<h4> and  if  3 gardens are empty </h4>\n",
    "There are simply only 4 cases because all flowers in remained 1 garden\n",
    "So overall cases with empty garden(s) are\n",
    "<h3> 17424 + 726 + 4 =  18,154 </h3>\n",
    "Now lets substrack from total and get the answe\n",
    "\n",
    "<h3> 81,796 - 18,154 = 63,642 </h3>\n",
    "<h3> The answer is 63,642 </h3>"
   ]
  },
  {
   "cell_type": "markdown",
   "metadata": {},
   "source": [
    "<h2> 2. There are 10 cat images, machine learning algorithm can differentiate exactly 7 of them. Testing process consist of a random selection of 5 of 10 cat images. What is the probability that algorithm will differentiate correctly: </h2>"
   ]
  },
  {
   "cell_type": "markdown",
   "metadata": {},
   "source": [
    "  <h2>  a. all 5 images </h2>"
   ]
  },
  {
   "cell_type": "code",
   "execution_count": 1,
   "metadata": {},
   "outputs": [],
   "source": [
    "import numpy as np\n",
    "import pandas as pd\n",
    "import matplotlib.pyplot as plt\n",
    "%matplotlib Inline"
   ]
  },
  {
   "cell_type": "code",
   "execution_count": 2,
   "metadata": {},
   "outputs": [],
   "source": [
    "# 1 for those that machine can differentiate 0 for thos from wich can't\n",
    "# generating samples\n",
    "SAMPLE_SIZE = 1000000\n",
    "samples = pd.DataFrame(([np.random.choice([1,1,1,1,1,1,1,0,0,0], size=5) for i in range(SAMPLE_SIZE)]))"
   ]
  },
  {
   "cell_type": "code",
   "execution_count": 3,
   "metadata": {},
   "outputs": [],
   "source": [
    "# counting valid classified samples\n",
    "\n",
    "counted = samples.sum(axis=1)"
   ]
  },
  {
   "cell_type": "code",
   "execution_count": 4,
   "metadata": {},
   "outputs": [
    {
     "data": {
      "text/plain": [
       "4    0.359749\n",
       "3    0.308743\n",
       "5    0.168192\n",
       "2    0.132572\n",
       "1    0.028327\n",
       "0    0.002417\n",
       "dtype: float64"
      ]
     },
     "execution_count": 4,
     "metadata": {},
     "output_type": "execute_result"
    }
   ],
   "source": [
    "# Counting persantage of 5s\n",
    "\n",
    "counted.value_counts()/SAMPLE_SIZE"
   ]
  },
  {
   "cell_type": "markdown",
   "metadata": {},
   "source": [
    "<h3>The answer is ~17%</h3>"
   ]
  },
  {
   "cell_type": "markdown",
   "metadata": {},
   "source": [
    "<h2> b. at least 4 of 5</h2>"
   ]
  },
  {
   "cell_type": "markdown",
   "metadata": {},
   "source": [
    "<h3> The answer is ~53% </h3>"
   ]
  },
  {
   "cell_type": "markdown",
   "metadata": {},
   "source": [
    "<h2>4. A repeated appearance of the same symbol in a sequence is called a \"run\". For example the sequence 0111001 contains four runs: 0, 111, 00, and 1; the sequence 00010 contains three runs: 000, 1, and 0; and the sequence 111 contains a single run -- the sequence itself.</h2>"
   ]
  },
  {
   "cell_type": "code",
   "execution_count": 5,
   "metadata": {},
   "outputs": [],
   "source": [
    "def get_runs(seq):\n",
    "    \"\"\"\n",
    "    Calculates the run of requence.\n",
    "    A repeated appearance of the same symbol in a sequence is called a \"run\".\n",
    "    \"\"\"\n",
    "    res = 1\n",
    "    for i in range(1, seq.size):      \n",
    "        if seq[i] != seq[i-1]:\n",
    "            res+=1\n",
    "    return res"
   ]
  },
  {
   "cell_type": "markdown",
   "metadata": {},
   "source": [
    "<h2> a. Find the expected number of runs in the random sequence X1X2 where X1 and X2 are independent B2/3 (Bernoulli with parameter 2/3) random variables. For example, if X1=1 and X2=0 , the sequence is 10 and has 2 runs. </h2>"
   ]
  },
  {
   "cell_type": "code",
   "execution_count": 6,
   "metadata": {},
   "outputs": [],
   "source": [
    "# Generating Samples \n",
    "\n",
    "samples = np.array([np.random.choice([0,1],p=[1/3,2/3], size=2) for i in range(10000)])"
   ]
  },
  {
   "cell_type": "code",
   "execution_count": 7,
   "metadata": {},
   "outputs": [
    {
     "data": {
      "text/plain": [
       "(array([5545.,    0.,    0.,    0.,    0.,    0.,    0.,    0.,    0.,\n",
       "        4455.]),\n",
       " array([1. , 1.1, 1.2, 1.3, 1.4, 1.5, 1.6, 1.7, 1.8, 1.9, 2. ]),\n",
       " <a list of 10 Patch objects>)"
      ]
     },
     "execution_count": 7,
     "metadata": {},
     "output_type": "execute_result"
    },
    {
     "data": {
      "image/png": "[encoded data removed]",
      "text/plain": [
       "<Figure size 432x288 with 1 Axes>"
      ]
     },
     "metadata": {
      "needs_background": "light"
     },
     "output_type": "display_data"
    }
   ],
   "source": [
    "# counting which case is more probably\n",
    "\n",
    "plt.hist(np.apply_along_axis(get_runs,1,samples))"
   ]
  },
  {
   "cell_type": "markdown",
   "metadata": {},
   "source": [
    "<h3> So the answer is 1 </h3>"
   ]
  },
  {
   "cell_type": "markdown",
   "metadata": {},
   "source": [
    "<h2> b. Find the expected number of runs in the random sequence X1X2X3X4X5 , where all Xi 's are independent B2/3 random variables. </h2>"
   ]
  },
  {
   "cell_type": "code",
   "execution_count": 8,
   "metadata": {},
   "outputs": [],
   "source": [
    "# Generating Samples \n",
    "\n",
    "samples = np.array([np.random.choice([0,1],p=[1/3,2/3], size=5) for i in range(100000)])"
   ]
  },
  {
   "cell_type": "code",
   "execution_count": 9,
   "metadata": {},
   "outputs": [
    {
     "data": {
      "image/png": "[encoded data removed]",
      "text/plain": [
       "<Figure size 432x288 with 1 Axes>"
      ]
     },
     "metadata": {
      "needs_background": "light"
     },
     "output_type": "display_data"
    }
   ],
   "source": [
    "# counting which case is more probably\n",
    "\n",
    "plt.hist(np.apply_along_axis(get_runs,1,samples));"
   ]
  },
  {
   "cell_type": "markdown",
   "metadata": {},
   "source": [
    "<h3> So the answer is 3 </h3>"
   ]
  },
  {
   "cell_type": "markdown",
   "metadata": {},
   "source": [
    "<h2> 3. An urn contains one red and one black ball. Each time, a ball is drawn independently at random from the urn, and then returned to the urn along with another ball of the same color. For example, if the first ball drawn is red, the urn will subsequently contain two red balls and one black ball. </h2>"
   ]
  },
  {
   "cell_type": "markdown",
   "metadata": {},
   "source": [
    "This is the tough one, It is called Polya's urn if I am not mistacken"
   ]
  },
  {
   "cell_type": "markdown",
   "metadata": {},
   "source": [
    "<h2> a. What is the probability of observing 3 red and 2 black balls? </h2>"
   ]
  },
  {
   "cell_type": "markdown",
   "metadata": {},
   "source": [
    "lets mark change rate for red as K = 1 and for blue Y = 1 and consider the following choice rbrbr, The probability for that will be <img src=\"unexpected_sym.JPG\" > If we look closly we will se that the buttom part of eqution remains the same as K=Y and upper part as well just change order so we can say that <h4>P(bbbrr) = P(rbrbb)</h4>. so for overall case <img src=\"unexpected_equation.JPG\"> and probabiliti for 3red and 2 black will be <img src=\"unexpected_sol_a.JPG\">\n",
    "\n",
    "<h3> The answer is 0.167</h3>"
   ]
  },
  {
   "cell_type": "markdown",
   "metadata": {},
   "source": [
    "<h2> b. What is the probability of observing 7 red and 9 black balls? </h2>"
   ]
  },
  {
   "cell_type": "markdown",
   "metadata": {},
   "source": [
    "Similarly lets calculate P(brbrbrbrbrbrbrbb) and if we look closely to calculation of P(brbrbrbrbrbrbrbb) we will see the patern <img src=\"Unexpected_patern.JPG\"> lets calculate this in numpy"
   ]
  },
  {
   "cell_type": "code",
   "execution_count": 15,
   "metadata": {},
   "outputs": [],
   "source": [
    "u = np.array([[i,i] for i in range(1,8)]).flatten()\n",
    "b = np.array([i for i in range(2,16)])"
   ]
  },
  {
   "cell_type": "code",
   "execution_count": 16,
   "metadata": {},
   "outputs": [],
   "source": [
    "P=(u/b).prod()*(8/16)*(9/17)"
   ]
  },
  {
   "cell_type": "markdown",
   "metadata": {},
   "source": [
    "So the overall probability will be <img src=\"unexpected_7r9b.JPG\">"
   ]
  },
  {
   "cell_type": "code",
   "execution_count": 17,
   "metadata": {},
   "outputs": [],
   "source": [
    "C=np.array([i for i in range(16,9,-1)]).prod()/ np.array([i for i in range(1,8)]).prod()"
   ]
  },
  {
   "cell_type": "code",
   "execution_count": 18,
   "metadata": {},
   "outputs": [
    {
     "data": {
      "text/plain": [
       "0.05882352941176469"
      ]
     },
     "execution_count": 18,
     "metadata": {},
     "output_type": "execute_result"
    }
   ],
   "source": [
    "P*C"
   ]
  },
  {
   "cell_type": "markdown",
   "metadata": {},
   "source": [
    "<h3> The answer is 0.0588</h3>"
   ]
  },
  {
   "cell_type": "markdown",
   "metadata": {},
   "source": [
    "<h2> 5. There are 5 traffic signals between your home and work. Each is red with probability 0.35 , independently of all others. Find: </h2>"
   ]
  },
  {
   "cell_type": "markdown",
   "metadata": {},
   "source": [
    "<h2> a. the probability of encountering no red lights, </h2>"
   ]
  },
  {
   "cell_type": "markdown",
   "metadata": {},
   "source": [
    "The probability do not come across with light other than red is 1 - 0.35 = 0.65, as the lights are independet having same situation 3 time is 0.65^3"
   ]
  },
  {
   "cell_type": "markdown",
   "metadata": {},
   "source": [
    "<h3> So the answer is ~0.27 or 27% </h3>"
   ]
  },
  {
   "cell_type": "markdown",
   "metadata": {},
   "source": [
    "<h2> b. the probability of encountering only red lights, </h2>"
   ]
  },
  {
   "cell_type": "markdown",
   "metadata": {},
   "source": [
    "<h3> The answer is 0.35**3 which is  ~0.04 or 4% </h3>"
   ]
  },
  {
   "cell_type": "markdown",
   "metadata": {},
   "source": [
    "<h2> c. the expected number of red lights you will encounter. </h2>"
   ]
  },
  {
   "cell_type": "code",
   "execution_count": 10,
   "metadata": {},
   "outputs": [],
   "source": [
    "# Generating Samples \n",
    "\n",
    "samples = np.array([np.random.choice([0,1],p=[0.65,0.35], size=3) for i in range(100000)])"
   ]
  },
  {
   "cell_type": "code",
   "execution_count": 11,
   "metadata": {},
   "outputs": [
    {
     "data": {
      "image/png": "[encoded data removed]",
      "text/plain": [
       "<Figure size 432x288 with 1 Axes>"
      ]
     },
     "metadata": {
      "needs_background": "light"
     },
     "output_type": "display_data"
    }
   ],
   "source": [
    "plt.hist(samples.sum(axis=1));"
   ]
  },
  {
   "cell_type": "markdown",
   "metadata": {},
   "source": [
    "<h3> So the answer is 1 </h3>"
   ]
  },
  {
   "cell_type": "markdown",
   "metadata": {},
   "source": [
    "<h2> 7. To find the average SAT verbal score in a class, six students are sampled and their scores are 560, 610, 500, 470, 660, and 640. Assuming that students' SAT verbal scores follow normal distribution, what is the upper limit for the confidence interval of the distribution mean with confidence level 90%? </h2>"
   ]
  },
  {
   "cell_type": "code",
   "execution_count": 12,
   "metadata": {},
   "outputs": [],
   "source": [
    "# Lets du some Bootstrapping\n",
    "\n",
    "samples = np.array([np.random.choice([560, 610, 500, 470, 660, 640], size = 6, replace=True).mean() for _ in range(10000)])"
   ]
  },
  {
   "cell_type": "code",
   "execution_count": 13,
   "metadata": {},
   "outputs": [
    {
     "data": {
      "image/png": "[encoded data removed]",
      "text/plain": [
       "<Figure size 432x288 with 1 Axes>"
      ]
     },
     "metadata": {
      "needs_background": "light"
     },
     "output_type": "display_data"
    }
   ],
   "source": [
    "plt.hist(samples);"
   ]
  },
  {
   "cell_type": "code",
   "execution_count": 14,
   "metadata": {},
   "outputs": [
    {
     "name": "stdout",
     "output_type": "stream",
     "text": [
      "With 90% confidence we can say that population mean will be between  526.6666666666666  and  620.0\n"
     ]
    }
   ],
   "source": [
    "# samples_normal = np.random.normal(samples.mean(), samples.std(), size=10000) No ned values are too close \n",
    "print(\"With 90% confidence we can say that population mean will be between \", np.percentile(samples, 5), \" and \",  np.percentile(samples, 95))"
   ]
  },
  {
   "cell_type": "markdown",
   "metadata": {},
   "source": [
    "<h3> So the answer is 620 </h3>"
   ]
  },
  {
   "cell_type": "markdown",
   "metadata": {},
   "source": [
    "<h2> 9. What is hypothesis testing, explain for non-mathematician person. </h2>"
   ]
  },
  {
   "cell_type": "markdown",
   "metadata": {},
   "source": [
    "Lets say you made some assumption. And you basically haven't proved or haven't knew exactly is it right. Hypothesis testing is a method to find out that. The process is pretty intuitively . Lets assume you have some data that represents your assumption, for example lets say that you make assumption or hypothesis  that mean height of Armenian man is 1.7 miers, and you have heights of many many many Armenians. If keep things really simple you can calculate mean from your data and compare with your hypothesis, if ist is right you can follow along with that if not you can make new assumption."
   ]
  },
  {
   "cell_type": "markdown",
   "metadata": {},
   "source": [
    "<h2> 10. You have a neural network with three fully connected layers, each containing 800 nodes. Approximately how many total edges does this graph have? </h2>"
   ]
  },
  {
   "cell_type": "markdown",
   "metadata": {},
   "source": [
    "<h3> So if every neuron connected with other one there must be approximately 800**3 connections which is 512 milion </h3>"
   ]
  },
  {
   "cell_type": "markdown",
   "metadata": {},
   "source": [
    "<h2> 11. What is the unit vector in the same direction as (3,2,2,2,2) </h2>"
   ]
  },
  {
   "cell_type": "markdown",
   "metadata": {},
   "source": [
    "<h3> So Unit vector is vector which lenght is 1, so we need to \"normalize\" this vector to 1. the (3,2,2,2,2) vectors lenght is 5 (sqrt(9+4+4+4+4) = 5). So unit vectore will be (0.6,0.4,0.4,0.4,0.4) </h3>"
   ]
  },
  {
   "cell_type": "markdown",
   "metadata": {},
   "source": [
    "<h2> 8. Please explain me what eigenvalues and eigenvectors are, assume that I am zero in math.  </h2>"
   ]
  },
  {
   "cell_type": "markdown",
   "metadata": {},
   "source": [
    "Imagine 3D space and some figure let's say cube in it. Imagine that you rotate that cube around some axis or vector. During that rotation the vector around which you rotate stays the same and that vector called eigenvector, If you during rotation also scale cube the centre vector will just become longer or shorter. That scale factor called eigenvalue. To generalize the eigenvector stays the same or just scales on its own line during rotation or scaling. By the way rotation and scaling more mathematically called linear transformations and eigenvectors are those vectors that remain the same or change scale by eigenvalue after transformation."
   ]
  },
  {
   "cell_type": "markdown",
   "metadata": {},
   "source": [
    "<h2> Then find eigenvalues and eigenvectors: </h2>\n",
    "<img src=\"matrix.JPG\">"
   ]
  },
  {
   "cell_type": "markdown",
   "metadata": {},
   "source": [
    "First lets find eigenvalue:\n",
    "det(A − LI) = o\n",
    "It comes from definition of eigenvektor Av = Lv(1)\n",
    "where A iz matrix\n",
    "v is eigenvector \n",
    "and L is eigen value\n",
    "I is identity matrix(ones in diagonal, remaining 0) \n",
    "So L = LI from 1 we can say taht Av - LIv = 0 => v(A-LI) = 0\n",
    "v cud not be 0 it is senceless \n",
    "so det(A-LI) = 0+\n",
    "\n",
    "A-LI = [[-1-L,2,2],[2,2-L,-1],[2,-1,2-L]] \n",
    "so determinant by first row will be .\n",
    "det = (-1-L)[[2-L,-1],[-1,2-L]] - 2[[2,-1],[2,2-L]] + 2[[2,2-L],[2,-1]] =\n",
    "=(-1-L)((2-L)*(2-L) - (-1)*(-1)) -2(2*(2-L) -(-1)*2) +2(2*(-1)-(2-L)*2) =>\n",
    "-L\\*\\*3 + 3L\\*\\*2 + 9L -27=0 => L=3"
   ]
  },
  {
   "cell_type": "markdown",
   "metadata": {},
   "source": [
    "Now A − LI matixs will be \n",
    "[[-4,2,2],[2,-1,-1],[2,-1,-1]]\n",
    "Now lets form  augmented matrix and do some linear transformations\n",
    "<img src=\"transforms.JPG\">"
   ]
  },
  {
   "cell_type": "markdown",
   "metadata": {},
   "source": [
    "Now we can see that any vector which values satisfy the equationis a eigenvector\n",
    "<p>  2x-y-z=0 </p>\n",
    "for example (1,1,1) vector "
   ]
  },
  {
   "cell_type": "markdown",
   "metadata": {},
   "source": [
    "<h2> 6. Let X ̴N (0; 1) and Y ̴N (2;2) independently. Find the constant C such that: </h2>\n",
    "<h2> a. P (X + 2Y < =C)= P (7X - 4Y=>10) </h2>\n"
   ]
  },
  {
   "cell_type": "markdown",
   "metadata": {},
   "source": [
    "<h2> To be honest I've not understand the notion and exercise </h2>"
   ]
  }
 ],
 "metadata": {
  "kernelspec": {
   "display_name": "Python 3",
   "language": "python",
   "name": "python3"
  },
  "language_info": {
   "codemirror_mode": {
    "name": "ipython",
    "version": 3
   },
   "file_extension": ".py",
   "mimetype": "text/x-python",
   "name": "python",
   "nbconvert_exporter": "python",
   "pygments_lexer": "ipython3",
   "version": "3.7.4"
  }
 },
 "nbformat": 4,
 "nbformat_minor": 2
}
