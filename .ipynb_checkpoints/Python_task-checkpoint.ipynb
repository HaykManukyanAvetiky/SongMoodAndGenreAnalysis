{
 "cells": [
  {
   "cell_type": "code",
   "execution_count": 1,
   "metadata": {},
   "outputs": [],
   "source": [
    "import pandas as pd\n",
    "import warnings\n",
    "warnings.filterwarnings('ignore')"
   ]
  },
  {
   "cell_type": "markdown",
   "metadata": {},
   "source": [
    "<h2> Loading and concating data </h2>"
   ]
  },
  {
   "cell_type": "code",
   "execution_count": 2,
   "metadata": {},
   "outputs": [],
   "source": [
    "data = []\n",
    "for i in range(1,6):\n",
    "    tmp_df = pd.read_csv(f'data/data{i}.csv')\n",
    "    tmp_df.columns =['Artist', 'Name', 'Year', 'Popularity', 'genre', 'lyrics'] \n",
    "    data.append(tmp_df)\n",
    "df = pd.concat(data,ignore_index=True, sort=True)\n",
    "df.to_csv('out/total_data.csv')"
   ]
  },
  {
   "cell_type": "code",
   "execution_count": 3,
   "metadata": {},
   "outputs": [],
   "source": [
    "# replace \\r\\n with space in Lyrics\n",
    "df.lyrics = df.lyrics.str.replace('\\r\\n', ' ')"
   ]
  },
  {
   "cell_type": "code",
   "execution_count": 4,
   "metadata": {},
   "outputs": [],
   "source": [
    "# extract gener\n",
    "df.genre = df.genre.apply(lambda x: x[7:x.find('\").setTar')])"
   ]
  },
  {
   "cell_type": "code",
   "execution_count": 5,
   "metadata": {},
   "outputs": [
    {
     "data": {
      "text/plain": [
       "array(['Rock', 'Pop', 'Other', 'Country', 'RB', '', 'HipHop', 'Jazz',\n",
       "       'Folk', 'Electronic', 'Indie'], dtype=object)"
      ]
     },
     "execution_count": 5,
     "metadata": {},
     "output_type": "execute_result"
    }
   ],
   "source": [
    "df.genre.unique()"
   ]
  },
  {
   "cell_type": "code",
   "execution_count": 6,
   "metadata": {},
   "outputs": [],
   "source": [
    "# sepaarate mising genre\n",
    "df_mis_gen = df[df.genre ==\"\"]\n",
    "df = df[df.genre !=\"\"]"
   ]
  },
  {
   "cell_type": "code",
   "execution_count": 7,
   "metadata": {},
   "outputs": [],
   "source": [
    "#fixing Bob Marley's genre\n",
    "bob = df_mis_gen[df_mis_gen.Artist == 'Bob Marley']\n",
    "bob.genre = 'Folk'\n",
    "df = pd.concat([df,bob],ignore_index=True, sort=True)"
   ]
  },
  {
   "cell_type": "code",
   "execution_count": 8,
   "metadata": {},
   "outputs": [],
   "source": [
    "#fixing Zack Knight's genre\n",
    "zak = df_mis_gen[df_mis_gen.Artist == 'Zack Knight']\n",
    "zak.genre = 'RB'\n",
    "df = pd.concat([df,zak],ignore_index=True, sort=True)"
   ]
  },
  {
   "cell_type": "code",
   "execution_count": 9,
   "metadata": {},
   "outputs": [],
   "source": [
    "# saving missing genre\n",
    "df_mis_gen.to_csv(\"out/missing_genre.csv\")"
   ]
  },
  {
   "cell_type": "code",
   "execution_count": 10,
   "metadata": {},
   "outputs": [],
   "source": [
    "# saving rows that contain missing values\n",
    "df[df.isnull().values.any(axis=1)].to_csv('out/mising_val.csv')"
   ]
  },
  {
   "cell_type": "code",
   "execution_count": 11,
   "metadata": {},
   "outputs": [],
   "source": [
    "#dropp mising value containing rows\n",
    "df = df[~df.isnull().values.any(axis=1)]"
   ]
  },
  {
   "cell_type": "code",
   "execution_count": 12,
   "metadata": {},
   "outputs": [],
   "source": [
    "# save dublicated rows\n",
    "df[df[['Artist', 'Name' ]].duplicated()].sort_values(['Artist', 'Name' ]).to_csv('out/dublicated.csv')"
   ]
  },
  {
   "cell_type": "code",
   "execution_count": 13,
   "metadata": {},
   "outputs": [],
   "source": [
    "#drop duplicates\n",
    "df = df[~df[['Artist', 'Name' ]].duplicated()]"
   ]
  },
  {
   "cell_type": "markdown",
   "metadata": {},
   "source": [
    "<h2> four informative visualizations </h2>"
   ]
  },
  {
   "cell_type": "code",
   "execution_count": 34,
   "metadata": {},
   "outputs": [],
   "source": [
    "import seaborn as sns\n",
    "import matplotlib.pyplot as plt\n",
    "sns.set(color_codes=True)\n",
    "from matplotlib.pyplot import figure\n",
    "%matplotlib Inline"
   ]
  },
  {
   "cell_type": "markdown",
   "metadata": {},
   "source": [
    "<h2> The avarage popularity af every gener </h2>"
   ]
  },
  {
   "cell_type": "code",
   "execution_count": 15,
   "metadata": {},
   "outputs": [
    {
     "data": {
      "image/png": "[encoded data removed]",
      "text/plain": [
       "<Figure size 960x640 with 1 Axes>"
      ]
     },
     "metadata": {},
     "output_type": "display_data"
    }
   ],
   "source": [
    "tmp = df[['genre','Popularity']].groupby('genre').mean()\n",
    "fig = figure(num=None, figsize=(12, 8), dpi=80, facecolor='w', edgecolor='k')\n",
    "sns.barplot(x=tmp.index, y=tmp.Popularity, color='b');\n",
    "plt.xlabel('Genre', fontsize=18)\n",
    "plt.ylabel('Popularity', fontsize=18);"
   ]
  },
  {
   "cell_type": "markdown",
   "metadata": {},
   "source": [
    "<h3> The chart show that Indie, R&B and Electronic are the most unpopular genres oppositely Jazz which of course the most popular for all times </h3>"
   ]
  },
  {
   "cell_type": "code",
   "execution_count": 16,
   "metadata": {
    "scrolled": true
   },
   "outputs": [],
   "source": [
    "from ipywidgets import interact, widgets"
   ]
  },
  {
   "cell_type": "markdown",
   "metadata": {},
   "source": [
    "<h2> Time serries that shows yearly made songs in every genre and genre popularity </h2>"
   ]
  },
  {
   "cell_type": "code",
   "execution_count": 17,
   "metadata": {
    "scrolled": false
   },
   "outputs": [],
   "source": [
    "grouped_mean = df[['Year','genre','Popularity']].groupby(['Year','genre']).mean()\n",
    "grouped_count = df[['Year','genre','Popularity']].groupby(['Year','genre']).count()\n",
    "def plotyear(year): \n",
    "    fig = figure(num=None, figsize=(18, 10), dpi=80, facecolor='w', edgecolor='k');\n",
    "    x = grouped_count.loc[year].Popularity\n",
    "    y = grouped_mean.loc[year].Popularity\n",
    "    ax = sns.scatterplot(x=x, y=y, s=250)\n",
    "    plt.xlabel('Number of songs in that genre', fontsize=20)\n",
    "    plt.ylabel('Avarage popularity of genre', fontsize=20)\n",
    "    ax.set_ylim([0,100])\n",
    "    for i in list(list(x.index)):\n",
    "        ax.text(x[i],y[i],i, fontsize=35, verticalalignment='bottom')"
   ]
  },
  {
   "cell_type": "code",
   "execution_count": 18,
   "metadata": {},
   "outputs": [
    {
     "data": {
      "application/vnd.jupyter.widget-view+json": {
       "model_id": "09c1d0e2c9824f4a94db7f3286378aa3",
       "version_major": 2,
       "version_minor": 0
      },
      "text/plain": [
       "interactive(children=(IntSlider(value=2015, description='year', max=2018, min=1990), Output()), _dom_classes=(…"
      ]
     },
     "metadata": {},
     "output_type": "display_data"
    }
   ],
   "source": [
    "interact(plotyear, year=widgets.IntSlider(min=1990, max=2018, step=1, value=2015));"
   ]
  },
  {
   "cell_type": "markdown",
   "metadata": {},
   "source": [
    "<h2> The  time series shows that after 2000 the amount of Rock and Pop songs significantly larger than other genres, also Jazz songs tipically  announced in fewer countities but they typically are on top of popularity, another thing is that at 2015 year genre Indie is outsider becouse of low popularity and so on </h2>"
   ]
  },
  {
   "cell_type": "code",
   "execution_count": 19,
   "metadata": {},
   "outputs": [],
   "source": [
    "from scipy import stats"
   ]
  },
  {
   "cell_type": "markdown",
   "metadata": {},
   "source": [
    "<h2> The mean popularity of each artist</h2>"
   ]
  },
  {
   "cell_type": "code",
   "execution_count": 20,
   "metadata": {},
   "outputs": [],
   "source": [
    "grouped = df[['Artist','Popularity', 'Year']].groupby(['Artist','Year']).apply(func=stats.hmean)"
   ]
  },
  {
   "cell_type": "code",
   "execution_count": 21,
   "metadata": {},
   "outputs": [],
   "source": [
    "def plot_artist(artist):\n",
    "    fig = figure(num=None, figsize=(18, 10), dpi=80, facecolor='w', edgecolor='k');\n",
    "    data = grouped[artist]\n",
    "    ax = sns.scatterplot(x=data.index, y=data.values, s=300)\n",
    "    plt.xlabel('Year', fontsize=20)\n",
    "    plt.ylabel('Avarage popularity of Artist', fontsize=20);\n",
    "    plt.title(artist, fontsize=30)\n",
    "    ax.tick_params(axis='x', labelsize=15 )\n",
    "    ax.tick_params(axis='y', labelsize=15 )\n",
    "    ax.set_ylim([0,100])"
   ]
  },
  {
   "cell_type": "code",
   "execution_count": 22,
   "metadata": {
    "scrolled": false
   },
   "outputs": [
    {
     "data": {
      "application/vnd.jupyter.widget-view+json": {
       "model_id": "0127bca27e5242078a6f63fcf524d9a4",
       "version_major": 2,
       "version_minor": 0
      },
      "text/plain": [
       "interactive(children=(Dropdown(description='Artist:', index=3, options=('Atif Aslam', 'ABBA', 'Arijit Singh', …"
      ]
     },
     "metadata": {},
     "output_type": "display_data"
    }
   ],
   "source": [
    "interact(plot_artist, artist=widgets.Dropdown(options=df.Artist.unique(), value='Adele',  description='Artist:'));"
   ]
  },
  {
   "cell_type": "markdown",
   "metadata": {},
   "source": [
    "<h2> The following heatmap shows how the number of songs announced every year dramaticaly increase compering a few Folk and Rock songs in 70s to 2000s. It also shows development of each genre, for exaple accordig our data Country genre achives to it popularity in mining of new songs around 2005, RB starts to become popular since 1995  </h2> "
   ]
  },
  {
   "cell_type": "code",
   "execution_count": 23,
   "metadata": {
    "scrolled": false
   },
   "outputs": [
    {
     "data": {
      "image/png": "[encoded data removed]",
      "text/plain": [
       "<Figure size 1440x800 with 2 Axes>"
      ]
     },
     "metadata": {},
     "output_type": "display_data"
    }
   ],
   "source": [
    "sns.set_style(\"whitegrid\")\n",
    "fig = figure(num=None, figsize=(18, 10), dpi=80, facecolor='w', edgecolor='k');\n",
    "df2 = grouped_count.reset_index().pivot(columns='Year',index='genre',values='Popularity')\n",
    "ax = sns.heatmap(df2,cmap=\"Blues\", vmin=-50, vmax=200);\n",
    "ax.tick_params(axis='x', labelsize=15 );\n",
    "ax.tick_params(axis='y', labelsize=13 );\n",
    "plt.xlabel('Year', fontsize=20)\n",
    "plt.ylabel('Gener', fontsize=20);"
   ]
  },
  {
   "cell_type": "code",
   "execution_count": 25,
   "metadata": {},
   "outputs": [],
   "source": [
    "# removing hindi text and special signs, leaving onli latin text\n",
    "df.lyrics = df.lyrics.str.replace(r'[\\.,:]', \" \")\n",
    "df.lyrics = df.lyrics.str.replace(r'[^a-zA-Z\\ ]', \"\")\n",
    "df.lyrics = df.lyrics.str.strip()"
   ]
  },
  {
   "cell_type": "code",
   "execution_count": 26,
   "metadata": {},
   "outputs": [],
   "source": [
    "# saving songs with very short lyrics, instrumental you can feel it and such kind of staff\n",
    "df[df.lyrics.str.len() <= 60].to_csv('out/uncertain_lirics.csv')"
   ]
  },
  {
   "cell_type": "code",
   "execution_count": 27,
   "metadata": {
    "scrolled": false
   },
   "outputs": [],
   "source": [
    "# remov songs with very short lyrics\n",
    "df = df[df.lyrics.str.len() > 60]"
   ]
  },
  {
   "cell_type": "code",
   "execution_count": 28,
   "metadata": {},
   "outputs": [],
   "source": [
    "#ABBA\tHamlet III Lyrics story beside of lirics\n",
    "ind = df[df.Artist == 'ABBA'][df.Name =='Hamlet III Lyrics'].index\n",
    "df.drop(ind, inplace=True)"
   ]
  },
  {
   "cell_type": "code",
   "execution_count": 29,
   "metadata": {},
   "outputs": [],
   "source": [
    "df.to_csv('out/clean_data.csv')"
   ]
  },
  {
   "cell_type": "markdown",
   "metadata": {},
   "source": [
    "<h1> sentiment and polarity of each song </h1>"
   ]
  },
  {
   "cell_type": "code",
   "execution_count": 2,
   "metadata": {},
   "outputs": [],
   "source": [
    "import numpy as np\n",
    "from sklearn.feature_extraction.text import TfidfVectorizer \n",
    "from sklearn.decomposition import TruncatedSVD\n",
    "from nltk.corpus import stopwords\n",
    "from nltk.stem import SnowballStemmer\n",
    "from nltk.tokenize import word_tokenize,RegexpTokenizer\n",
    "from sklearn.svm import SVC\n",
    "from sklearn.naive_bayes import MultinomialNB\n",
    "from sklearn.model_selection import train_test_split, GridSearchCV, cross_val_score"
   ]
  },
  {
   "cell_type": "markdown",
   "metadata": {},
   "source": [
    "<h3> I found dataset with lyrics and mood of song , so I can make classifier based on lirics\n",
    " Downside the songs are different and  only  in english </h2>"
   ]
  },
  {
   "cell_type": "code",
   "execution_count": 3,
   "metadata": {},
   "outputs": [],
   "source": [
    "import re"
   ]
  },
  {
   "cell_type": "code",
   "execution_count": 11,
   "metadata": {},
   "outputs": [],
   "source": [
    "df = pd.read_csv('out/clean_data.csv')"
   ]
  },
  {
   "cell_type": "code",
   "execution_count": 4,
   "metadata": {},
   "outputs": [],
   "source": [
    "new_df1 = pd.read_csv('new_data/Train.csv')\n",
    "new_df2 = pd.read_csv('new_data/Test.csv')\n",
    "\n",
    "new_df = pd.concat([new_df1,new_df2],ignore_index=True, sort=True)\n",
    "\n",
    "stemmer = SnowballStemmer(\"english\")\n",
    "tokenizer = RegexpTokenizer(\"[\\w’]+\", flags=re.UNICODE)\n"
   ]
  },
  {
   "cell_type": "code",
   "execution_count": 5,
   "metadata": {},
   "outputs": [],
   "source": [
    "def tokenize(s):\n",
    "    s = s.lower() \n",
    "    tokens = tokenizer.tokenize(s)\n",
    "    tokens = [stemmer.stem(t) for t in tokens]\n",
    "    return tokens"
   ]
  },
  {
   "cell_type": "code",
   "execution_count": 7,
   "metadata": {},
   "outputs": [
    {
     "data": {
      "text/plain": [
       "(778, 6561)"
      ]
     },
     "execution_count": 7,
     "metadata": {},
     "output_type": "execute_result"
    }
   ],
   "source": [
    "vectorizer = TfidfVectorizer(tokenizer = tokenize ,  stop_words =stopwords.words('english'))\n",
    "X = vectorizer.fit_transform(new_df.lyrics)\n",
    "X.shape"
   ]
  },
  {
   "cell_type": "code",
   "execution_count": 8,
   "metadata": {},
   "outputs": [],
   "source": [
    "X_train, X_test, y_train, y_test = train_test_split(X, new_df.Mood, test_size=0.1, random_state=42)"
   ]
  },
  {
   "cell_type": "code",
   "execution_count": 9,
   "metadata": {},
   "outputs": [],
   "source": [
    "params = {'alpha' : np.arange(0,1,0.2)}\n",
    "nb = MultinomialNB()\n",
    "clf = GridSearchCV(estimator=nb, param_grid=params, n_jobs=-1)"
   ]
  },
  {
   "cell_type": "code",
   "execution_count": 10,
   "metadata": {},
   "outputs": [
    {
     "data": {
      "text/plain": [
       "GridSearchCV(cv='warn', error_score='raise-deprecating',\n",
       "             estimator=MultinomialNB(alpha=1.0, class_prior=None,\n",
       "                                     fit_prior=True),\n",
       "             iid='warn', n_jobs=-1,\n",
       "             param_grid={'alpha': array([0. , 0.2, 0.4, 0.6, 0.8])},\n",
       "             pre_dispatch='2*n_jobs', refit=True, return_train_score=False,\n",
       "             scoring=None, verbose=0)"
      ]
     },
     "execution_count": 10,
     "metadata": {},
     "output_type": "execute_result"
    }
   ],
   "source": [
    "clf.fit(X_train,y_train)"
   ]
  },
  {
   "cell_type": "code",
   "execution_count": 11,
   "metadata": {},
   "outputs": [
    {
     "data": {
      "text/plain": [
       "0.44871794871794873"
      ]
     },
     "execution_count": 11,
     "metadata": {},
     "output_type": "execute_result"
    }
   ],
   "source": [
    "clf.score(X_test, y_test)"
   ]
  },
  {
   "cell_type": "code",
   "execution_count": 12,
   "metadata": {},
   "outputs": [],
   "source": [
    "X = vectorizer.transform(df.lyrics)"
   ]
  },
  {
   "cell_type": "code",
   "execution_count": 13,
   "metadata": {},
   "outputs": [],
   "source": [
    "df['Mood'] = clf.predict(X)"
   ]
  },
  {
   "cell_type": "code",
   "execution_count": 14,
   "metadata": {},
   "outputs": [
    {
     "data": {
      "text/html": [
       "<div>\n",
       "<style scoped>\n",
       "    .dataframe tbody tr th:only-of-type {\n",
       "        vertical-align: middle;\n",
       "    }\n",
       "\n",
       "    .dataframe tbody tr th {\n",
       "        vertical-align: top;\n",
       "    }\n",
       "\n",
       "    .dataframe thead th {\n",
       "        text-align: right;\n",
       "    }\n",
       "</style>\n",
       "<table border=\"1\" class=\"dataframe\">\n",
       "  <thead>\n",
       "    <tr style=\"text-align: right;\">\n",
       "      <th></th>\n",
       "      <th>Unnamed: 0</th>\n",
       "      <th>Artist</th>\n",
       "      <th>Name</th>\n",
       "      <th>Popularity</th>\n",
       "      <th>Year</th>\n",
       "      <th>genre</th>\n",
       "      <th>lyrics</th>\n",
       "      <th>Mood</th>\n",
       "    </tr>\n",
       "  </thead>\n",
       "  <tbody>\n",
       "    <tr>\n",
       "      <td>0</td>\n",
       "      <td>0</td>\n",
       "      <td>Atif Aslam</td>\n",
       "      <td>Paniyon Sa Lyrics</td>\n",
       "      <td>100.000000</td>\n",
       "      <td>2018</td>\n",
       "      <td>Rock</td>\n",
       "      <td>Jo tere laagi preet mohe Rooh baar baar tera n...</td>\n",
       "      <td>happy</td>\n",
       "    </tr>\n",
       "    <tr>\n",
       "      <td>1</td>\n",
       "      <td>1</td>\n",
       "      <td>Atif Aslam</td>\n",
       "      <td>O Saathi (From \"Baaghi 2\") Lyrics</td>\n",
       "      <td>92.662551</td>\n",
       "      <td>2018</td>\n",
       "      <td>Rock</td>\n",
       "      <td>Kacchi doriyon  doriyon  doriyon se Mainu tu b...</td>\n",
       "      <td>happy</td>\n",
       "    </tr>\n",
       "    <tr>\n",
       "      <td>2</td>\n",
       "      <td>2</td>\n",
       "      <td>Atif Aslam</td>\n",
       "      <td>Dil Diyan Gallan Lyrics</td>\n",
       "      <td>91.854784</td>\n",
       "      <td>2017</td>\n",
       "      <td>Rock</td>\n",
       "      <td>Hmm    Woo    Allah mujhe dard ke kaabil bana ...</td>\n",
       "      <td>happy</td>\n",
       "    </tr>\n",
       "    <tr>\n",
       "      <td>3</td>\n",
       "      <td>3</td>\n",
       "      <td>Atif Aslam</td>\n",
       "      <td>Jab Koi Baat Lyrics</td>\n",
       "      <td>88.245526</td>\n",
       "      <td>2018</td>\n",
       "      <td>Rock</td>\n",
       "      <td>Edited by hadiehama hmmhm hmmhm    hmmhm hmmm ...</td>\n",
       "      <td>happy</td>\n",
       "    </tr>\n",
       "    <tr>\n",
       "      <td>4</td>\n",
       "      <td>4</td>\n",
       "      <td>Atif Aslam</td>\n",
       "      <td>Jeena Jeena Lyrics</td>\n",
       "      <td>87.891493</td>\n",
       "      <td>2015</td>\n",
       "      <td>Rock</td>\n",
       "      <td>Jab koi baat bigad jaaye Jab koi mushkil pad j...</td>\n",
       "      <td>happy</td>\n",
       "    </tr>\n",
       "    <tr>\n",
       "      <td>...</td>\n",
       "      <td>...</td>\n",
       "      <td>...</td>\n",
       "      <td>...</td>\n",
       "      <td>...</td>\n",
       "      <td>...</td>\n",
       "      <td>...</td>\n",
       "      <td>...</td>\n",
       "      <td>...</td>\n",
       "    </tr>\n",
       "    <tr>\n",
       "      <td>7102</td>\n",
       "      <td>7701</td>\n",
       "      <td>Zack Knight</td>\n",
       "      <td>Ya Baba (Club Remix) Lyrics</td>\n",
       "      <td>13.470094</td>\n",
       "      <td>2018</td>\n",
       "      <td>RB</td>\n",
       "      <td>Pull up to the spot and let me see whats under...</td>\n",
       "      <td>happy</td>\n",
       "    </tr>\n",
       "    <tr>\n",
       "      <td>7103</td>\n",
       "      <td>7702</td>\n",
       "      <td>Zack Knight</td>\n",
       "      <td>Diggy Bom Lyrics</td>\n",
       "      <td>8.498683</td>\n",
       "      <td>2017</td>\n",
       "      <td>RB</td>\n",
       "      <td>Boy you dont have to be the last one standing ...</td>\n",
       "      <td>happy</td>\n",
       "    </tr>\n",
       "    <tr>\n",
       "      <td>7104</td>\n",
       "      <td>7703</td>\n",
       "      <td>Zack Knight</td>\n",
       "      <td>Shot Of Me Lyrics</td>\n",
       "      <td>8.498683</td>\n",
       "      <td>2013</td>\n",
       "      <td>RB</td>\n",
       "      <td>cellStep to the mark girl wait in line Im like...</td>\n",
       "      <td>angry</td>\n",
       "    </tr>\n",
       "    <tr>\n",
       "      <td>7105</td>\n",
       "      <td>7704</td>\n",
       "      <td>Zack Knight</td>\n",
       "      <td>Poison In My Sleep Lyrics</td>\n",
       "      <td>6.000000</td>\n",
       "      <td>2013</td>\n",
       "      <td>RB</td>\n",
       "      <td>Your poison Everything you touch is poison Eve...</td>\n",
       "      <td>angry</td>\n",
       "    </tr>\n",
       "    <tr>\n",
       "      <td>7106</td>\n",
       "      <td>7705</td>\n",
       "      <td>Zack Knight</td>\n",
       "      <td>Superhuman Lovers Lyrics</td>\n",
       "      <td>6.000000</td>\n",
       "      <td>2014</td>\n",
       "      <td>RB</td>\n",
       "      <td>Youre supernatural  no need to fight it Cause ...</td>\n",
       "      <td>sad</td>\n",
       "    </tr>\n",
       "  </tbody>\n",
       "</table>\n",
       "<p>7107 rows × 8 columns</p>\n",
       "</div>"
      ],
      "text/plain": [
       "      Unnamed: 0       Artist                               Name  Popularity  \\\n",
       "0              0   Atif Aslam                  Paniyon Sa Lyrics  100.000000   \n",
       "1              1   Atif Aslam  O Saathi (From \"Baaghi 2\") Lyrics   92.662551   \n",
       "2              2   Atif Aslam            Dil Diyan Gallan Lyrics   91.854784   \n",
       "3              3   Atif Aslam                Jab Koi Baat Lyrics   88.245526   \n",
       "4              4   Atif Aslam                 Jeena Jeena Lyrics   87.891493   \n",
       "...          ...          ...                                ...         ...   \n",
       "7102        7701  Zack Knight        Ya Baba (Club Remix) Lyrics   13.470094   \n",
       "7103        7702  Zack Knight                   Diggy Bom Lyrics    8.498683   \n",
       "7104        7703  Zack Knight                  Shot Of Me Lyrics    8.498683   \n",
       "7105        7704  Zack Knight          Poison In My Sleep Lyrics    6.000000   \n",
       "7106        7705  Zack Knight           Superhuman Lovers Lyrics    6.000000   \n",
       "\n",
       "      Year genre                                             lyrics   Mood  \n",
       "0     2018  Rock  Jo tere laagi preet mohe Rooh baar baar tera n...  happy  \n",
       "1     2018  Rock  Kacchi doriyon  doriyon  doriyon se Mainu tu b...  happy  \n",
       "2     2017  Rock  Hmm    Woo    Allah mujhe dard ke kaabil bana ...  happy  \n",
       "3     2018  Rock  Edited by hadiehama hmmhm hmmhm    hmmhm hmmm ...  happy  \n",
       "4     2015  Rock  Jab koi baat bigad jaaye Jab koi mushkil pad j...  happy  \n",
       "...    ...   ...                                                ...    ...  \n",
       "7102  2018    RB  Pull up to the spot and let me see whats under...  happy  \n",
       "7103  2017    RB  Boy you dont have to be the last one standing ...  happy  \n",
       "7104  2013    RB  cellStep to the mark girl wait in line Im like...  angry  \n",
       "7105  2013    RB  Your poison Everything you touch is poison Eve...  angry  \n",
       "7106  2014    RB  Youre supernatural  no need to fight it Cause ...    sad  \n",
       "\n",
       "[7107 rows x 8 columns]"
      ]
     },
     "execution_count": 14,
     "metadata": {},
     "output_type": "execute_result"
    }
   ],
   "source": [
    "df"
   ]
  },
  {
   "cell_type": "code",
   "execution_count": 15,
   "metadata": {},
   "outputs": [],
   "source": [
    "df.to_csv('out/data_with_mood.csv')"
   ]
  },
  {
   "cell_type": "markdown",
   "metadata": {},
   "source": [
    "<h2> predict music genre by its lyrics </h2>"
   ]
  },
  {
   "cell_type": "markdown",
   "metadata": {},
   "source": [
    "<h3> Define NN  </h3>"
   ]
  },
  {
   "cell_type": "code",
   "execution_count": 6,
   "metadata": {},
   "outputs": [],
   "source": [
    "gen_df = pd.read_csv('out/clean_data.csv')"
   ]
  },
  {
   "cell_type": "code",
   "execution_count": 92,
   "metadata": {},
   "outputs": [],
   "source": [
    "import tensorflow.keras as keras\n",
    "from tensorflow.keras import Sequential, layers, Input, optimizers, losses, metrics, callbacks, models"
   ]
  },
  {
   "cell_type": "code",
   "execution_count": 8,
   "metadata": {},
   "outputs": [],
   "source": [
    "from sklearn.preprocessing import StandardScaler "
   ]
  },
  {
   "cell_type": "code",
   "execution_count": 9,
   "metadata": {},
   "outputs": [],
   "source": [
    "model = Sequential(layers=None, name=None)"
   ]
  },
  {
   "cell_type": "code",
   "execution_count": 10,
   "metadata": {},
   "outputs": [],
   "source": [
    "vectorizer = TfidfVectorizer( tokenizer = tokenize , stop_words = 'english')\n",
    "X = vectorizer.fit_transform(gen_df.lyrics)"
   ]
  },
  {
   "cell_type": "code",
   "execution_count": 11,
   "metadata": {},
   "outputs": [
    {
     "data": {
      "text/plain": [
       "(7107, 41893)"
      ]
     },
     "execution_count": 11,
     "metadata": {},
     "output_type": "execute_result"
    }
   ],
   "source": [
    "X.shape"
   ]
  },
  {
   "cell_type": "code",
   "execution_count": 13,
   "metadata": {},
   "outputs": [],
   "source": [
    "X_train, X_test, y_train, y_test = train_test_split(X, gen_df.genre, test_size=0.25, random_state=42)"
   ]
  },
  {
   "cell_type": "code",
   "execution_count": 14,
   "metadata": {},
   "outputs": [],
   "source": [
    "genres = pd.get_dummies(y_test).columns.to_list()\n",
    "y_train = pd.get_dummies(y_train).to_numpy()\n",
    "y_test = pd.get_dummies(y_test).to_numpy()"
   ]
  },
  {
   "cell_type": "code",
   "execution_count": 15,
   "metadata": {},
   "outputs": [],
   "source": [
    "# TODO install tensorflow to use sparse tensors\n",
    "#X_test = X_test.toarray()[:, :, np.newaxis]\n",
    "X_train = X_train.toarray()[:, :, np.newaxis]"
   ]
  },
  {
   "cell_type": "code",
   "execution_count": 16,
   "metadata": {},
   "outputs": [
    {
     "data": {
      "text/plain": [
       "['Country',\n",
       " 'Electronic',\n",
       " 'Folk',\n",
       " 'HipHop',\n",
       " 'Indie',\n",
       " 'Jazz',\n",
       " 'Other',\n",
       " 'Pop',\n",
       " 'RB',\n",
       " 'Rock']"
      ]
     },
     "execution_count": 16,
     "metadata": {},
     "output_type": "execute_result"
    }
   ],
   "source": [
    "genres "
   ]
  },
  {
   "cell_type": "code",
   "execution_count": 17,
   "metadata": {},
   "outputs": [],
   "source": [
    "#feature extraction\n",
    "model.add(layers.Conv1D(1,10, input_shape=X_train.shape[1:]))\n",
    "model.add(layers.BatchNormalization())\n",
    "model.add(layers.ReLU())\n",
    "model.add(layers.MaxPooling1D(pool_size=5))\n",
    "          \n",
    "model.add(layers.Conv1D(1,8))\n",
    "model.add(layers.BatchNormalization())\n",
    "model.add(layers.ReLU())\n",
    "model.add(layers.MaxPooling1D(pool_size=4))   \n",
    "\n",
    "model.add(layers.Conv1D(1,4))\n",
    "model.add(layers.BatchNormalization())\n",
    "model.add(layers.ReLU())\n",
    "model.add(layers.MaxPooling1D(pool_size=2))\n",
    "\n",
    "model.add(layers.Conv1D(1,4))\n",
    "model.add(layers.BatchNormalization())\n",
    "model.add(layers.ReLU())\n",
    "model.add(layers.MaxPooling1D(pool_size=2))\n",
    "\n",
    "#clasification\n",
    "model.add(layers.Flatten())\n",
    "model.add(layers.Dropout(rate=0.3))\n",
    "model.add(layers.Dense(units=10))\n",
    "model.add(layers.Softmax())"
   ]
  },
  {
   "cell_type": "code",
   "execution_count": 18,
   "metadata": {
    "scrolled": false
   },
   "outputs": [
    {
     "name": "stdout",
     "output_type": "stream",
     "text": [
      "Model: \"sequential\"\n",
      "_________________________________________________________________\n",
      "Layer (type)                 Output Shape              Param #   \n",
      "=================================================================\n",
      "conv1d (Conv1D)              (None, 41884, 1)          11        \n",
      "_________________________________________________________________\n",
      "batch_normalization (BatchNo (None, 41884, 1)          4         \n",
      "_________________________________________________________________\n",
      "re_lu (ReLU)                 (None, 41884, 1)          0         \n",
      "_________________________________________________________________\n",
      "max_pooling1d (MaxPooling1D) (None, 8376, 1)           0         \n",
      "_________________________________________________________________\n",
      "conv1d_1 (Conv1D)            (None, 8369, 1)           9         \n",
      "_________________________________________________________________\n",
      "batch_normalization_1 (Batch (None, 8369, 1)           4         \n",
      "_________________________________________________________________\n",
      "re_lu_1 (ReLU)               (None, 8369, 1)           0         \n",
      "_________________________________________________________________\n",
      "max_pooling1d_1 (MaxPooling1 (None, 2092, 1)           0         \n",
      "_________________________________________________________________\n",
      "conv1d_2 (Conv1D)            (None, 2089, 1)           5         \n",
      "_________________________________________________________________\n",
      "batch_normalization_2 (Batch (None, 2089, 1)           4         \n",
      "_________________________________________________________________\n",
      "re_lu_2 (ReLU)               (None, 2089, 1)           0         \n",
      "_________________________________________________________________\n",
      "max_pooling1d_2 (MaxPooling1 (None, 1044, 1)           0         \n",
      "_________________________________________________________________\n",
      "conv1d_3 (Conv1D)            (None, 1041, 1)           5         \n",
      "_________________________________________________________________\n",
      "batch_normalization_3 (Batch (None, 1041, 1)           4         \n",
      "_________________________________________________________________\n",
      "re_lu_3 (ReLU)               (None, 1041, 1)           0         \n",
      "_________________________________________________________________\n",
      "max_pooling1d_3 (MaxPooling1 (None, 520, 1)            0         \n",
      "_________________________________________________________________\n",
      "flatten (Flatten)            (None, 520)               0         \n",
      "_________________________________________________________________\n",
      "dropout (Dropout)            (None, 520)               0         \n",
      "_________________________________________________________________\n",
      "dense (Dense)                (None, 10)                5210      \n",
      "_________________________________________________________________\n",
      "softmax (Softmax)            (None, 10)                0         \n",
      "=================================================================\n",
      "Total params: 5,256\n",
      "Trainable params: 5,248\n",
      "Non-trainable params: 8\n",
      "_________________________________________________________________\n"
     ]
    }
   ],
   "source": [
    "model.summary()"
   ]
  },
  {
   "cell_type": "code",
   "execution_count": 19,
   "metadata": {},
   "outputs": [],
   "source": [
    "model.compile(\n",
    "    optimizer=optimizers.Nadam(),  \n",
    "    loss=losses.CategoricalCrossentropy(),\n",
    "    metrics=[metrics.CategoricalCrossentropy(), metrics.CategoricalAccuracy()],\n",
    ")"
   ]
  },
  {
   "cell_type": "code",
   "execution_count": 20,
   "metadata": {},
   "outputs": [],
   "source": [
    "m_save = callbacks.ModelCheckpoint('model.hdf5', save_best_only=True,save_weights_only=False,\n",
    "                                   verbose=1, monitor='val_loss', mode='min')"
   ]
  },
  {
   "cell_type": "code",
   "execution_count": 21,
   "metadata": {
    "scrolled": true
   },
   "outputs": [
    {
     "name": "stdout",
     "output_type": "stream",
     "text": [
      "Train on 4530 samples, validate on 800 samples\n",
      "Epoch 1/50\n",
      "\n",
      "Epoch 00001: val_loss improved from inf to 2.15343, saving model to model.hdf5\n",
      "4530/4530 - 49s - loss: 2.5795 - categorical_crossentropy: 2.5795 - categorical_accuracy: 0.2333 - val_loss: 2.1534 - val_categorical_crossentropy: 2.1534 - val_categorical_accuracy: 0.3550\n",
      "Epoch 2/50\n",
      "\n",
      "Epoch 00002: val_loss improved from 2.15343 to 2.11670, saving model to model.hdf5\n",
      "4530/4530 - 46s - loss: 2.0077 - categorical_crossentropy: 2.0077 - categorical_accuracy: 0.3422 - val_loss: 2.1167 - val_categorical_crossentropy: 2.1167 - val_categorical_accuracy: 0.3700\n",
      "Epoch 3/50\n",
      "\n",
      "Epoch 00003: val_loss improved from 2.11670 to 2.06739, saving model to model.hdf5\n",
      "4530/4530 - 46s - loss: 1.7644 - categorical_crossentropy: 1.7644 - categorical_accuracy: 0.3870 - val_loss: 2.0674 - val_categorical_crossentropy: 2.0674 - val_categorical_accuracy: 0.3525\n",
      "Epoch 4/50\n",
      "\n",
      "Epoch 00004: val_loss improved from 2.06739 to 2.02619, saving model to model.hdf5\n",
      "4530/4530 - 46s - loss: 1.6080 - categorical_crossentropy: 1.6080 - categorical_accuracy: 0.4203 - val_loss: 2.0262 - val_categorical_crossentropy: 2.0262 - val_categorical_accuracy: 0.3537\n",
      "Epoch 5/50\n",
      "\n",
      "Epoch 00005: val_loss did not improve from 2.02619\n",
      "4530/4530 - 45s - loss: 1.5163 - categorical_crossentropy: 1.5163 - categorical_accuracy: 0.4490 - val_loss: 2.1269 - val_categorical_crossentropy: 2.1269 - val_categorical_accuracy: 0.3950\n",
      "Epoch 6/50\n",
      "\n",
      "Epoch 00006: val_loss did not improve from 2.02619\n",
      "4530/4530 - 47s - loss: 1.4272 - categorical_crossentropy: 1.4272 - categorical_accuracy: 0.4733 - val_loss: 2.0469 - val_categorical_crossentropy: 2.0469 - val_categorical_accuracy: 0.4050\n",
      "Epoch 7/50\n",
      "\n",
      "Epoch 00007: val_loss did not improve from 2.02619\n",
      "4530/4530 - 46s - loss: 1.3685 - categorical_crossentropy: 1.3685 - categorical_accuracy: 0.4912 - val_loss: 2.0932 - val_categorical_crossentropy: 2.0932 - val_categorical_accuracy: 0.4338\n",
      "Epoch 8/50\n",
      "\n",
      "Epoch 00008: val_loss did not improve from 2.02619\n",
      "4530/4530 - 46s - loss: 1.3239 - categorical_crossentropy: 1.3239 - categorical_accuracy: 0.5104 - val_loss: 2.0579 - val_categorical_crossentropy: 2.0579 - val_categorical_accuracy: 0.4512\n",
      "Epoch 9/50\n",
      "\n",
      "Epoch 00009: val_loss improved from 2.02619 to 1.98634, saving model to model.hdf5\n",
      "4530/4530 - 46s - loss: 1.2847 - categorical_crossentropy: 1.2847 - categorical_accuracy: 0.5170 - val_loss: 1.9863 - val_categorical_crossentropy: 1.9863 - val_categorical_accuracy: 0.4475\n",
      "Epoch 10/50\n",
      "\n",
      "Epoch 00010: val_loss improved from 1.98634 to 1.95304, saving model to model.hdf5\n",
      "4530/4530 - 46s - loss: 1.2462 - categorical_crossentropy: 1.2462 - categorical_accuracy: 0.5316 - val_loss: 1.9530 - val_categorical_crossentropy: 1.9530 - val_categorical_accuracy: 0.4575\n",
      "Epoch 11/50\n",
      "\n",
      "Epoch 00011: val_loss did not improve from 1.95304\n",
      "4530/4530 - 45s - loss: 1.2308 - categorical_crossentropy: 1.2308 - categorical_accuracy: 0.5364 - val_loss: 1.9802 - val_categorical_crossentropy: 1.9802 - val_categorical_accuracy: 0.4575\n",
      "Epoch 12/50\n",
      "\n",
      "Epoch 00012: val_loss improved from 1.95304 to 1.76492, saving model to model.hdf5\n",
      "4530/4530 - 44s - loss: 1.1867 - categorical_crossentropy: 1.1867 - categorical_accuracy: 0.5521 - val_loss: 1.7649 - val_categorical_crossentropy: 1.7649 - val_categorical_accuracy: 0.4663\n",
      "Epoch 13/50\n",
      "\n",
      "Epoch 00013: val_loss improved from 1.76492 to 1.68955, saving model to model.hdf5\n",
      "4530/4530 - 44s - loss: 1.1633 - categorical_crossentropy: 1.1633 - categorical_accuracy: 0.5664 - val_loss: 1.6895 - val_categorical_crossentropy: 1.6895 - val_categorical_accuracy: 0.4913\n",
      "Epoch 14/50\n",
      "\n",
      "Epoch 00014: val_loss improved from 1.68955 to 1.60078, saving model to model.hdf5\n",
      "4530/4530 - 44s - loss: 1.1588 - categorical_crossentropy: 1.1588 - categorical_accuracy: 0.5578 - val_loss: 1.6008 - val_categorical_crossentropy: 1.6008 - val_categorical_accuracy: 0.5175\n",
      "Epoch 15/50\n",
      "\n",
      "Epoch 00015: val_loss improved from 1.60078 to 1.51420, saving model to model.hdf5\n",
      "4530/4530 - 43s - loss: 1.1298 - categorical_crossentropy: 1.1298 - categorical_accuracy: 0.5709 - val_loss: 1.5142 - val_categorical_crossentropy: 1.5142 - val_categorical_accuracy: 0.5200\n",
      "Epoch 16/50\n",
      "\n",
      "Epoch 00016: val_loss improved from 1.51420 to 1.44778, saving model to model.hdf5\n",
      "4530/4530 - 44s - loss: 1.1063 - categorical_crossentropy: 1.1063 - categorical_accuracy: 0.5859 - val_loss: 1.4478 - val_categorical_crossentropy: 1.4478 - val_categorical_accuracy: 0.5138\n",
      "Epoch 17/50\n",
      "\n",
      "Epoch 00017: val_loss improved from 1.44778 to 1.37798, saving model to model.hdf5\n",
      "4530/4530 - 44s - loss: 1.0875 - categorical_crossentropy: 1.0875 - categorical_accuracy: 0.5916 - val_loss: 1.3780 - val_categorical_crossentropy: 1.3780 - val_categorical_accuracy: 0.5125\n",
      "Epoch 18/50\n",
      "\n",
      "Epoch 00018: val_loss improved from 1.37798 to 1.34806, saving model to model.hdf5\n",
      "4530/4530 - 44s - loss: 1.0825 - categorical_crossentropy: 1.0825 - categorical_accuracy: 0.5830 - val_loss: 1.3481 - val_categorical_crossentropy: 1.3481 - val_categorical_accuracy: 0.5113\n",
      "Epoch 19/50\n",
      "\n",
      "Epoch 00019: val_loss improved from 1.34806 to 1.34639, saving model to model.hdf5\n",
      "4530/4530 - 49s - loss: 1.0778 - categorical_crossentropy: 1.0778 - categorical_accuracy: 0.5848 - val_loss: 1.3464 - val_categorical_crossentropy: 1.3464 - val_categorical_accuracy: 0.5312\n",
      "Epoch 20/50\n",
      "\n",
      "Epoch 00020: val_loss improved from 1.34639 to 1.31684, saving model to model.hdf5\n",
      "4530/4530 - 48s - loss: 1.0721 - categorical_crossentropy: 1.0721 - categorical_accuracy: 0.5819 - val_loss: 1.3168 - val_categorical_crossentropy: 1.3168 - val_categorical_accuracy: 0.5225\n",
      "Epoch 21/50\n",
      "\n",
      "Epoch 00021: val_loss did not improve from 1.31684\n",
      "4530/4530 - 47s - loss: 1.0464 - categorical_crossentropy: 1.0464 - categorical_accuracy: 0.6007 - val_loss: 1.3658 - val_categorical_crossentropy: 1.3658 - val_categorical_accuracy: 0.5038\n",
      "Epoch 22/50\n",
      "\n",
      "Epoch 00022: val_loss did not improve from 1.31684\n",
      "4530/4530 - 46s - loss: 1.0406 - categorical_crossentropy: 1.0406 - categorical_accuracy: 0.5974 - val_loss: 1.3229 - val_categorical_crossentropy: 1.3229 - val_categorical_accuracy: 0.5200\n",
      "Epoch 23/50\n",
      "\n",
      "Epoch 00023: val_loss did not improve from 1.31684\n",
      "4530/4530 - 45s - loss: 1.0525 - categorical_crossentropy: 1.0525 - categorical_accuracy: 0.5951 - val_loss: 1.3796 - val_categorical_crossentropy: 1.3796 - val_categorical_accuracy: 0.5163\n",
      "Epoch 24/50\n",
      "\n",
      "Epoch 00024: val_loss did not improve from 1.31684\n",
      "4530/4530 - 44s - loss: 1.0250 - categorical_crossentropy: 1.0250 - categorical_accuracy: 0.5991 - val_loss: 1.3343 - val_categorical_crossentropy: 1.3343 - val_categorical_accuracy: 0.5163\n",
      "Epoch 25/50\n",
      "\n",
      "Epoch 00025: val_loss did not improve from 1.31684\n",
      "4530/4530 - 44s - loss: 1.0179 - categorical_crossentropy: 1.0179 - categorical_accuracy: 0.6011 - val_loss: 1.3979 - val_categorical_crossentropy: 1.3979 - val_categorical_accuracy: 0.5088\n",
      "Epoch 26/50\n",
      "\n",
      "Epoch 00026: val_loss did not improve from 1.31684\n",
      "4530/4530 - 44s - loss: 0.9989 - categorical_crossentropy: 0.9989 - categorical_accuracy: 0.6082 - val_loss: 1.3749 - val_categorical_crossentropy: 1.3749 - val_categorical_accuracy: 0.5250\n",
      "Epoch 27/50\n",
      "\n",
      "Epoch 00027: val_loss improved from 1.31684 to 1.31515, saving model to model.hdf5\n",
      "4530/4530 - 44s - loss: 1.0154 - categorical_crossentropy: 1.0154 - categorical_accuracy: 0.6026 - val_loss: 1.3151 - val_categorical_crossentropy: 1.3151 - val_categorical_accuracy: 0.5263\n",
      "Epoch 28/50\n",
      "\n",
      "Epoch 00028: val_loss improved from 1.31515 to 1.30657, saving model to model.hdf5\n",
      "4530/4530 - 44s - loss: 1.0055 - categorical_crossentropy: 1.0055 - categorical_accuracy: 0.6029 - val_loss: 1.3066 - val_categorical_crossentropy: 1.3066 - val_categorical_accuracy: 0.5337\n",
      "Epoch 29/50\n",
      "\n",
      "Epoch 00029: val_loss did not improve from 1.30657\n",
      "4530/4530 - 44s - loss: 1.0074 - categorical_crossentropy: 1.0074 - categorical_accuracy: 0.6057 - val_loss: 1.3205 - val_categorical_crossentropy: 1.3205 - val_categorical_accuracy: 0.5288\n",
      "Epoch 30/50\n",
      "\n",
      "Epoch 00030: val_loss did not improve from 1.30657\n",
      "4530/4530 - 44s - loss: 0.9924 - categorical_crossentropy: 0.9924 - categorical_accuracy: 0.6077 - val_loss: 1.3533 - val_categorical_crossentropy: 1.3533 - val_categorical_accuracy: 0.5200\n"
     ]
    },
    {
     "name": "stdout",
     "output_type": "stream",
     "text": [
      "Epoch 31/50\n",
      "\n",
      "Epoch 00031: val_loss did not improve from 1.30657\n",
      "4530/4530 - 44s - loss: 0.9924 - categorical_crossentropy: 0.9924 - categorical_accuracy: 0.6071 - val_loss: 1.3174 - val_categorical_crossentropy: 1.3174 - val_categorical_accuracy: 0.5300\n",
      "Epoch 32/50\n",
      "\n",
      "Epoch 00032: val_loss did not improve from 1.30657\n",
      "4530/4530 - 44s - loss: 0.9771 - categorical_crossentropy: 0.9771 - categorical_accuracy: 0.6079 - val_loss: 1.3159 - val_categorical_crossentropy: 1.3159 - val_categorical_accuracy: 0.5475\n",
      "Epoch 33/50\n",
      "\n",
      "Epoch 00033: val_loss did not improve from 1.30657\n",
      "4530/4530 - 44s - loss: 0.9784 - categorical_crossentropy: 0.9784 - categorical_accuracy: 0.6139 - val_loss: 1.3197 - val_categorical_crossentropy: 1.3197 - val_categorical_accuracy: 0.5325\n",
      "Epoch 34/50\n",
      "\n",
      "Epoch 00034: val_loss did not improve from 1.30657\n",
      "4530/4530 - 45s - loss: 0.9770 - categorical_crossentropy: 0.9770 - categorical_accuracy: 0.6148 - val_loss: 1.3200 - val_categorical_crossentropy: 1.3200 - val_categorical_accuracy: 0.5337\n",
      "Epoch 35/50\n",
      "\n",
      "Epoch 00035: val_loss did not improve from 1.30657\n",
      "4530/4530 - 47s - loss: 0.9769 - categorical_crossentropy: 0.9769 - categorical_accuracy: 0.6137 - val_loss: 1.3216 - val_categorical_crossentropy: 1.3216 - val_categorical_accuracy: 0.5250\n",
      "Epoch 36/50\n",
      "\n",
      "Epoch 00036: val_loss did not improve from 1.30657\n",
      "4530/4530 - 45s - loss: 0.9683 - categorical_crossentropy: 0.9683 - categorical_accuracy: 0.6137 - val_loss: 1.3298 - val_categorical_crossentropy: 1.3298 - val_categorical_accuracy: 0.5387\n",
      "Epoch 37/50\n",
      "\n",
      "Epoch 00037: val_loss did not improve from 1.30657\n",
      "4530/4530 - 46s - loss: 0.9788 - categorical_crossentropy: 0.9788 - categorical_accuracy: 0.6099 - val_loss: 1.3335 - val_categorical_crossentropy: 1.3335 - val_categorical_accuracy: 0.5238\n",
      "Epoch 38/50\n",
      "\n",
      "Epoch 00038: val_loss did not improve from 1.30657\n",
      "4530/4530 - 45s - loss: 0.9720 - categorical_crossentropy: 0.9720 - categorical_accuracy: 0.6188 - val_loss: 1.3685 - val_categorical_crossentropy: 1.3685 - val_categorical_accuracy: 0.5038\n",
      "Epoch 39/50\n",
      "\n",
      "Epoch 00039: val_loss did not improve from 1.30657\n",
      "4530/4530 - 45s - loss: 0.9614 - categorical_crossentropy: 0.9614 - categorical_accuracy: 0.6170 - val_loss: 1.3327 - val_categorical_crossentropy: 1.3327 - val_categorical_accuracy: 0.5250\n",
      "Epoch 40/50\n",
      "\n",
      "Epoch 00040: val_loss did not improve from 1.30657\n",
      "4530/4530 - 44s - loss: 0.9547 - categorical_crossentropy: 0.9547 - categorical_accuracy: 0.6170 - val_loss: 1.3398 - val_categorical_crossentropy: 1.3398 - val_categorical_accuracy: 0.5175\n",
      "Epoch 41/50\n",
      "\n",
      "Epoch 00041: val_loss did not improve from 1.30657\n",
      "4530/4530 - 44s - loss: 0.9607 - categorical_crossentropy: 0.9607 - categorical_accuracy: 0.6132 - val_loss: 1.3358 - val_categorical_crossentropy: 1.3358 - val_categorical_accuracy: 0.5263\n",
      "Epoch 42/50\n",
      "\n",
      "Epoch 00042: val_loss did not improve from 1.30657\n",
      "4530/4530 - 44s - loss: 0.9549 - categorical_crossentropy: 0.9549 - categorical_accuracy: 0.6210 - val_loss: 1.3300 - val_categorical_crossentropy: 1.3300 - val_categorical_accuracy: 0.5412\n",
      "Epoch 43/50\n",
      "\n",
      "Epoch 00043: val_loss did not improve from 1.30657\n",
      "4530/4530 - 46s - loss: 0.9659 - categorical_crossentropy: 0.9659 - categorical_accuracy: 0.6183 - val_loss: 1.3183 - val_categorical_crossentropy: 1.3183 - val_categorical_accuracy: 0.5375\n",
      "Epoch 44/50\n",
      "\n",
      "Epoch 00044: val_loss did not improve from 1.30657\n",
      "4530/4530 - 50s - loss: 0.9579 - categorical_crossentropy: 0.9579 - categorical_accuracy: 0.6148 - val_loss: 1.3195 - val_categorical_crossentropy: 1.3195 - val_categorical_accuracy: 0.5462\n",
      "Epoch 45/50\n",
      "\n",
      "Epoch 00045: val_loss did not improve from 1.30657\n",
      "4530/4530 - 47s - loss: 0.9527 - categorical_crossentropy: 0.9527 - categorical_accuracy: 0.6174 - val_loss: 1.3316 - val_categorical_crossentropy: 1.3316 - val_categorical_accuracy: 0.5362\n",
      "Epoch 46/50\n",
      "\n",
      "Epoch 00046: val_loss did not improve from 1.30657\n",
      "4530/4530 - 48s - loss: 0.9526 - categorical_crossentropy: 0.9526 - categorical_accuracy: 0.6183 - val_loss: 1.3139 - val_categorical_crossentropy: 1.3139 - val_categorical_accuracy: 0.5425\n",
      "Epoch 47/50\n",
      "\n",
      "Epoch 00047: val_loss did not improve from 1.30657\n",
      "4530/4530 - 46s - loss: 0.9516 - categorical_crossentropy: 0.9516 - categorical_accuracy: 0.6252 - val_loss: 1.3629 - val_categorical_crossentropy: 1.3629 - val_categorical_accuracy: 0.5125\n",
      "Epoch 48/50\n",
      "\n",
      "Epoch 00048: val_loss did not improve from 1.30657\n",
      "4530/4530 - 46s - loss: 0.9361 - categorical_crossentropy: 0.9361 - categorical_accuracy: 0.6219 - val_loss: 1.3593 - val_categorical_crossentropy: 1.3593 - val_categorical_accuracy: 0.5150\n",
      "Epoch 49/50\n",
      "\n",
      "Epoch 00049: val_loss did not improve from 1.30657\n",
      "4530/4530 - 44s - loss: 0.9412 - categorical_crossentropy: 0.9412 - categorical_accuracy: 0.6247 - val_loss: 1.3177 - val_categorical_crossentropy: 1.3177 - val_categorical_accuracy: 0.5263\n",
      "Epoch 50/50\n",
      "\n",
      "Epoch 00050: val_loss did not improve from 1.30657\n",
      "4530/4530 - 44s - loss: 0.9438 - categorical_crossentropy: 0.9438 - categorical_accuracy: 0.6247 - val_loss: 1.3994 - val_categorical_crossentropy: 1.3994 - val_categorical_accuracy: 0.4900\n"
     ]
    }
   ],
   "source": [
    "history = model.fit(x=X_train, y=y_train, batch_size=128, epochs=50, verbose=2, \n",
    "                    validation_split=0.15, shuffle=True, callbacks=[m_save])"
   ]
  },
  {
   "cell_type": "code",
   "execution_count": 22,
   "metadata": {},
   "outputs": [],
   "source": [
    "from joblib import dump, load"
   ]
  },
  {
   "cell_type": "code",
   "execution_count": 23,
   "metadata": {},
   "outputs": [
    {
     "data": {
      "text/plain": [
       "['vectorizer.joblib']"
      ]
     },
     "execution_count": 23,
     "metadata": {},
     "output_type": "execute_result"
    }
   ],
   "source": [
    "dump(vectorizer,'vectorizer.joblib')"
   ]
  },
  {
   "cell_type": "code",
   "execution_count": 32,
   "metadata": {},
   "outputs": [
    {
     "data": {
      "text/plain": [
       "['train_history_dict.joblib']"
      ]
     },
     "execution_count": 32,
     "metadata": {},
     "output_type": "execute_result"
    }
   ],
   "source": [
    "dump(history.history, 'train_history_dict.joblib')"
   ]
  },
  {
   "cell_type": "code",
   "execution_count": 24,
   "metadata": {},
   "outputs": [],
   "source": [
    "X_test = X_test.toarray()[:, :, np.newaxis]"
   ]
  },
  {
   "cell_type": "code",
   "execution_count": 33,
   "metadata": {},
   "outputs": [
    {
     "data": {
      "text/plain": [
       "dict_keys(['loss', 'categorical_crossentropy', 'categorical_accuracy', 'val_loss', 'val_categorical_crossentropy', 'val_categorical_accuracy'])"
      ]
     },
     "execution_count": 33,
     "metadata": {},
     "output_type": "execute_result"
    }
   ],
   "source": [
    "history.history.keys()"
   ]
  },
  {
   "cell_type": "code",
   "execution_count": 51,
   "metadata": {},
   "outputs": [
    {
     "data": {
      "image/png": "[encoded data removed]",
      "text/plain": [
       "<Figure size 1440x800 with 1 Axes>"
      ]
     },
     "metadata": {},
     "output_type": "display_data"
    }
   ],
   "source": [
    "fig = figure(num=None, figsize=(18, 10), dpi=80, facecolor='w', edgecolor='k');\n",
    "\n",
    "categorical_crossentropy = history.history['categorical_crossentropy']\n",
    "sns.lineplot(range(0, len(categorical_crossentropy)), categorical_crossentropy  );\n",
    "\n",
    "val_categorical_crossentropy = history.history['val_categorical_crossentropy']\n",
    "sns.lineplot(range(0, len(val_categorical_crossentropy)), val_categorical_crossentropy );\n",
    "\n",
    "plt.legend([\"categorical_crossentropy\",\"val_categorical_crossentropy\"], fontsize=20)\n",
    "plt.tick_params(axis='x', labelsize=15 );\n",
    "plt.tick_params(axis='y', labelsize=13 );\n",
    "plt.xlabel('Epoch', fontsize=20)\n",
    "plt.ylabel('Loss', fontsize=20);\n",
    "plt.title('Training Loss History', fontsize=30);"
   ]
  },
  {
   "cell_type": "code",
   "execution_count": 52,
   "metadata": {},
   "outputs": [
    {
     "data": {
      "image/png": "[encoded data removed]",
      "text/plain": [
       "<Figure size 1440x800 with 1 Axes>"
      ]
     },
     "metadata": {},
     "output_type": "display_data"
    }
   ],
   "source": [
    "fig = figure(num=None, figsize=(18, 10), dpi=80, facecolor='w', edgecolor='k');\n",
    "\n",
    "categorical_accuracy = history.history['categorical_accuracy']\n",
    "sns.lineplot(range(0, len(categorical_accuracy)), categorical_accuracy  );\n",
    "\n",
    "val_categorical_accuracy = history.history['val_categorical_accuracy']\n",
    "sns.lineplot(range(0, len(val_categorical_accuracy)), val_categorical_accuracy );\n",
    "\n",
    "plt.legend([\"categorical_accuracy\",\"val_categorical_accuracy\"], fontsize=20)\n",
    "plt.tick_params(axis='x', labelsize=15 );\n",
    "plt.tick_params(axis='y', labelsize=13 );\n",
    "plt.xlabel('Epoch', fontsize=20)\n",
    "plt.ylabel('Accuracy', fontsize=20);\n",
    "plt.title('Training Accuracy History', fontsize=30);"
   ]
  },
  {
   "cell_type": "markdown",
   "metadata": {},
   "source": [
    "<h2> The checkpoint last saves model at epoche 29 which according to this diagrams pretty good point to save because after that model starts to overfit </h2>"
   ]
  },
  {
   "cell_type": "markdown",
   "metadata": {},
   "source": [
    "<h2> Testing genre prediction function </h2>"
   ]
  },
  {
   "cell_type": "code",
   "execution_count": 97,
   "metadata": {},
   "outputs": [],
   "source": [
    "from tensorflow.keras import  models"
   ]
  },
  {
   "cell_type": "code",
   "execution_count": 98,
   "metadata": {},
   "outputs": [],
   "source": [
    "loaded_model = models.load_model('model.hdf5')"
   ]
  },
  {
   "cell_type": "code",
   "execution_count": 99,
   "metadata": {
    "scrolled": true
   },
   "outputs": [
    {
     "name": "stdout",
     "output_type": "stream",
     "text": [
      "1777/1777 [==============================] - 10s 6ms/sample - loss: 1.3236 - categorical_crossentropy: 1.3236 - categorical_accuracy: 0.5211\n",
      "Test loss: 1.3236266\n",
      "Test accuracy: 0.52110296\n"
     ]
    }
   ],
   "source": [
    "_,loss, acc = loaded_model.evaluate(X_test, y_test,\n",
    "                            batch_size=128)\n",
    "print('Test loss:', loss)\n",
    "print('Test accuracy:', acc)"
   ]
  },
  {
   "cell_type": "code",
   "execution_count": 95,
   "metadata": {},
   "outputs": [],
   "source": [
    "import Predict_genre_by_lyrics as p"
   ]
  },
  {
   "cell_type": "code",
   "execution_count": 96,
   "metadata": {},
   "outputs": [],
   "source": [
    "# gotthard let it rain lyrics\n",
    "lyrics = [\"\"\"Lady Jane\n",
    "Would we ever meet again\n",
    "The times we had are gonna day by day\n",
    "All the pain\n",
    "That we gave each other pays\n",
    "Not enough to gonna make us wrong\n",
    "Would it sell this love will lest forever\n",
    "Standing out the crossroad once again alot of things in love will growing\n",
    "Slowly in progress\n",
    "I know - you've got to listen to the phone\n",
    "Let it rain let it rain\n",
    "Till the sun comes back again\n",
    "The answer is your only friend\n",
    "We walk this way\n",
    "Slowly step by step\n",
    "We don't have to bother just believe\n",
    "There's a place deep inside\n",
    "Were we've never been before\n",
    "I know we can be there you and me\n",
    "Would it sell this love will lest forever\n",
    "Now were standing at the crossroad once again\n",
    "All the things in love will pay there\n",
    "Slowly in progress\n",
    "I know - you've got to listen to the phone\n",
    "Let it rain let it rain\n",
    "Till the sun comes back again\n",
    "The answer is your only friend\n",
    "Let it rain let it rain\n",
    "'Cause I know we'll be there again\n",
    "Freedom will be there in the end\n",
    "Hope you'll find your paradise\n",
    "Wish you all the best of times\n",
    "The faith in love and please don't cry.\n",
    "So let it rain let it rain\n",
    "Till the sun comes back again\n",
    "The answer is your only friend\n",
    "Let it rain let it rain\n",
    "'Cause I know we'll meet again\n",
    "Freedom will be there in the end\n",
    "Let it rain let it rain\n",
    "Till the sun comes back again\n",
    "The answer is your only friend\n",
    "So let it rain let it rain\n",
    "Yes I know we'll meet again\n",
    "We will be there until the end\n",
    "'Til the end\"\"\"]"
   ]
  },
  {
   "cell_type": "code",
   "execution_count": 90,
   "metadata": {},
   "outputs": [
    {
     "data": {
      "text/plain": [
       "'Pop'"
      ]
     },
     "execution_count": 90,
     "metadata": {},
     "output_type": "execute_result"
    }
   ],
   "source": [
    "p.predict_gener(lyrics)"
   ]
  },
  {
   "cell_type": "markdown",
   "metadata": {},
   "source": [
    "<h2> Youtube mood function test </h2>"
   ]
  },
  {
   "cell_type": "code",
   "execution_count": 1,
   "metadata": {},
   "outputs": [],
   "source": [
    "# you can run it standalone as cmd app\n",
    "import youtube"
   ]
  },
  {
   "cell_type": "code",
   "execution_count": 2,
   "metadata": {},
   "outputs": [
    {
     "data": {
      "text/plain": [
       "('Crazy Frog AXEL F', 'https://www.youtube.com/watch?v=S-F1avL5kMc')"
      ]
     },
     "execution_count": 2,
     "metadata": {},
     "output_type": "execute_result"
    }
   ],
   "source": [
    "youtube.youtube_search('Crazy song')"
   ]
  },
  {
   "cell_type": "code",
   "execution_count": null,
   "metadata": {},
   "outputs": [],
   "source": []
  }
 ],
 "metadata": {
  "kernelspec": {
   "display_name": "Python 3",
   "language": "python",
   "name": "python3"
  },
  "language_info": {
   "codemirror_mode": {
    "name": "ipython",
    "version": 3
   },
   "file_extension": ".py",
   "mimetype": "text/x-python",
   "name": "python",
   "nbconvert_exporter": "python",
   "pygments_lexer": "ipython3",
   "version": "3.7.4"
  }
 },
 "nbformat": 4,
 "nbformat_minor": 2
}
