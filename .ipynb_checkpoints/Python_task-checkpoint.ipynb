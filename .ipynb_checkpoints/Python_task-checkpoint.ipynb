{
 "cells": [
  {
   "cell_type": "code",
   "execution_count": 1,
   "metadata": {},
   "outputs": [],
   "source": [
    "import pandas as pd\n",
    "import warnings\n",
    "warnings.filterwarnings('ignore')"
   ]
  },
  {
   "cell_type": "markdown",
   "metadata": {},
   "source": [
    "<h2> Loading and concating data </h2>"
   ]
  },
  {
   "cell_type": "code",
   "execution_count": 2,
   "metadata": {},
   "outputs": [],
   "source": [
    "data = []\n",
    "for i in range(1,6):\n",
    "    tmp_df = pd.read_csv(f'data/data{i}.csv')\n",
    "    tmp_df.columns =['Artist', 'Name', 'Year', 'Popularity', 'genre', 'lyrics'] \n",
    "    data.append(tmp_df)\n",
    "df = pd.concat(data,ignore_index=True, sort=True)\n",
    "df.to_csv('out/total_data.csv')"
   ]
  },
  {
   "cell_type": "code",
   "execution_count": 3,
   "metadata": {},
   "outputs": [],
   "source": [
    "# replace \\r\\n with space in Lyrics\n",
    "df.lyrics = df.lyrics.str.replace('\\r\\n', ' ')"
   ]
  },
  {
   "cell_type": "code",
   "execution_count": 4,
   "metadata": {},
   "outputs": [],
   "source": [
    "# extract gener\n",
    "df.genre = df.genre.apply(lambda x: x[7:x.find('\").setTar')])"
   ]
  },
  {
   "cell_type": "code",
   "execution_count": 5,
   "metadata": {},
   "outputs": [
    {
     "data": {
      "text/plain": [
       "array(['Rock', 'Pop', 'Other', 'Country', 'RB', '', 'HipHop', 'Jazz',\n",
       "       'Folk', 'Electronic', 'Indie'], dtype=object)"
      ]
     },
     "execution_count": 5,
     "metadata": {},
     "output_type": "execute_result"
    }
   ],
   "source": [
    "df.genre.unique()"
   ]
  },
  {
   "cell_type": "code",
   "execution_count": 6,
   "metadata": {},
   "outputs": [],
   "source": [
    "# sepaarate mising genre\n",
    "df_mis_gen = df[df.genre ==\"\"]\n",
    "df = df[df.genre !=\"\"]"
   ]
  },
  {
   "cell_type": "code",
   "execution_count": 7,
   "metadata": {},
   "outputs": [],
   "source": [
    "#fixing Bob Marley's genre\n",
    "bob = df_mis_gen[df_mis_gen.Artist == 'Bob Marley']\n",
    "bob.genre = 'Folk'\n",
    "df = pd.concat([df,bob],ignore_index=True, sort=True)"
   ]
  },
  {
   "cell_type": "code",
   "execution_count": 8,
   "metadata": {},
   "outputs": [],
   "source": [
    "#fixing Zack Knight's genre\n",
    "zak = df_mis_gen[df_mis_gen.Artist == 'Zack Knight']\n",
    "zak.genre = 'RB'\n",
    "df = pd.concat([df,zak],ignore_index=True, sort=True)"
   ]
  },
  {
   "cell_type": "code",
   "execution_count": 9,
   "metadata": {},
   "outputs": [],
   "source": [
    "# saving missing genre\n",
    "df_mis_gen.to_csv(\"out/missing_genre.csv\")"
   ]
  },
  {
   "cell_type": "code",
   "execution_count": 10,
   "metadata": {},
   "outputs": [],
   "source": [
    "# saving rows that contain missing values\n",
    "df[df.isnull().values.any(axis=1)].to_csv('out/mising_val.csv')"
   ]
  },
  {
   "cell_type": "code",
   "execution_count": 9,
   "metadata": {},
   "outputs": [],
   "source": [
    "#dropp mising value containing rows\n",
    "df = df[~df.isnull().values.any(axis=1)]"
   ]
  },
  {
   "cell_type": "code",
   "execution_count": 10,
   "metadata": {},
   "outputs": [],
   "source": [
    "# save dublicated rows\n",
    "df[df[['Artist', 'Name' ]].duplicated()].sort_values(['Artist', 'Name' ]).to_csv('out/dublicated.csv')"
   ]
  },
  {
   "cell_type": "code",
   "execution_count": 11,
   "metadata": {},
   "outputs": [],
   "source": [
    "#drop duplicates\n",
    "df = df[~df[['Artist', 'Name' ]].duplicated()]"
   ]
  },
  {
   "cell_type": "markdown",
   "metadata": {},
   "source": [
    "<h2> four informative visualizations </h2>"
   ]
  },
  {
   "cell_type": "code",
   "execution_count": 25,
   "metadata": {},
   "outputs": [],
   "source": [
    "import seaborn as sns\n",
    "import matplotlib.pyplot as plt\n",
    "sns.set(color_codes=True)\n",
    "from matplotlib.pyplot import figure\n",
    "%matplotlib Inline"
   ]
  },
  {
   "cell_type": "markdown",
   "metadata": {},
   "source": [
    "<h2> The avarage popularity af every gener </h2>"
   ]
  },
  {
   "cell_type": "code",
   "execution_count": 13,
   "metadata": {
    "scrolled": false
   },
   "outputs": [
    {
     "data": {
      "image/png": "[encoded data removed]",
      "text/plain": [
       "<Figure size 960x640 with 1 Axes>"
      ]
     },
     "metadata": {},
     "output_type": "display_data"
    }
   ],
   "source": [
    "tmp = df[['genre','Popularity']].groupby('genre').mean()\n",
    "fig = figure(num=None, figsize=(12, 8), dpi=80, facecolor='w', edgecolor='k')\n",
    "sns.barplot(x=tmp.index, y=tmp.Popularity, color='b');\n",
    "plt.xlabel('Genre', fontsize=18)\n",
    "plt.ylabel('Popularity', fontsize=18);"
   ]
  },
  {
   "cell_type": "markdown",
   "metadata": {},
   "source": [
    "<h3> The chart show that Indie, R&B and Electronic are the most unpopular genres oppositely Jazz which of course the most popular for all times </h3>"
   ]
  },
  {
   "cell_type": "code",
   "execution_count": 14,
   "metadata": {
    "scrolled": true
   },
   "outputs": [],
   "source": [
    "from ipywidgets import interact, widgets"
   ]
  },
  {
   "cell_type": "markdown",
   "metadata": {},
   "source": [
    "<h2> Time serries that shows yearly made songs in every genre and genre popularity </h2>"
   ]
  },
  {
   "cell_type": "code",
   "execution_count": 15,
   "metadata": {
    "scrolled": false
   },
   "outputs": [],
   "source": [
    "grouped_mean = df[['Year','genre','Popularity']].groupby(['Year','genre']).mean()\n",
    "grouped_count = df[['Year','genre','Popularity']].groupby(['Year','genre']).count()\n",
    "def plotyear(year): \n",
    "    fig = figure(num=None, figsize=(18, 10), dpi=80, facecolor='w', edgecolor='k');\n",
    "    x = grouped_count.loc[year].Popularity\n",
    "    y = grouped_mean.loc[year].Popularity\n",
    "    ax = sns.scatterplot(x=x, y=y, s=250)\n",
    "    plt.xlabel('Number of songs in that genre', fontsize=20)\n",
    "    plt.ylabel('Avarage popularity of genre', fontsize=20)\n",
    "    ax.set_ylim([0,100])\n",
    "    for i in list(list(x.index)):\n",
    "        ax.text(x[i],y[i],i, fontsize=35, verticalalignment='bottom')"
   ]
  },
  {
   "cell_type": "code",
   "execution_count": 16,
   "metadata": {
    "scrolled": false
   },
   "outputs": [
    {
     "data": {
      "application/vnd.jupyter.widget-view+json": {
       "model_id": "08a1cf4a54044c68af7188410a63e00b",
       "version_major": 2,
       "version_minor": 0
      },
      "text/plain": [
       "interactive(children=(IntSlider(value=2015, description='year', max=2018, min=1990), Output()), _dom_classes=(…"
      ]
     },
     "metadata": {},
     "output_type": "display_data"
    }
   ],
   "source": [
    "interact(plotyear, year=widgets.IntSlider(min=1990, max=2018, step=1, value=2015));"
   ]
  },
  {
   "cell_type": "markdown",
   "metadata": {},
   "source": [
    "<h2> The  time series shows that after 2000 the amount of Rock and Pop songs significantly larger than other genres, also Jazz songs tipically  announced in fewer countities but they typically are on top of popularity, another thing is that at 2015 year genre Indie is outsider becouse of low popularity and so on </h2>"
   ]
  },
  {
   "cell_type": "code",
   "execution_count": 17,
   "metadata": {},
   "outputs": [],
   "source": [
    "from scipy import stats"
   ]
  },
  {
   "cell_type": "markdown",
   "metadata": {},
   "source": [
    "<h2> The mean popularity of each artist</h2>"
   ]
  },
  {
   "cell_type": "code",
   "execution_count": 18,
   "metadata": {},
   "outputs": [],
   "source": [
    "grouped = df[['Artist','Popularity', 'Year']].groupby(['Artist','Year']).apply(func=stats.hmean)"
   ]
  },
  {
   "cell_type": "code",
   "execution_count": 19,
   "metadata": {},
   "outputs": [],
   "source": [
    "def plot_artist(artist):\n",
    "    fig = figure(num=None, figsize=(18, 10), dpi=80, facecolor='w', edgecolor='k');\n",
    "    data = grouped[artist]\n",
    "    ax = sns.scatterplot(x=data.index, y=data.values, s=300)\n",
    "    plt.xlabel('Year', fontsize=20)\n",
    "    plt.ylabel('Avarage popularity of Artist', fontsize=20);\n",
    "    plt.title(artist, fontsize=30)\n",
    "    ax.tick_params(axis='x', labelsize=15 )\n",
    "    ax.tick_params(axis='y', labelsize=15 )\n",
    "    ax.set_ylim([0,100])"
   ]
  },
  {
   "cell_type": "code",
   "execution_count": 20,
   "metadata": {
    "scrolled": false
   },
   "outputs": [
    {
     "data": {
      "application/vnd.jupyter.widget-view+json": {
       "model_id": "ce9876c4a76044229939b7db26597f16",
       "version_major": 2,
       "version_minor": 0
      },
      "text/plain": [
       "interactive(children=(Dropdown(description='Artist:', index=3, options=('Atif Aslam', 'ABBA', 'Arijit Singh', …"
      ]
     },
     "metadata": {},
     "output_type": "display_data"
    }
   ],
   "source": [
    "interact(plot_artist, artist=widgets.Dropdown(options=df.Artist.unique(), value='Adele',  description='Artist:'));"
   ]
  },
  {
   "cell_type": "markdown",
   "metadata": {},
   "source": [
    "<h2> The following heatmap shows how the number of songs announced every year dramaticaly increase compering a few Folk and Rock songs in 70s to 2000s. It also shows development of each genre, for exaple accordig our data Country genre achives to it popularity in mining of new songs around 2005, RB starts to become popular since 1995  </h2> "
   ]
  },
  {
   "cell_type": "code",
   "execution_count": 21,
   "metadata": {
    "scrolled": false
   },
   "outputs": [
    {
     "data": {
      "image/png": "[encoded data removed]",
      "text/plain": [
       "<Figure size 1440x800 with 2 Axes>"
      ]
     },
     "metadata": {},
     "output_type": "display_data"
    }
   ],
   "source": [
    "sns.set_style(\"whitegrid\")\n",
    "fig = figure(num=None, figsize=(18, 10), dpi=80, facecolor='w', edgecolor='k');\n",
    "df2 = grouped_count.reset_index().pivot(columns='Year',index='genre',values='Popularity')\n",
    "ax = sns.heatmap(df2,cmap=\"Blues\", vmin=-50, vmax=200);\n",
    "ax.tick_params(axis='x', labelsize=15 );\n",
    "ax.tick_params(axis='y', labelsize=13 );\n",
    "plt.xlabel('Year', fontsize=20)\n",
    "plt.ylabel('Gener', fontsize=20);"
   ]
  },
  {
   "cell_type": "code",
   "execution_count": 22,
   "metadata": {},
   "outputs": [],
   "source": [
    "# removing hindi text and special signs, leaving onli latin text\n",
    "df.lyrics = df.lyrics.str.replace(r'[\\.,:]', \" \")\n",
    "df.lyrics = df.lyrics.str.replace(r'[^a-zA-Z\\ ]', \"\")\n",
    "df.lyrics = df.lyrics.str.strip()"
   ]
  },
  {
   "cell_type": "code",
   "execution_count": 23,
   "metadata": {},
   "outputs": [],
   "source": [
    "# saving songs with very short lyrics, instrumental you can feel it and such kind of staff\n",
    "df[df.lyrics.str.len() <= 60].to_csv('out/uncertain_lirics.csv')"
   ]
  },
  {
   "cell_type": "code",
   "execution_count": 24,
   "metadata": {
    "scrolled": false
   },
   "outputs": [],
   "source": [
    "# remov songs with very short lyrics\n",
    "df = df[df.lyrics.str.len() > 60]"
   ]
  },
  {
   "cell_type": "code",
   "execution_count": 25,
   "metadata": {},
   "outputs": [],
   "source": [
    "#ABBA\tHamlet III Lyrics story beside of lirics\n",
    "ind = df[df.Artist == 'ABBA'][df.Name =='Hamlet III Lyrics'].index\n",
    "df.drop(ind, inplace=True)"
   ]
  },
  {
   "cell_type": "code",
   "execution_count": 29,
   "metadata": {},
   "outputs": [],
   "source": [
    "df.to_csv('out/clean_data.csv')"
   ]
  },
  {
   "cell_type": "markdown",
   "metadata": {},
   "source": [
    "<h1> sentiment and polarity of each song </h1>"
   ]
  },
  {
   "cell_type": "code",
   "execution_count": 2,
   "metadata": {},
   "outputs": [],
   "source": [
    "import numpy as np\n",
    "import utils\n",
    "from sklearn.decomposition import TruncatedSVD\n",
    "from sklearn.svm import SVC\n",
    "from sklearn.naive_bayes import MultinomialNB\n",
    "from sklearn.model_selection import train_test_split, GridSearchCV, cross_val_score"
   ]
  },
  {
   "cell_type": "markdown",
   "metadata": {},
   "source": [
    "<h3> I found dataset with lyrics and mood of song , so I can make classifier based on lirics\n",
    " Downside the songs are different and  only  in english </h2>"
   ]
  },
  {
   "cell_type": "code",
   "execution_count": 3,
   "metadata": {},
   "outputs": [],
   "source": [
    "df = pd.read_csv('out/clean_data.csv')"
   ]
  },
  {
   "cell_type": "code",
   "execution_count": 4,
   "metadata": {},
   "outputs": [],
   "source": [
    "new_df1 = pd.read_csv('new_data/Train.csv')\n",
    "new_df2 = pd.read_csv('new_data/Test.csv')\n",
    "\n",
    "new_df = pd.concat([new_df1,new_df2],ignore_index=True, sort=True)"
   ]
  },
  {
   "cell_type": "code",
   "execution_count": 6,
   "metadata": {},
   "outputs": [
    {
     "data": {
      "text/plain": [
       "(778, 6561)"
      ]
     },
     "execution_count": 6,
     "metadata": {},
     "output_type": "execute_result"
    }
   ],
   "source": [
    "vectorizer = utils.Vectorizer()\n",
    "X = vectorizer.fit_transform(new_df.lyrics)\n",
    "X.shape"
   ]
  },
  {
   "cell_type": "code",
   "execution_count": 7,
   "metadata": {},
   "outputs": [],
   "source": [
    "X_train, X_test, y_train, y_test = train_test_split(X, new_df.Mood, test_size=0.1, random_state=42)"
   ]
  },
  {
   "cell_type": "code",
   "execution_count": 8,
   "metadata": {},
   "outputs": [],
   "source": [
    "params = {'alpha' : np.arange(0,1,0.2)}\n",
    "nb = MultinomialNB()\n",
    "clf = GridSearchCV(estimator=nb, param_grid=params, n_jobs=-1)"
   ]
  },
  {
   "cell_type": "code",
   "execution_count": 9,
   "metadata": {},
   "outputs": [
    {
     "data": {
      "text/plain": [
       "GridSearchCV(cv='warn', error_score='raise-deprecating',\n",
       "             estimator=MultinomialNB(alpha=1.0, class_prior=None,\n",
       "                                     fit_prior=True),\n",
       "             iid='warn', n_jobs=-1,\n",
       "             param_grid={'alpha': array([0. , 0.2, 0.4, 0.6, 0.8])},\n",
       "             pre_dispatch='2*n_jobs', refit=True, return_train_score=False,\n",
       "             scoring=None, verbose=0)"
      ]
     },
     "execution_count": 9,
     "metadata": {},
     "output_type": "execute_result"
    }
   ],
   "source": [
    "clf.fit(X_train,y_train)"
   ]
  },
  {
   "cell_type": "code",
   "execution_count": 11,
   "metadata": {},
   "outputs": [
    {
     "data": {
      "text/plain": [
       "0.44871794871794873"
      ]
     },
     "execution_count": 11,
     "metadata": {},
     "output_type": "execute_result"
    }
   ],
   "source": [
    "clf.score(X_test, y_test)"
   ]
  },
  {
   "cell_type": "code",
   "execution_count": 10,
   "metadata": {},
   "outputs": [],
   "source": [
    "X = vectorizer.transform(df.lyrics)"
   ]
  },
  {
   "cell_type": "code",
   "execution_count": 13,
   "metadata": {},
   "outputs": [],
   "source": [
    "df['Mood'] = clf.predict(X)"
   ]
  },
  {
   "cell_type": "code",
   "execution_count": 14,
   "metadata": {},
   "outputs": [
    {
     "data": {
      "text/html": [
       "<div>\n",
       "<style scoped>\n",
       "    .dataframe tbody tr th:only-of-type {\n",
       "        vertical-align: middle;\n",
       "    }\n",
       "\n",
       "    .dataframe tbody tr th {\n",
       "        vertical-align: top;\n",
       "    }\n",
       "\n",
       "    .dataframe thead th {\n",
       "        text-align: right;\n",
       "    }\n",
       "</style>\n",
       "<table border=\"1\" class=\"dataframe\">\n",
       "  <thead>\n",
       "    <tr style=\"text-align: right;\">\n",
       "      <th></th>\n",
       "      <th>Unnamed: 0</th>\n",
       "      <th>Artist</th>\n",
       "      <th>Name</th>\n",
       "      <th>Popularity</th>\n",
       "      <th>Year</th>\n",
       "      <th>genre</th>\n",
       "      <th>lyrics</th>\n",
       "      <th>Mood</th>\n",
       "    </tr>\n",
       "  </thead>\n",
       "  <tbody>\n",
       "    <tr>\n",
       "      <td>0</td>\n",
       "      <td>0</td>\n",
       "      <td>Atif Aslam</td>\n",
       "      <td>Paniyon Sa Lyrics</td>\n",
       "      <td>100.000000</td>\n",
       "      <td>2018</td>\n",
       "      <td>Rock</td>\n",
       "      <td>Jo tere laagi preet mohe Rooh baar baar tera n...</td>\n",
       "      <td>happy</td>\n",
       "    </tr>\n",
       "    <tr>\n",
       "      <td>1</td>\n",
       "      <td>1</td>\n",
       "      <td>Atif Aslam</td>\n",
       "      <td>O Saathi (From \"Baaghi 2\") Lyrics</td>\n",
       "      <td>92.662551</td>\n",
       "      <td>2018</td>\n",
       "      <td>Rock</td>\n",
       "      <td>Kacchi doriyon  doriyon  doriyon se Mainu tu b...</td>\n",
       "      <td>happy</td>\n",
       "    </tr>\n",
       "    <tr>\n",
       "      <td>2</td>\n",
       "      <td>2</td>\n",
       "      <td>Atif Aslam</td>\n",
       "      <td>Dil Diyan Gallan Lyrics</td>\n",
       "      <td>91.854784</td>\n",
       "      <td>2017</td>\n",
       "      <td>Rock</td>\n",
       "      <td>Hmm    Woo    Allah mujhe dard ke kaabil bana ...</td>\n",
       "      <td>happy</td>\n",
       "    </tr>\n",
       "    <tr>\n",
       "      <td>3</td>\n",
       "      <td>3</td>\n",
       "      <td>Atif Aslam</td>\n",
       "      <td>Jab Koi Baat Lyrics</td>\n",
       "      <td>88.245526</td>\n",
       "      <td>2018</td>\n",
       "      <td>Rock</td>\n",
       "      <td>Edited by hadiehama hmmhm hmmhm    hmmhm hmmm ...</td>\n",
       "      <td>happy</td>\n",
       "    </tr>\n",
       "    <tr>\n",
       "      <td>4</td>\n",
       "      <td>4</td>\n",
       "      <td>Atif Aslam</td>\n",
       "      <td>Jeena Jeena Lyrics</td>\n",
       "      <td>87.891493</td>\n",
       "      <td>2015</td>\n",
       "      <td>Rock</td>\n",
       "      <td>Jab koi baat bigad jaaye Jab koi mushkil pad j...</td>\n",
       "      <td>happy</td>\n",
       "    </tr>\n",
       "    <tr>\n",
       "      <td>...</td>\n",
       "      <td>...</td>\n",
       "      <td>...</td>\n",
       "      <td>...</td>\n",
       "      <td>...</td>\n",
       "      <td>...</td>\n",
       "      <td>...</td>\n",
       "      <td>...</td>\n",
       "      <td>...</td>\n",
       "    </tr>\n",
       "    <tr>\n",
       "      <td>7102</td>\n",
       "      <td>7701</td>\n",
       "      <td>Zack Knight</td>\n",
       "      <td>Ya Baba (Club Remix) Lyrics</td>\n",
       "      <td>13.470094</td>\n",
       "      <td>2018</td>\n",
       "      <td>RB</td>\n",
       "      <td>Pull up to the spot and let me see whats under...</td>\n",
       "      <td>happy</td>\n",
       "    </tr>\n",
       "    <tr>\n",
       "      <td>7103</td>\n",
       "      <td>7702</td>\n",
       "      <td>Zack Knight</td>\n",
       "      <td>Diggy Bom Lyrics</td>\n",
       "      <td>8.498683</td>\n",
       "      <td>2017</td>\n",
       "      <td>RB</td>\n",
       "      <td>Boy you dont have to be the last one standing ...</td>\n",
       "      <td>happy</td>\n",
       "    </tr>\n",
       "    <tr>\n",
       "      <td>7104</td>\n",
       "      <td>7703</td>\n",
       "      <td>Zack Knight</td>\n",
       "      <td>Shot Of Me Lyrics</td>\n",
       "      <td>8.498683</td>\n",
       "      <td>2013</td>\n",
       "      <td>RB</td>\n",
       "      <td>cellStep to the mark girl wait in line Im like...</td>\n",
       "      <td>angry</td>\n",
       "    </tr>\n",
       "    <tr>\n",
       "      <td>7105</td>\n",
       "      <td>7704</td>\n",
       "      <td>Zack Knight</td>\n",
       "      <td>Poison In My Sleep Lyrics</td>\n",
       "      <td>6.000000</td>\n",
       "      <td>2013</td>\n",
       "      <td>RB</td>\n",
       "      <td>Your poison Everything you touch is poison Eve...</td>\n",
       "      <td>angry</td>\n",
       "    </tr>\n",
       "    <tr>\n",
       "      <td>7106</td>\n",
       "      <td>7705</td>\n",
       "      <td>Zack Knight</td>\n",
       "      <td>Superhuman Lovers Lyrics</td>\n",
       "      <td>6.000000</td>\n",
       "      <td>2014</td>\n",
       "      <td>RB</td>\n",
       "      <td>Youre supernatural  no need to fight it Cause ...</td>\n",
       "      <td>sad</td>\n",
       "    </tr>\n",
       "  </tbody>\n",
       "</table>\n",
       "<p>7107 rows × 8 columns</p>\n",
       "</div>"
      ],
      "text/plain": [
       "      Unnamed: 0       Artist                               Name  Popularity  \\\n",
       "0              0   Atif Aslam                  Paniyon Sa Lyrics  100.000000   \n",
       "1              1   Atif Aslam  O Saathi (From \"Baaghi 2\") Lyrics   92.662551   \n",
       "2              2   Atif Aslam            Dil Diyan Gallan Lyrics   91.854784   \n",
       "3              3   Atif Aslam                Jab Koi Baat Lyrics   88.245526   \n",
       "4              4   Atif Aslam                 Jeena Jeena Lyrics   87.891493   \n",
       "...          ...          ...                                ...         ...   \n",
       "7102        7701  Zack Knight        Ya Baba (Club Remix) Lyrics   13.470094   \n",
       "7103        7702  Zack Knight                   Diggy Bom Lyrics    8.498683   \n",
       "7104        7703  Zack Knight                  Shot Of Me Lyrics    8.498683   \n",
       "7105        7704  Zack Knight          Poison In My Sleep Lyrics    6.000000   \n",
       "7106        7705  Zack Knight           Superhuman Lovers Lyrics    6.000000   \n",
       "\n",
       "      Year genre                                             lyrics   Mood  \n",
       "0     2018  Rock  Jo tere laagi preet mohe Rooh baar baar tera n...  happy  \n",
       "1     2018  Rock  Kacchi doriyon  doriyon  doriyon se Mainu tu b...  happy  \n",
       "2     2017  Rock  Hmm    Woo    Allah mujhe dard ke kaabil bana ...  happy  \n",
       "3     2018  Rock  Edited by hadiehama hmmhm hmmhm    hmmhm hmmm ...  happy  \n",
       "4     2015  Rock  Jab koi baat bigad jaaye Jab koi mushkil pad j...  happy  \n",
       "...    ...   ...                                                ...    ...  \n",
       "7102  2018    RB  Pull up to the spot and let me see whats under...  happy  \n",
       "7103  2017    RB  Boy you dont have to be the last one standing ...  happy  \n",
       "7104  2013    RB  cellStep to the mark girl wait in line Im like...  angry  \n",
       "7105  2013    RB  Your poison Everything you touch is poison Eve...  angry  \n",
       "7106  2014    RB  Youre supernatural  no need to fight it Cause ...    sad  \n",
       "\n",
       "[7107 rows x 8 columns]"
      ]
     },
     "execution_count": 14,
     "metadata": {},
     "output_type": "execute_result"
    }
   ],
   "source": [
    "df"
   ]
  },
  {
   "cell_type": "code",
   "execution_count": 15,
   "metadata": {},
   "outputs": [],
   "source": [
    "df.to_csv('out/data_with_mood.csv')"
   ]
  },
  {
   "cell_type": "markdown",
   "metadata": {},
   "source": [
    "<h2> predict music genre by its lyrics </h2>"
   ]
  },
  {
   "cell_type": "markdown",
   "metadata": {},
   "source": [
    "<h3> Define NN  </h3>"
   ]
  },
  {
   "cell_type": "code",
   "execution_count": 3,
   "metadata": {},
   "outputs": [],
   "source": [
    "gen_df = pd.read_csv('out/clean_data.csv')"
   ]
  },
  {
   "cell_type": "code",
   "execution_count": 4,
   "metadata": {},
   "outputs": [],
   "source": [
    "import utils\n",
    "import tensorflow.keras as keras\n",
    "from tensorflow.keras import Sequential, layers, Input, optimizers, losses, metrics, callbacks, models"
   ]
  },
  {
   "cell_type": "code",
   "execution_count": 5,
   "metadata": {},
   "outputs": [],
   "source": [
    "from sklearn.preprocessing import StandardScaler "
   ]
  },
  {
   "cell_type": "code",
   "execution_count": 7,
   "metadata": {},
   "outputs": [],
   "source": [
    "vectorizer = utils.Vectorizer()\n",
    "X = vectorizer.fit_transform(gen_df.lyrics)"
   ]
  },
  {
   "cell_type": "code",
   "execution_count": 8,
   "metadata": {},
   "outputs": [
    {
     "data": {
      "text/plain": [
       "(7107, 41989)"
      ]
     },
     "execution_count": 8,
     "metadata": {},
     "output_type": "execute_result"
    }
   ],
   "source": [
    "X.shape"
   ]
  },
  {
   "cell_type": "code",
   "execution_count": 28,
   "metadata": {},
   "outputs": [],
   "source": [
    "X_train, X_test, y_train, y_test = train_test_split(X, gen_df.genre, test_size=0.15, random_state=42)"
   ]
  },
  {
   "cell_type": "code",
   "execution_count": 29,
   "metadata": {},
   "outputs": [],
   "source": [
    "genres = pd.get_dummies(y_test).columns.to_list()\n",
    "y_train = pd.get_dummies(y_train).to_numpy()\n",
    "y_test = pd.get_dummies(y_test).to_numpy()"
   ]
  },
  {
   "cell_type": "code",
   "execution_count": 30,
   "metadata": {},
   "outputs": [],
   "source": [
    "# TODO install tensorflow sparse to use sparse tensors\n",
    "#X_test = X_test.toarray()[:, :, np.newaxis]\n",
    "X_train = X_train.toarray()[:, :, np.newaxis]"
   ]
  },
  {
   "cell_type": "code",
   "execution_count": 31,
   "metadata": {},
   "outputs": [
    {
     "data": {
      "text/plain": [
       "['Country',\n",
       " 'Electronic',\n",
       " 'Folk',\n",
       " 'HipHop',\n",
       " 'Indie',\n",
       " 'Jazz',\n",
       " 'Other',\n",
       " 'Pop',\n",
       " 'RB',\n",
       " 'Rock']"
      ]
     },
     "execution_count": 31,
     "metadata": {},
     "output_type": "execute_result"
    }
   ],
   "source": [
    "genres "
   ]
  },
  {
   "cell_type": "code",
   "execution_count": 32,
   "metadata": {},
   "outputs": [],
   "source": [
    "model = Sequential(layers=None, name=None)\n",
    "\n",
    "#feature extraction\n",
    "model.add(layers.Conv1D(1,10, input_shape=X_train.shape[1:]))\n",
    "model.add(layers.BatchNormalization())\n",
    "model.add(layers.ReLU())\n",
    "model.add(layers.MaxPooling1D(pool_size=5))\n",
    "          \n",
    "model.add(layers.Conv1D(1,10))\n",
    "model.add(layers.BatchNormalization())\n",
    "model.add(layers.ReLU())\n",
    "model.add(layers.MaxPooling1D(pool_size=5))   \n",
    "\n",
    "model.add(layers.Conv1D(1,10))\n",
    "model.add(layers.BatchNormalization())\n",
    "model.add(layers.ReLU())\n",
    "model.add(layers.MaxPooling1D(pool_size=4))\n",
    "\n",
    "\n",
    "#clasification\n",
    "model.add(layers.Flatten())\n",
    "model.add(layers.Dropout(rate=0.3))\n",
    "model.add(layers.Dense(units=10))\n",
    "model.add(layers.Softmax())"
   ]
  },
  {
   "cell_type": "code",
   "execution_count": 33,
   "metadata": {
    "scrolled": false
   },
   "outputs": [
    {
     "name": "stdout",
     "output_type": "stream",
     "text": [
      "Model: \"sequential_4\"\n",
      "_________________________________________________________________\n",
      "Layer (type)                 Output Shape              Param #   \n",
      "=================================================================\n",
      "conv1d_11 (Conv1D)           (None, 41980, 1)          11        \n",
      "_________________________________________________________________\n",
      "batch_normalization_11 (Batc (None, 41980, 1)          4         \n",
      "_________________________________________________________________\n",
      "re_lu_11 (ReLU)              (None, 41980, 1)          0         \n",
      "_________________________________________________________________\n",
      "max_pooling1d_11 (MaxPooling (None, 8396, 1)           0         \n",
      "_________________________________________________________________\n",
      "conv1d_12 (Conv1D)           (None, 8387, 1)           11        \n",
      "_________________________________________________________________\n",
      "batch_normalization_12 (Batc (None, 8387, 1)           4         \n",
      "_________________________________________________________________\n",
      "re_lu_12 (ReLU)              (None, 8387, 1)           0         \n",
      "_________________________________________________________________\n",
      "max_pooling1d_12 (MaxPooling (None, 1677, 1)           0         \n",
      "_________________________________________________________________\n",
      "conv1d_13 (Conv1D)           (None, 1668, 1)           11        \n",
      "_________________________________________________________________\n",
      "batch_normalization_13 (Batc (None, 1668, 1)           4         \n",
      "_________________________________________________________________\n",
      "re_lu_13 (ReLU)              (None, 1668, 1)           0         \n",
      "_________________________________________________________________\n",
      "max_pooling1d_13 (MaxPooling (None, 417, 1)            0         \n",
      "_________________________________________________________________\n",
      "flatten_4 (Flatten)          (None, 417)               0         \n",
      "_________________________________________________________________\n",
      "dropout_4 (Dropout)          (None, 417)               0         \n",
      "_________________________________________________________________\n",
      "dense_4 (Dense)              (None, 10)                4180      \n",
      "_________________________________________________________________\n",
      "softmax_4 (Softmax)          (None, 10)                0         \n",
      "=================================================================\n",
      "Total params: 4,225\n",
      "Trainable params: 4,219\n",
      "Non-trainable params: 6\n",
      "_________________________________________________________________\n"
     ]
    }
   ],
   "source": [
    "model.summary()"
   ]
  },
  {
   "cell_type": "code",
   "execution_count": 34,
   "metadata": {},
   "outputs": [],
   "source": [
    "model.compile(\n",
    "    optimizer=optimizers.Nadam(),  \n",
    "    loss=losses.CategoricalCrossentropy(),\n",
    "    metrics=[metrics.CategoricalCrossentropy(), metrics.CategoricalAccuracy()],\n",
    ")"
   ]
  },
  {
   "cell_type": "code",
   "execution_count": 35,
   "metadata": {},
   "outputs": [],
   "source": [
    "m_save = callbacks.ModelCheckpoint('model.hdf5', save_best_only=True,save_weights_only=False,\n",
    "                                   verbose=1, monitor='val_loss', mode='min')"
   ]
  },
  {
   "cell_type": "code",
   "execution_count": 36,
   "metadata": {
    "scrolled": true
   },
   "outputs": [
    {
     "name": "stdout",
     "output_type": "stream",
     "text": [
      "Train on 4832 samples, validate on 1208 samples\n",
      "Epoch 1/80\n",
      "\n",
      "Epoch 00001: val_loss improved from inf to 2.28400, saving model to model.hdf5\n",
      "4832/4832 - 45s - loss: 2.7089 - categorical_crossentropy: 2.7089 - categorical_accuracy: 0.2423 - val_loss: 2.2840 - val_categorical_crossentropy: 2.2840 - val_categorical_accuracy: 0.3353\n",
      "Epoch 2/80\n",
      "\n",
      "Epoch 00002: val_loss improved from 2.28400 to 2.27142, saving model to model.hdf5\n",
      "4832/4832 - 43s - loss: 2.0287 - categorical_crossentropy: 2.0287 - categorical_accuracy: 0.3216 - val_loss: 2.2714 - val_categorical_crossentropy: 2.2714 - val_categorical_accuracy: 0.3560\n",
      "Epoch 3/80\n",
      "\n",
      "Epoch 00003: val_loss improved from 2.27142 to 2.20225, saving model to model.hdf5\n",
      "4832/4832 - 43s - loss: 1.7328 - categorical_crossentropy: 1.7328 - categorical_accuracy: 0.3779 - val_loss: 2.2022 - val_categorical_crossentropy: 2.2022 - val_categorical_accuracy: 0.3659\n",
      "Epoch 4/80\n",
      "\n",
      "Epoch 00004: val_loss improved from 2.20225 to 2.08038, saving model to model.hdf5\n",
      "4832/4832 - 43s - loss: 1.6121 - categorical_crossentropy: 1.6121 - categorical_accuracy: 0.4009 - val_loss: 2.0804 - val_categorical_crossentropy: 2.0804 - val_categorical_accuracy: 0.3535\n",
      "Epoch 5/80\n",
      "\n",
      "Epoch 00005: val_loss improved from 2.08038 to 1.97082, saving model to model.hdf5\n",
      "4832/4832 - 43s - loss: 1.5311 - categorical_crossentropy: 1.5311 - categorical_accuracy: 0.4238 - val_loss: 1.9708 - val_categorical_crossentropy: 1.9708 - val_categorical_accuracy: 0.3526\n",
      "Epoch 6/80\n",
      "\n",
      "Epoch 00006: val_loss improved from 1.97082 to 1.93024, saving model to model.hdf5\n",
      "4832/4832 - 44s - loss: 1.4871 - categorical_crossentropy: 1.4871 - categorical_accuracy: 0.4408 - val_loss: 1.9302 - val_categorical_crossentropy: 1.9302 - val_categorical_accuracy: 0.3526\n",
      "Epoch 7/80\n",
      "\n",
      "Epoch 00007: val_loss improved from 1.93024 to 1.88989, saving model to model.hdf5\n",
      "4832/4832 - 43s - loss: 1.4455 - categorical_crossentropy: 1.4455 - categorical_accuracy: 0.4603 - val_loss: 1.8899 - val_categorical_crossentropy: 1.8899 - val_categorical_accuracy: 0.3568\n",
      "Epoch 8/80\n",
      "\n",
      "Epoch 00008: val_loss improved from 1.88989 to 1.84053, saving model to model.hdf5\n",
      "4832/4832 - 43s - loss: 1.4099 - categorical_crossentropy: 1.4099 - categorical_accuracy: 0.4667 - val_loss: 1.8405 - val_categorical_crossentropy: 1.8405 - val_categorical_accuracy: 0.3651\n",
      "Epoch 9/80\n",
      "\n",
      "Epoch 00009: val_loss improved from 1.84053 to 1.78791, saving model to model.hdf5\n",
      "4832/4832 - 44s - loss: 1.3820 - categorical_crossentropy: 1.3820 - categorical_accuracy: 0.4741 - val_loss: 1.7879 - val_categorical_crossentropy: 1.7879 - val_categorical_accuracy: 0.3700\n",
      "Epoch 10/80\n",
      "\n",
      "Epoch 00010: val_loss improved from 1.78791 to 1.73498, saving model to model.hdf5\n",
      "4832/4832 - 44s - loss: 1.3719 - categorical_crossentropy: 1.3719 - categorical_accuracy: 0.4808 - val_loss: 1.7350 - val_categorical_crossentropy: 1.7350 - val_categorical_accuracy: 0.3825\n",
      "Epoch 11/80\n",
      "\n",
      "Epoch 00011: val_loss improved from 1.73498 to 1.68547, saving model to model.hdf5\n",
      "4832/4832 - 44s - loss: 1.3332 - categorical_crossentropy: 1.3332 - categorical_accuracy: 0.4890 - val_loss: 1.6855 - val_categorical_crossentropy: 1.6855 - val_categorical_accuracy: 0.4255\n",
      "Epoch 12/80\n",
      "\n",
      "Epoch 00012: val_loss improved from 1.68547 to 1.62495, saving model to model.hdf5\n",
      "4832/4832 - 44s - loss: 1.3081 - categorical_crossentropy: 1.3081 - categorical_accuracy: 0.5017 - val_loss: 1.6249 - val_categorical_crossentropy: 1.6249 - val_categorical_accuracy: 0.4570\n",
      "Epoch 13/80\n",
      "\n",
      "Epoch 00013: val_loss improved from 1.62495 to 1.57983, saving model to model.hdf5\n",
      "4832/4832 - 43s - loss: 1.2954 - categorical_crossentropy: 1.2954 - categorical_accuracy: 0.5089 - val_loss: 1.5798 - val_categorical_crossentropy: 1.5798 - val_categorical_accuracy: 0.4636\n",
      "Epoch 14/80\n",
      "\n",
      "Epoch 00014: val_loss improved from 1.57983 to 1.51874, saving model to model.hdf5\n",
      "4832/4832 - 43s - loss: 1.2686 - categorical_crossentropy: 1.2686 - categorical_accuracy: 0.5033 - val_loss: 1.5187 - val_categorical_crossentropy: 1.5187 - val_categorical_accuracy: 0.4735\n",
      "Epoch 15/80\n",
      "\n",
      "Epoch 00015: val_loss improved from 1.51874 to 1.45456, saving model to model.hdf5\n",
      "4832/4832 - 43s - loss: 1.2598 - categorical_crossentropy: 1.2598 - categorical_accuracy: 0.5155 - val_loss: 1.4546 - val_categorical_crossentropy: 1.4546 - val_categorical_accuracy: 0.4901\n",
      "Epoch 16/80\n",
      "\n",
      "Epoch 00016: val_loss improved from 1.45456 to 1.41387, saving model to model.hdf5\n",
      "4832/4832 - 45s - loss: 1.2514 - categorical_crossentropy: 1.2514 - categorical_accuracy: 0.5195 - val_loss: 1.4139 - val_categorical_crossentropy: 1.4139 - val_categorical_accuracy: 0.4959\n",
      "Epoch 17/80\n",
      "\n",
      "Epoch 00017: val_loss improved from 1.41387 to 1.38514, saving model to model.hdf5\n",
      "4832/4832 - 44s - loss: 1.2397 - categorical_crossentropy: 1.2397 - categorical_accuracy: 0.5230 - val_loss: 1.3851 - val_categorical_crossentropy: 1.3851 - val_categorical_accuracy: 0.4992\n",
      "Epoch 18/80\n",
      "\n",
      "Epoch 00018: val_loss improved from 1.38514 to 1.36062, saving model to model.hdf5\n",
      "4832/4832 - 44s - loss: 1.2191 - categorical_crossentropy: 1.2191 - categorical_accuracy: 0.5292 - val_loss: 1.3606 - val_categorical_crossentropy: 1.3606 - val_categorical_accuracy: 0.5000\n",
      "Epoch 19/80\n",
      "\n",
      "Epoch 00019: val_loss improved from 1.36062 to 1.34323, saving model to model.hdf5\n",
      "4832/4832 - 43s - loss: 1.2148 - categorical_crossentropy: 1.2148 - categorical_accuracy: 0.5294 - val_loss: 1.3432 - val_categorical_crossentropy: 1.3432 - val_categorical_accuracy: 0.5033\n",
      "Epoch 20/80\n",
      "\n",
      "Epoch 00020: val_loss improved from 1.34323 to 1.33689, saving model to model.hdf5\n",
      "4832/4832 - 43s - loss: 1.1977 - categorical_crossentropy: 1.1977 - categorical_accuracy: 0.5284 - val_loss: 1.3369 - val_categorical_crossentropy: 1.3369 - val_categorical_accuracy: 0.5066\n",
      "Epoch 21/80\n",
      "\n",
      "Epoch 00021: val_loss improved from 1.33689 to 1.32596, saving model to model.hdf5\n",
      "4832/4832 - 43s - loss: 1.1912 - categorical_crossentropy: 1.1912 - categorical_accuracy: 0.5286 - val_loss: 1.3260 - val_categorical_crossentropy: 1.3260 - val_categorical_accuracy: 0.5083\n",
      "Epoch 22/80\n",
      "\n",
      "Epoch 00022: val_loss improved from 1.32596 to 1.32546, saving model to model.hdf5\n",
      "4832/4832 - 44s - loss: 1.1946 - categorical_crossentropy: 1.1946 - categorical_accuracy: 0.5354 - val_loss: 1.3255 - val_categorical_crossentropy: 1.3255 - val_categorical_accuracy: 0.5050\n",
      "Epoch 23/80\n",
      "\n",
      "Epoch 00023: val_loss did not improve from 1.32546\n",
      "4832/4832 - 43s - loss: 1.1668 - categorical_crossentropy: 1.1668 - categorical_accuracy: 0.5393 - val_loss: 1.3306 - val_categorical_crossentropy: 1.3306 - val_categorical_accuracy: 0.5083\n",
      "Epoch 24/80\n",
      "\n",
      "Epoch 00024: val_loss did not improve from 1.32546\n",
      "4832/4832 - 43s - loss: 1.1583 - categorical_crossentropy: 1.1583 - categorical_accuracy: 0.5443 - val_loss: 1.3275 - val_categorical_crossentropy: 1.3275 - val_categorical_accuracy: 0.5075\n",
      "Epoch 25/80\n",
      "\n",
      "Epoch 00025: val_loss did not improve from 1.32546\n",
      "4832/4832 - 44s - loss: 1.1691 - categorical_crossentropy: 1.1691 - categorical_accuracy: 0.5358 - val_loss: 1.3260 - val_categorical_crossentropy: 1.3260 - val_categorical_accuracy: 0.5025\n",
      "Epoch 26/80\n",
      "\n",
      "Epoch 00026: val_loss did not improve from 1.32546\n",
      "4832/4832 - 44s - loss: 1.1644 - categorical_crossentropy: 1.1644 - categorical_accuracy: 0.5443 - val_loss: 1.3283 - val_categorical_crossentropy: 1.3283 - val_categorical_accuracy: 0.5041\n",
      "Epoch 27/80\n",
      "\n",
      "Epoch 00027: val_loss improved from 1.32546 to 1.32485, saving model to model.hdf5\n",
      "4832/4832 - 44s - loss: 1.1714 - categorical_crossentropy: 1.1714 - categorical_accuracy: 0.5373 - val_loss: 1.3249 - val_categorical_crossentropy: 1.3249 - val_categorical_accuracy: 0.5058\n",
      "Epoch 28/80\n",
      "\n",
      "Epoch 00028: val_loss did not improve from 1.32485\n",
      "4832/4832 - 43s - loss: 1.1591 - categorical_crossentropy: 1.1591 - categorical_accuracy: 0.5474 - val_loss: 1.3260 - val_categorical_crossentropy: 1.3260 - val_categorical_accuracy: 0.5149\n",
      "Epoch 29/80\n",
      "\n",
      "Epoch 00029: val_loss improved from 1.32485 to 1.31850, saving model to model.hdf5\n",
      "4832/4832 - 44s - loss: 1.1458 - categorical_crossentropy: 1.1458 - categorical_accuracy: 0.5410 - val_loss: 1.3185 - val_categorical_crossentropy: 1.3185 - val_categorical_accuracy: 0.5091\n",
      "Epoch 30/80\n",
      "\n",
      "Epoch 00030: val_loss did not improve from 1.31850\n",
      "4832/4832 - 43s - loss: 1.1382 - categorical_crossentropy: 1.1382 - categorical_accuracy: 0.5513 - val_loss: 1.3303 - val_categorical_crossentropy: 1.3303 - val_categorical_accuracy: 0.5116\n"
     ]
    },
    {
     "name": "stdout",
     "output_type": "stream",
     "text": [
      "Epoch 31/80\n",
      "\n",
      "Epoch 00031: val_loss did not improve from 1.31850\n",
      "4832/4832 - 43s - loss: 1.1384 - categorical_crossentropy: 1.1384 - categorical_accuracy: 0.5451 - val_loss: 1.3371 - val_categorical_crossentropy: 1.3371 - val_categorical_accuracy: 0.5050\n",
      "Epoch 32/80\n",
      "\n",
      "Epoch 00032: val_loss did not improve from 1.31850\n",
      "4832/4832 - 44s - loss: 1.1410 - categorical_crossentropy: 1.1410 - categorical_accuracy: 0.5519 - val_loss: 1.3293 - val_categorical_crossentropy: 1.3293 - val_categorical_accuracy: 0.5000\n",
      "Epoch 33/80\n",
      "\n",
      "Epoch 00033: val_loss did not improve from 1.31850\n",
      "4832/4832 - 44s - loss: 1.1209 - categorical_crossentropy: 1.1209 - categorical_accuracy: 0.5468 - val_loss: 1.3313 - val_categorical_crossentropy: 1.3313 - val_categorical_accuracy: 0.5033\n",
      "Epoch 34/80\n",
      "\n",
      "Epoch 00034: val_loss did not improve from 1.31850\n",
      "4832/4832 - 44s - loss: 1.1376 - categorical_crossentropy: 1.1376 - categorical_accuracy: 0.5470 - val_loss: 1.3352 - val_categorical_crossentropy: 1.3352 - val_categorical_accuracy: 0.5091\n",
      "Epoch 35/80\n",
      "\n",
      "Epoch 00035: val_loss did not improve from 1.31850\n",
      "4832/4832 - 44s - loss: 1.1238 - categorical_crossentropy: 1.1238 - categorical_accuracy: 0.5524 - val_loss: 1.3394 - val_categorical_crossentropy: 1.3394 - val_categorical_accuracy: 0.5025\n",
      "Epoch 36/80\n",
      "\n",
      "Epoch 00036: val_loss did not improve from 1.31850\n",
      "4832/4832 - 43s - loss: 1.1279 - categorical_crossentropy: 1.1279 - categorical_accuracy: 0.5511 - val_loss: 1.3401 - val_categorical_crossentropy: 1.3401 - val_categorical_accuracy: 0.5099\n",
      "Epoch 37/80\n",
      "\n",
      "Epoch 00037: val_loss did not improve from 1.31850\n",
      "4832/4832 - 43s - loss: 1.1283 - categorical_crossentropy: 1.1283 - categorical_accuracy: 0.5457 - val_loss: 1.3375 - val_categorical_crossentropy: 1.3375 - val_categorical_accuracy: 0.5108\n",
      "Epoch 38/80\n",
      "\n",
      "Epoch 00038: val_loss did not improve from 1.31850\n",
      "4832/4832 - 44s - loss: 1.1383 - categorical_crossentropy: 1.1383 - categorical_accuracy: 0.5439 - val_loss: 1.3266 - val_categorical_crossentropy: 1.3266 - val_categorical_accuracy: 0.5224\n",
      "Epoch 39/80\n",
      "\n",
      "Epoch 00039: val_loss did not improve from 1.31850\n",
      "4832/4832 - 44s - loss: 1.1257 - categorical_crossentropy: 1.1257 - categorical_accuracy: 0.5565 - val_loss: 1.3293 - val_categorical_crossentropy: 1.3293 - val_categorical_accuracy: 0.5157\n",
      "Epoch 40/80\n",
      "\n",
      "Epoch 00040: val_loss did not improve from 1.31850\n",
      "4832/4832 - 44s - loss: 1.1364 - categorical_crossentropy: 1.1364 - categorical_accuracy: 0.5455 - val_loss: 1.3255 - val_categorical_crossentropy: 1.3255 - val_categorical_accuracy: 0.5132\n",
      "Epoch 41/80\n",
      "\n",
      "Epoch 00041: val_loss did not improve from 1.31850\n",
      "4832/4832 - 43s - loss: 1.1105 - categorical_crossentropy: 1.1105 - categorical_accuracy: 0.5534 - val_loss: 1.3315 - val_categorical_crossentropy: 1.3315 - val_categorical_accuracy: 0.5141\n",
      "Epoch 42/80\n",
      "\n",
      "Epoch 00042: val_loss did not improve from 1.31850\n",
      "4832/4832 - 44s - loss: 1.1082 - categorical_crossentropy: 1.1082 - categorical_accuracy: 0.5573 - val_loss: 1.3336 - val_categorical_crossentropy: 1.3336 - val_categorical_accuracy: 0.5124\n",
      "Epoch 43/80\n",
      "\n",
      "Epoch 00043: val_loss did not improve from 1.31850\n",
      "4832/4832 - 44s - loss: 1.1008 - categorical_crossentropy: 1.1008 - categorical_accuracy: 0.5555 - val_loss: 1.3266 - val_categorical_crossentropy: 1.3266 - val_categorical_accuracy: 0.5124\n",
      "Epoch 44/80\n",
      "\n",
      "Epoch 00044: val_loss did not improve from 1.31850\n",
      "4832/4832 - 44s - loss: 1.1048 - categorical_crossentropy: 1.1048 - categorical_accuracy: 0.5528 - val_loss: 1.3331 - val_categorical_crossentropy: 1.3331 - val_categorical_accuracy: 0.5116\n",
      "Epoch 45/80\n",
      "\n",
      "Epoch 00045: val_loss did not improve from 1.31850\n",
      "4832/4832 - 43s - loss: 1.1048 - categorical_crossentropy: 1.1048 - categorical_accuracy: 0.5646 - val_loss: 1.3333 - val_categorical_crossentropy: 1.3333 - val_categorical_accuracy: 0.5116\n",
      "Epoch 46/80\n",
      "\n",
      "Epoch 00046: val_loss did not improve from 1.31850\n",
      "4832/4832 - 44s - loss: 1.0955 - categorical_crossentropy: 1.0955 - categorical_accuracy: 0.5658 - val_loss: 1.3441 - val_categorical_crossentropy: 1.3441 - val_categorical_accuracy: 0.5099\n",
      "Epoch 47/80\n",
      "\n",
      "Epoch 00047: val_loss did not improve from 1.31850\n",
      "4832/4832 - 44s - loss: 1.0959 - categorical_crossentropy: 1.0959 - categorical_accuracy: 0.5555 - val_loss: 1.3398 - val_categorical_crossentropy: 1.3398 - val_categorical_accuracy: 0.5124\n",
      "Epoch 48/80\n",
      "\n",
      "Epoch 00048: val_loss did not improve from 1.31850\n",
      "4832/4832 - 43s - loss: 1.1038 - categorical_crossentropy: 1.1038 - categorical_accuracy: 0.5540 - val_loss: 1.3357 - val_categorical_crossentropy: 1.3357 - val_categorical_accuracy: 0.5041\n",
      "Epoch 49/80\n",
      "\n",
      "Epoch 00049: val_loss did not improve from 1.31850\n",
      "4832/4832 - 44s - loss: 1.1020 - categorical_crossentropy: 1.1020 - categorical_accuracy: 0.5613 - val_loss: 1.3429 - val_categorical_crossentropy: 1.3429 - val_categorical_accuracy: 0.5149\n",
      "Epoch 50/80\n",
      "\n",
      "Epoch 00050: val_loss did not improve from 1.31850\n",
      "4832/4832 - 43s - loss: 1.1081 - categorical_crossentropy: 1.1081 - categorical_accuracy: 0.5548 - val_loss: 1.3373 - val_categorical_crossentropy: 1.3373 - val_categorical_accuracy: 0.5141\n",
      "Epoch 51/80\n",
      "\n",
      "Epoch 00051: val_loss did not improve from 1.31850\n",
      "4832/4832 - 44s - loss: 1.1001 - categorical_crossentropy: 1.1001 - categorical_accuracy: 0.5582 - val_loss: 1.3343 - val_categorical_crossentropy: 1.3343 - val_categorical_accuracy: 0.5124\n",
      "Epoch 52/80\n",
      "\n",
      "Epoch 00052: val_loss did not improve from 1.31850\n",
      "4832/4832 - 44s - loss: 1.1014 - categorical_crossentropy: 1.1014 - categorical_accuracy: 0.5646 - val_loss: 1.3351 - val_categorical_crossentropy: 1.3351 - val_categorical_accuracy: 0.5099\n",
      "Epoch 53/80\n",
      "\n",
      "Epoch 00053: val_loss did not improve from 1.31850\n",
      "4832/4832 - 44s - loss: 1.1000 - categorical_crossentropy: 1.1000 - categorical_accuracy: 0.5598 - val_loss: 1.3430 - val_categorical_crossentropy: 1.3430 - val_categorical_accuracy: 0.5157\n",
      "Epoch 54/80\n",
      "\n",
      "Epoch 00054: val_loss did not improve from 1.31850\n",
      "4832/4832 - 44s - loss: 1.0885 - categorical_crossentropy: 1.0885 - categorical_accuracy: 0.5606 - val_loss: 1.3442 - val_categorical_crossentropy: 1.3442 - val_categorical_accuracy: 0.5116\n",
      "Epoch 55/80\n",
      "\n",
      "Epoch 00055: val_loss did not improve from 1.31850\n",
      "4832/4832 - 44s - loss: 1.0994 - categorical_crossentropy: 1.0994 - categorical_accuracy: 0.5586 - val_loss: 1.3420 - val_categorical_crossentropy: 1.3420 - val_categorical_accuracy: 0.5066\n",
      "Epoch 56/80\n",
      "\n",
      "Epoch 00056: val_loss did not improve from 1.31850\n",
      "4832/4832 - 44s - loss: 1.0935 - categorical_crossentropy: 1.0935 - categorical_accuracy: 0.5592 - val_loss: 1.3421 - val_categorical_crossentropy: 1.3421 - val_categorical_accuracy: 0.5132\n",
      "Epoch 57/80\n",
      "\n",
      "Epoch 00057: val_loss did not improve from 1.31850\n",
      "4832/4832 - 44s - loss: 1.0873 - categorical_crossentropy: 1.0873 - categorical_accuracy: 0.5625 - val_loss: 1.3507 - val_categorical_crossentropy: 1.3507 - val_categorical_accuracy: 0.5124\n",
      "Epoch 58/80\n",
      "\n",
      "Epoch 00058: val_loss did not improve from 1.31850\n",
      "4832/4832 - 44s - loss: 1.0810 - categorical_crossentropy: 1.0810 - categorical_accuracy: 0.5728 - val_loss: 1.3519 - val_categorical_crossentropy: 1.3519 - val_categorical_accuracy: 0.5091\n",
      "Epoch 59/80\n",
      "\n",
      "Epoch 00059: val_loss did not improve from 1.31850\n",
      "4832/4832 - 45s - loss: 1.0682 - categorical_crossentropy: 1.0682 - categorical_accuracy: 0.5739 - val_loss: 1.3500 - val_categorical_crossentropy: 1.3500 - val_categorical_accuracy: 0.5099\n",
      "Epoch 60/80\n",
      "\n",
      "Epoch 00060: val_loss did not improve from 1.31850\n",
      "4832/4832 - 44s - loss: 1.0854 - categorical_crossentropy: 1.0854 - categorical_accuracy: 0.5697 - val_loss: 1.3497 - val_categorical_crossentropy: 1.3497 - val_categorical_accuracy: 0.5108\n",
      "Epoch 61/80\n",
      "\n",
      "Epoch 00061: val_loss did not improve from 1.31850\n",
      "4832/4832 - 44s - loss: 1.0891 - categorical_crossentropy: 1.0891 - categorical_accuracy: 0.5611 - val_loss: 1.3485 - val_categorical_crossentropy: 1.3485 - val_categorical_accuracy: 0.5132\n",
      "Epoch 62/80\n",
      "\n",
      "Epoch 00062: val_loss did not improve from 1.31850\n",
      "4832/4832 - 44s - loss: 1.0789 - categorical_crossentropy: 1.0789 - categorical_accuracy: 0.5639 - val_loss: 1.3423 - val_categorical_crossentropy: 1.3423 - val_categorical_accuracy: 0.5124\n",
      "Epoch 63/80\n",
      "\n",
      "Epoch 00063: val_loss did not improve from 1.31850\n",
      "4832/4832 - 44s - loss: 1.0607 - categorical_crossentropy: 1.0607 - categorical_accuracy: 0.5776 - val_loss: 1.3472 - val_categorical_crossentropy: 1.3472 - val_categorical_accuracy: 0.5099\n"
     ]
    },
    {
     "name": "stdout",
     "output_type": "stream",
     "text": [
      "Epoch 64/80\n",
      "\n",
      "Epoch 00064: val_loss did not improve from 1.31850\n",
      "4832/4832 - 44s - loss: 1.0783 - categorical_crossentropy: 1.0783 - categorical_accuracy: 0.5548 - val_loss: 1.3436 - val_categorical_crossentropy: 1.3436 - val_categorical_accuracy: 0.5050\n",
      "Epoch 65/80\n",
      "\n",
      "Epoch 00065: val_loss did not improve from 1.31850\n",
      "4832/4832 - 43s - loss: 1.0800 - categorical_crossentropy: 1.0800 - categorical_accuracy: 0.5695 - val_loss: 1.3491 - val_categorical_crossentropy: 1.3491 - val_categorical_accuracy: 0.5124\n",
      "Epoch 66/80\n",
      "\n",
      "Epoch 00066: val_loss did not improve from 1.31850\n",
      "4832/4832 - 44s - loss: 1.0832 - categorical_crossentropy: 1.0832 - categorical_accuracy: 0.5575 - val_loss: 1.3420 - val_categorical_crossentropy: 1.3420 - val_categorical_accuracy: 0.5124\n",
      "Epoch 67/80\n",
      "\n",
      "Epoch 00067: val_loss did not improve from 1.31850\n",
      "4832/4832 - 43s - loss: 1.0788 - categorical_crossentropy: 1.0788 - categorical_accuracy: 0.5677 - val_loss: 1.3409 - val_categorical_crossentropy: 1.3409 - val_categorical_accuracy: 0.5124\n",
      "Epoch 68/80\n",
      "\n",
      "Epoch 00068: val_loss did not improve from 1.31850\n",
      "4832/4832 - 44s - loss: 1.0708 - categorical_crossentropy: 1.0708 - categorical_accuracy: 0.5627 - val_loss: 1.3446 - val_categorical_crossentropy: 1.3446 - val_categorical_accuracy: 0.5141\n",
      "Epoch 69/80\n",
      "\n",
      "Epoch 00069: val_loss did not improve from 1.31850\n",
      "4832/4832 - 44s - loss: 1.0738 - categorical_crossentropy: 1.0738 - categorical_accuracy: 0.5720 - val_loss: 1.3378 - val_categorical_crossentropy: 1.3378 - val_categorical_accuracy: 0.5149\n",
      "Epoch 70/80\n",
      "\n",
      "Epoch 00070: val_loss did not improve from 1.31850\n",
      "4832/4832 - 44s - loss: 1.0771 - categorical_crossentropy: 1.0771 - categorical_accuracy: 0.5668 - val_loss: 1.3451 - val_categorical_crossentropy: 1.3451 - val_categorical_accuracy: 0.5050\n",
      "Epoch 71/80\n",
      "\n",
      "Epoch 00071: val_loss did not improve from 1.31850\n",
      "4832/4832 - 45s - loss: 1.0791 - categorical_crossentropy: 1.0791 - categorical_accuracy: 0.5668 - val_loss: 1.3487 - val_categorical_crossentropy: 1.3487 - val_categorical_accuracy: 0.5116\n",
      "Epoch 72/80\n",
      "\n",
      "Epoch 00072: val_loss did not improve from 1.31850\n",
      "4832/4832 - 45s - loss: 1.0713 - categorical_crossentropy: 1.0713 - categorical_accuracy: 0.5735 - val_loss: 1.3434 - val_categorical_crossentropy: 1.3434 - val_categorical_accuracy: 0.5075\n",
      "Epoch 73/80\n",
      "\n",
      "Epoch 00073: val_loss did not improve from 1.31850\n",
      "4832/4832 - 46s - loss: 1.0772 - categorical_crossentropy: 1.0772 - categorical_accuracy: 0.5633 - val_loss: 1.3380 - val_categorical_crossentropy: 1.3380 - val_categorical_accuracy: 0.5166\n",
      "Epoch 74/80\n",
      "\n",
      "Epoch 00074: val_loss did not improve from 1.31850\n",
      "4832/4832 - 48s - loss: 1.0789 - categorical_crossentropy: 1.0789 - categorical_accuracy: 0.5644 - val_loss: 1.3348 - val_categorical_crossentropy: 1.3348 - val_categorical_accuracy: 0.5174\n",
      "Epoch 75/80\n",
      "\n",
      "Epoch 00075: val_loss did not improve from 1.31850\n",
      "4832/4832 - 60s - loss: 1.0684 - categorical_crossentropy: 1.0684 - categorical_accuracy: 0.5671 - val_loss: 1.3375 - val_categorical_crossentropy: 1.3375 - val_categorical_accuracy: 0.5174\n",
      "Epoch 76/80\n",
      "\n",
      "Epoch 00076: val_loss did not improve from 1.31850\n",
      "4832/4832 - 87s - loss: 1.0674 - categorical_crossentropy: 1.0674 - categorical_accuracy: 0.5675 - val_loss: 1.3390 - val_categorical_crossentropy: 1.3390 - val_categorical_accuracy: 0.5199\n",
      "Epoch 77/80\n",
      "\n",
      "Epoch 00077: val_loss did not improve from 1.31850\n",
      "4832/4832 - 44s - loss: 1.0589 - categorical_crossentropy: 1.0589 - categorical_accuracy: 0.5815 - val_loss: 1.3485 - val_categorical_crossentropy: 1.3485 - val_categorical_accuracy: 0.4992\n",
      "Epoch 78/80\n",
      "\n",
      "Epoch 00078: val_loss did not improve from 1.31850\n",
      "4832/4832 - 43s - loss: 1.0690 - categorical_crossentropy: 1.0690 - categorical_accuracy: 0.5807 - val_loss: 1.3453 - val_categorical_crossentropy: 1.3453 - val_categorical_accuracy: 0.5091\n",
      "Epoch 79/80\n",
      "\n",
      "Epoch 00079: val_loss did not improve from 1.31850\n",
      "4832/4832 - 43s - loss: 1.0710 - categorical_crossentropy: 1.0710 - categorical_accuracy: 0.5693 - val_loss: 1.3464 - val_categorical_crossentropy: 1.3464 - val_categorical_accuracy: 0.5116\n",
      "Epoch 80/80\n",
      "\n",
      "Epoch 00080: val_loss did not improve from 1.31850\n",
      "4832/4832 - 44s - loss: 1.0709 - categorical_crossentropy: 1.0709 - categorical_accuracy: 0.5691 - val_loss: 1.3555 - val_categorical_crossentropy: 1.3555 - val_categorical_accuracy: 0.5124\n"
     ]
    }
   ],
   "source": [
    "history = model.fit(x=X_train, y=y_train, batch_size=128, epochs=80, verbose=2, \n",
    "                    validation_split=0.2, shuffle=True, callbacks=[m_save])"
   ]
  },
  {
   "cell_type": "code",
   "execution_count": 37,
   "metadata": {},
   "outputs": [],
   "source": [
    "from joblib import dump, load"
   ]
  },
  {
   "cell_type": "code",
   "execution_count": 38,
   "metadata": {},
   "outputs": [
    {
     "data": {
      "text/plain": [
       "['vectorizer.joblib']"
      ]
     },
     "execution_count": 38,
     "metadata": {},
     "output_type": "execute_result"
    }
   ],
   "source": [
    "dump(vectorizer,'vectorizer.joblib')"
   ]
  },
  {
   "cell_type": "code",
   "execution_count": 39,
   "metadata": {},
   "outputs": [
    {
     "data": {
      "text/plain": [
       "['train_history_dict.joblib']"
      ]
     },
     "execution_count": 39,
     "metadata": {},
     "output_type": "execute_result"
    }
   ],
   "source": [
    "dump(history.history, 'train_history_dict.joblib')"
   ]
  },
  {
   "cell_type": "code",
   "execution_count": 40,
   "metadata": {},
   "outputs": [],
   "source": [
    "X_test = X_test.toarray()[:, :, np.newaxis]"
   ]
  },
  {
   "cell_type": "code",
   "execution_count": 41,
   "metadata": {},
   "outputs": [
    {
     "data": {
      "text/plain": [
       "dict_keys(['loss', 'categorical_crossentropy', 'categorical_accuracy', 'val_loss', 'val_categorical_crossentropy', 'val_categorical_accuracy'])"
      ]
     },
     "execution_count": 41,
     "metadata": {},
     "output_type": "execute_result"
    }
   ],
   "source": [
    "history.history.keys()"
   ]
  },
  {
   "cell_type": "code",
   "execution_count": 42,
   "metadata": {},
   "outputs": [
    {
     "data": {
      "image/png": "[encoded data removed]",
      "text/plain": [
       "<Figure size 1440x800 with 1 Axes>"
      ]
     },
     "metadata": {},
     "output_type": "display_data"
    }
   ],
   "source": [
    "fig = figure(num=None, figsize=(18, 10), dpi=80, facecolor='w', edgecolor='k');\n",
    "\n",
    "categorical_crossentropy = history.history['categorical_crossentropy']\n",
    "sns.lineplot(range(0, len(categorical_crossentropy)), categorical_crossentropy  );\n",
    "\n",
    "val_categorical_crossentropy = history.history['val_categorical_crossentropy']\n",
    "sns.lineplot(range(0, len(val_categorical_crossentropy)), val_categorical_crossentropy );\n",
    "\n",
    "plt.legend([\"categorical_crossentropy\",\"val_categorical_crossentropy\"], fontsize=20)\n",
    "plt.tick_params(axis='x', labelsize=15 );\n",
    "plt.tick_params(axis='y', labelsize=13 );\n",
    "plt.xlabel('Epoch', fontsize=20)\n",
    "plt.ylabel('Loss', fontsize=20);\n",
    "plt.title('Training Loss History', fontsize=30);"
   ]
  },
  {
   "cell_type": "code",
   "execution_count": 43,
   "metadata": {},
   "outputs": [
    {
     "data": {
      "image/png": "[encoded data removed]",
      "text/plain": [
       "<Figure size 1440x800 with 1 Axes>"
      ]
     },
     "metadata": {},
     "output_type": "display_data"
    }
   ],
   "source": [
    "fig = figure(num=None, figsize=(18, 10), dpi=80, facecolor='w', edgecolor='k');\n",
    "\n",
    "categorical_accuracy = history.history['categorical_accuracy']\n",
    "sns.lineplot(range(0, len(categorical_accuracy)), categorical_accuracy  );\n",
    "\n",
    "val_categorical_accuracy = history.history['val_categorical_accuracy']\n",
    "sns.lineplot(range(0, len(val_categorical_accuracy)), val_categorical_accuracy );\n",
    "\n",
    "plt.legend([\"categorical_accuracy\",\"val_categorical_accuracy\"], fontsize=20)\n",
    "plt.tick_params(axis='x', labelsize=15 );\n",
    "plt.tick_params(axis='y', labelsize=13 );\n",
    "plt.xlabel('Epoch', fontsize=20)\n",
    "plt.ylabel('Accuracy', fontsize=20);\n",
    "plt.title('Training Accuracy History', fontsize=30);"
   ]
  },
  {
   "cell_type": "markdown",
   "metadata": {},
   "source": [
    "<h2> The checkpoint last saves model at epoche 29 which according to this diagrams pretty good point to save because after that model starts to overfit </h2>"
   ]
  },
  {
   "cell_type": "markdown",
   "metadata": {},
   "source": [
    "<h2> Testing genre prediction function </h2>"
   ]
  },
  {
   "cell_type": "code",
   "execution_count": 44,
   "metadata": {},
   "outputs": [],
   "source": [
    "from tensorflow.keras import  models"
   ]
  },
  {
   "cell_type": "code",
   "execution_count": 45,
   "metadata": {},
   "outputs": [],
   "source": [
    "loaded_model = models.load_model('model.hdf5')"
   ]
  },
  {
   "cell_type": "code",
   "execution_count": 46,
   "metadata": {
    "scrolled": true
   },
   "outputs": [
    {
     "name": "stdout",
     "output_type": "stream",
     "text": [
      "1067/1067 [==============================] - 3s 3ms/sample - loss: 1.3525 - categorical_crossentropy: 1.3525 - categorical_accuracy: 0.4967\n",
      "Test loss: 1.3525054\n",
      "Test accuracy: 0.49671978\n"
     ]
    }
   ],
   "source": [
    "_,loss, acc = loaded_model.evaluate(X_test, y_test,\n",
    "                            batch_size=128)\n",
    "print('Test loss:', loss)\n",
    "print('Test accuracy:', acc)"
   ]
  },
  {
   "cell_type": "code",
   "execution_count": 47,
   "metadata": {},
   "outputs": [],
   "source": [
    "import Predict_genre_by_lyrics as p"
   ]
  },
  {
   "cell_type": "code",
   "execution_count": 48,
   "metadata": {},
   "outputs": [],
   "source": [
    "# gotthard let it rain lyrics\n",
    "lyrics = [\"\"\"Lady Jane\n",
    "Would we ever meet again\n",
    "The times we had are gonna day by day\n",
    "All the pain\n",
    "That we gave each other pays\n",
    "Not enough to gonna make us wrong\n",
    "Would it sell this love will lest forever\n",
    "Standing out the crossroad once again alot of things in love will growing\n",
    "Slowly in progress\n",
    "I know - you've got to listen to the phone\n",
    "Let it rain let it rain\n",
    "Till the sun comes back again\n",
    "The answer is your only friend\n",
    "We walk this way\n",
    "Slowly step by step\n",
    "We don't have to bother just believe\n",
    "There's a place deep inside\n",
    "Were we've never been before\n",
    "I know we can be there you and me\n",
    "Would it sell this love will lest forever\n",
    "Now were standing at the crossroad once again\n",
    "All the things in love will pay there\n",
    "Slowly in progress\n",
    "I know - you've got to listen to the phone\n",
    "Let it rain let it rain\n",
    "Till the sun comes back again\n",
    "The answer is your only friend\n",
    "Let it rain let it rain\n",
    "'Cause I know we'll be there again\n",
    "Freedom will be there in the end\n",
    "Hope you'll find your paradise\n",
    "Wish you all the best of times\n",
    "The faith in love and please don't cry.\n",
    "So let it rain let it rain\n",
    "Till the sun comes back again\n",
    "The answer is your only friend\n",
    "Let it rain let it rain\n",
    "'Cause I know we'll meet again\n",
    "Freedom will be there in the end\n",
    "Let it rain let it rain\n",
    "Till the sun comes back again\n",
    "The answer is your only friend\n",
    "So let it rain let it rain\n",
    "Yes I know we'll meet again\n",
    "We will be there until the end\n",
    "'Til the end\"\"\"]"
   ]
  },
  {
   "cell_type": "code",
   "execution_count": 49,
   "metadata": {},
   "outputs": [
    {
     "data": {
      "text/plain": [
       "'Rock'"
      ]
     },
     "execution_count": 49,
     "metadata": {},
     "output_type": "execute_result"
    }
   ],
   "source": [
    "p.predict_gener(lyrics)"
   ]
  },
  {
   "cell_type": "markdown",
   "metadata": {},
   "source": [
    "<h2> Youtube mood function test </h2>"
   ]
  },
  {
   "cell_type": "code",
   "execution_count": 69,
   "metadata": {},
   "outputs": [],
   "source": [
    "# you can run it standalone as cmd app\n",
    "import youtube"
   ]
  },
  {
   "cell_type": "code",
   "execution_count": 70,
   "metadata": {},
   "outputs": [
    {
     "data": {
      "text/plain": [
       "('Patsy Cline - Crazy (1961)', 'https://www.youtube.com/watch?v=MbnrdCS57d0')"
      ]
     },
     "execution_count": 70,
     "metadata": {},
     "output_type": "execute_result"
    }
   ],
   "source": [
    "youtube.youtube_search('Crazy song')"
   ]
  },
  {
   "cell_type": "code",
   "execution_count": null,
   "metadata": {},
   "outputs": [],
   "source": []
  }
 ],
 "metadata": {
  "kernelspec": {
   "display_name": "Python 3",
   "language": "python",
   "name": "python3"
  },
  "language_info": {
   "codemirror_mode": {
    "name": "ipython",
    "version": 3
   },
   "file_extension": ".py",
   "mimetype": "text/x-python",
   "name": "python",
   "nbconvert_exporter": "python",
   "pygments_lexer": "ipython3",
   "version": "3.7.4"
  }
 },
 "nbformat": 4,
 "nbformat_minor": 2
}
