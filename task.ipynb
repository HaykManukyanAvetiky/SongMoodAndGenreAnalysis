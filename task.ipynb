{
 "cells": [
  {
   "cell_type": "code",
   "execution_count": 1,
   "metadata": {},
   "outputs": [],
   "source": [
    "import pandas as pd\n",
    "import warnings\n",
    "warnings.filterwarnings('ignore')"
   ]
  },
  {
   "cell_type": "markdown",
   "metadata": {},
   "source": [
    "<h2> Loading and concating data </h2>"
   ]
  },
  {
   "cell_type": "code",
   "execution_count": 2,
   "metadata": {},
   "outputs": [],
   "source": [
    "data = []\n",
    "for i in range(1,6):\n",
    "    tmp_df = pd.read_csv(f'data/data{i}.csv')\n",
    "    tmp_df.columns =['Artist', 'Name', 'Year', 'Popularity', 'genre', 'lyrics'] \n",
    "    data.append(tmp_df)\n",
    "df = pd.concat(data,ignore_index=True, sort=True)"
   ]
  },
  {
   "cell_type": "code",
   "execution_count": 3,
   "metadata": {},
   "outputs": [],
   "source": [
    "# replace \\r\\n with space in Lyrics\n",
    "df.lyrics = df.lyrics.str.replace('\\r\\n', ' ')"
   ]
  },
  {
   "cell_type": "code",
   "execution_count": 4,
   "metadata": {},
   "outputs": [],
   "source": [
    "# extract gener\n",
    "df.genre = df.genre.apply(lambda x: x[7:x.find('\").setTar')])"
   ]
  },
  {
   "cell_type": "code",
   "execution_count": 5,
   "metadata": {},
   "outputs": [
    {
     "data": {
      "text/plain": [
       "array(['Rock', 'Pop', 'Other', 'Country', 'RB', '', 'HipHop', 'Jazz',\n",
       "       'Folk', 'Electronic', 'Indie'], dtype=object)"
      ]
     },
     "execution_count": 5,
     "metadata": {},
     "output_type": "execute_result"
    }
   ],
   "source": [
    "df.genre.unique()"
   ]
  },
  {
   "cell_type": "code",
   "execution_count": 6,
   "metadata": {},
   "outputs": [],
   "source": [
    "# sepaarate mising genre\n",
    "df_mis_gen = df[df.genre ==\"\"]\n",
    "df = df[df.genre !=\"\"]"
   ]
  },
  {
   "cell_type": "code",
   "execution_count": 7,
   "metadata": {},
   "outputs": [],
   "source": [
    "#fixing Bob Marley's genre\n",
    "bob = df_mis_gen[df_mis_gen.Artist == 'Bob Marley']\n",
    "bob.genre = 'Folk'\n",
    "df = pd.concat([df,bob],ignore_index=True, sort=True)"
   ]
  },
  {
   "cell_type": "code",
   "execution_count": 8,
   "metadata": {},
   "outputs": [],
   "source": [
    "#fixing Zack Knight's genre\n",
    "zak = df_mis_gen[df_mis_gen.Artist == 'Zack Knight']\n",
    "zak.genre = 'RB'\n",
    "df = pd.concat([df,zak],ignore_index=True, sort=True)"
   ]
  },
  {
   "cell_type": "code",
   "execution_count": 9,
   "metadata": {},
   "outputs": [],
   "source": [
    "# saving missing genre\n",
    "df_mis_gen.to_csv(\"missing_genre.csv\")"
   ]
  },
  {
   "cell_type": "code",
   "execution_count": 10,
   "metadata": {},
   "outputs": [],
   "source": [
    "# saving rows that contain missing values\n",
    "df[df.isnull().values.any(axis=1)].to_csv('mising_val.csv')"
   ]
  },
  {
   "cell_type": "code",
   "execution_count": 11,
   "metadata": {},
   "outputs": [],
   "source": [
    "#dropp mising value containing rows\n",
    "df = df[~df.isnull().values.any(axis=1)]"
   ]
  },
  {
   "cell_type": "code",
   "execution_count": 12,
   "metadata": {},
   "outputs": [],
   "source": [
    "# save dublicated rows\n",
    "df[df[['Artist', 'Name' ]].duplicated()].sort_values(['Artist', 'Name' ]).to_csv('dublicated.csv')"
   ]
  },
  {
   "cell_type": "code",
   "execution_count": 13,
   "metadata": {},
   "outputs": [],
   "source": [
    "#drop duplicates\n",
    "df = df[~df[['Artist', 'Name' ]].duplicated()]"
   ]
  },
  {
   "cell_type": "markdown",
   "metadata": {},
   "source": [
    "<h2> four informative visualizations </h2>"
   ]
  },
  {
   "cell_type": "code",
   "execution_count": 14,
   "metadata": {},
   "outputs": [],
   "source": [
    "import seaborn as sns\n",
    "import matplotlib.pyplot as plt\n",
    "sns.set(color_codes=True)\n",
    "from matplotlib.pyplot import figure\n",
    "%matplotlib Inline"
   ]
  },
  {
   "cell_type": "markdown",
   "metadata": {},
   "source": [
    "<h2> The avarage popularity af every gener </h2>"
   ]
  },
  {
   "cell_type": "code",
   "execution_count": 15,
   "metadata": {},
   "outputs": [
    {
     "data": {
      "image/png": "[encoded data removed]",
      "text/plain": [
       "<Figure size 960x640 with 1 Axes>"
      ]
     },
     "metadata": {},
     "output_type": "display_data"
    }
   ],
   "source": [
    "tmp = df[['genre','Popularity']].groupby('genre').mean()\n",
    "fig = figure(num=None, figsize=(12, 8), dpi=80, facecolor='w', edgecolor='k')\n",
    "sns.barplot(x=tmp.index, y=tmp.Popularity, color='b');\n",
    "plt.xlabel('Genre', fontsize=18)\n",
    "plt.ylabel('Popularity', fontsize=18);"
   ]
  },
  {
   "cell_type": "markdown",
   "metadata": {},
   "source": [
    "<h3> The chart show that Indie, R&B and Electronic are the most unpopular genres oppositely Jazz which of course the most popular for all times </h3>"
   ]
  },
  {
   "cell_type": "code",
   "execution_count": 16,
   "metadata": {
    "scrolled": true
   },
   "outputs": [],
   "source": [
    "from ipywidgets import interact, widgets"
   ]
  },
  {
   "cell_type": "markdown",
   "metadata": {},
   "source": [
    "<h2> Time serries that shows yearly mad "
   ]
  },
  {
   "cell_type": "code",
   "execution_count": 126,
   "metadata": {
    "scrolled": false
   },
   "outputs": [],
   "source": [
    "grouped_mean = df[['Year','genre','Popularity']].groupby(['Year','genre']).mean()\n",
    "grouped_count = df[['Year','genre','Popularity']].groupby(['Year','genre']).count()\n",
    "def plotyear(year): \n",
    "    fig = figure(num=None, figsize=(18, 10), dpi=80, facecolor='w', edgecolor='k');\n",
    "    x = grouped_count.loc[year].Popularity\n",
    "    y = grouped_mean.loc[year].Popularity\n",
    "    ax = sns.scatterplot(x=x, y=y, s=250)\n",
    "    plt.xlabel('Number of songs in that genre', fontsize=20)\n",
    "    plt.ylabel('Avarage popularity of genre', fontsize=20)\n",
    "    for i in list(list(x.index)):\n",
    "        ax.text(x[i],y[i],i, fontsize=35, verticalalignment='bottom')"
   ]
  },
  {
   "cell_type": "code",
   "execution_count": 127,
   "metadata": {},
   "outputs": [
    {
     "data": {
      "application/vnd.jupyter.widget-view+json": {
       "model_id": "c385e6422df9466ab172cf2e38caec4b",
       "version_major": 2,
       "version_minor": 0
      },
      "text/plain": [
       "interactive(children=(IntSlider(value=2010, description='year', max=2018, min=1990), Output()), _dom_classes=(…"
      ]
     },
     "metadata": {},
     "output_type": "display_data"
    }
   ],
   "source": [
    "interact(plotyear, year=widgets.IntSlider(min=1990, max=2018, step=1, value=2010));"
   ]
  },
  {
   "cell_type": "markdown",
   "metadata": {},
   "source": [
    "<h2> The "
   ]
  },
  {
   "cell_type": "code",
   "execution_count": 121,
   "metadata": {},
   "outputs": [
    {
     "data": {
      "text/plain": [
       "['Country',\n",
       " 'Electronic',\n",
       " 'Folk',\n",
       " 'HipHop',\n",
       " 'Indie',\n",
       " 'Jazz',\n",
       " 'Other',\n",
       " 'Pop',\n",
       " 'RB',\n",
       " 'Rock']"
      ]
     },
     "execution_count": 121,
     "metadata": {},
     "output_type": "execute_result"
    }
   ],
   "source": []
  },
  {
   "cell_type": "code",
   "execution_count": null,
   "metadata": {},
   "outputs": [],
   "source": []
  },
  {
   "cell_type": "code",
   "execution_count": 18,
   "metadata": {
    "scrolled": false
   },
   "outputs": [
    {
     "data": {
      "text/plain": [
       "58"
      ]
     },
     "execution_count": 18,
     "metadata": {},
     "output_type": "execute_result"
    }
   ],
   "source": [
    "len('dont worry about a thing cos everthing going to be alright')"
   ]
  },
  {
   "cell_type": "code",
   "execution_count": 19,
   "metadata": {},
   "outputs": [
    {
     "data": {
      "text/html": [
       "<div>\n",
       "<style scoped>\n",
       "    .dataframe tbody tr th:only-of-type {\n",
       "        vertical-align: middle;\n",
       "    }\n",
       "\n",
       "    .dataframe tbody tr th {\n",
       "        vertical-align: top;\n",
       "    }\n",
       "\n",
       "    .dataframe thead th {\n",
       "        text-align: right;\n",
       "    }\n",
       "</style>\n",
       "<table border=\"1\" class=\"dataframe\">\n",
       "  <thead>\n",
       "    <tr style=\"text-align: right;\">\n",
       "      <th></th>\n",
       "      <th>Artist</th>\n",
       "      <th>Name</th>\n",
       "      <th>Popularity</th>\n",
       "      <th>Year</th>\n",
       "      <th>genre</th>\n",
       "      <th>lyrics</th>\n",
       "    </tr>\n",
       "  </thead>\n",
       "  <tbody>\n",
       "  </tbody>\n",
       "</table>\n",
       "</div>"
      ],
      "text/plain": [
       "Empty DataFrame\n",
       "Columns: [Artist, Name, Popularity, Year, genre, lyrics]\n",
       "Index: []"
      ]
     },
     "execution_count": 19,
     "metadata": {},
     "output_type": "execute_result"
    }
   ],
   "source": [
    "df[df.isnull().values.any(axis=1)]"
   ]
  },
  {
   "cell_type": "code",
   "execution_count": 20,
   "metadata": {},
   "outputs": [
    {
     "data": {
      "text/html": [
       "<div>\n",
       "<style scoped>\n",
       "    .dataframe tbody tr th:only-of-type {\n",
       "        vertical-align: middle;\n",
       "    }\n",
       "\n",
       "    .dataframe tbody tr th {\n",
       "        vertical-align: top;\n",
       "    }\n",
       "\n",
       "    .dataframe thead th {\n",
       "        text-align: right;\n",
       "    }\n",
       "</style>\n",
       "<table border=\"1\" class=\"dataframe\">\n",
       "  <thead>\n",
       "    <tr style=\"text-align: right;\">\n",
       "      <th></th>\n",
       "      <th>Artist</th>\n",
       "      <th>Name</th>\n",
       "      <th>Popularity</th>\n",
       "      <th>Year</th>\n",
       "      <th>genre</th>\n",
       "      <th>lyrics</th>\n",
       "    </tr>\n",
       "  </thead>\n",
       "  <tbody>\n",
       "    <tr>\n",
       "      <td>7609</td>\n",
       "      <td>Bob Marley</td>\n",
       "      <td>Everythings Gonna Be Alright Lyrics</td>\n",
       "      <td>100.000000</td>\n",
       "      <td>2012</td>\n",
       "      <td>Folk</td>\n",
       "      <td>\"Don't worry about a thing, 'Cause every littl...</td>\n",
       "    </tr>\n",
       "    <tr>\n",
       "      <td>7610</td>\n",
       "      <td>Bob Marley</td>\n",
       "      <td>Don't Worry, Be Happy Lyrics</td>\n",
       "      <td>86.283855</td>\n",
       "      <td>2008</td>\n",
       "      <td>Folk</td>\n",
       "      <td>Here is a little song I wrote You might want t...</td>\n",
       "    </tr>\n",
       "    <tr>\n",
       "      <td>7611</td>\n",
       "      <td>Bob Marley</td>\n",
       "      <td>No Woman No Cry Lyrics</td>\n",
       "      <td>79.889766</td>\n",
       "      <td>1984</td>\n",
       "      <td>Folk</td>\n",
       "      <td>No, woman no cry No, woman no cry No, woman no...</td>\n",
       "    </tr>\n",
       "    <tr>\n",
       "      <td>7612</td>\n",
       "      <td>Bob Marley</td>\n",
       "      <td>One Love Lyrics</td>\n",
       "      <td>79.173887</td>\n",
       "      <td>2010</td>\n",
       "      <td>Folk</td>\n",
       "      <td>ken boral,one love,One love, one heart Let's g...</td>\n",
       "    </tr>\n",
       "    <tr>\n",
       "      <td>7613</td>\n",
       "      <td>Bob Marley</td>\n",
       "      <td>Is This Love Lyrics</td>\n",
       "      <td>76.497310</td>\n",
       "      <td>1984</td>\n",
       "      <td>Folk</td>\n",
       "      <td>I wanna love you and treat you right I wanna l...</td>\n",
       "    </tr>\n",
       "    <tr>\n",
       "      <td>...</td>\n",
       "      <td>...</td>\n",
       "      <td>...</td>\n",
       "      <td>...</td>\n",
       "      <td>...</td>\n",
       "      <td>...</td>\n",
       "      <td>...</td>\n",
       "    </tr>\n",
       "    <tr>\n",
       "      <td>7679</td>\n",
       "      <td>Bob Marley</td>\n",
       "      <td>Bus Dem Shut (Pyaka) Lyrics</td>\n",
       "      <td>35.414926</td>\n",
       "      <td>2007</td>\n",
       "      <td>Folk</td>\n",
       "      <td>Life is for man to live (let man live life) Br...</td>\n",
       "    </tr>\n",
       "    <tr>\n",
       "      <td>7680</td>\n",
       "      <td>Bob Marley</td>\n",
       "      <td>Try Me Lyrics</td>\n",
       "      <td>34.420431</td>\n",
       "      <td>1970</td>\n",
       "      <td>Folk</td>\n",
       "      <td>Try me, try me Try me, try me Try me, try me T...</td>\n",
       "    </tr>\n",
       "    <tr>\n",
       "      <td>7681</td>\n",
       "      <td>Bob Marley</td>\n",
       "      <td>All Day All Night Lyrics</td>\n",
       "      <td>33.346295</td>\n",
       "      <td>2013</td>\n",
       "      <td>Folk</td>\n",
       "      <td>Wohoo, Said I'd never gonna give my love to no...</td>\n",
       "    </tr>\n",
       "    <tr>\n",
       "      <td>7682</td>\n",
       "      <td>Bob Marley</td>\n",
       "      <td>Misty Morning Lyrics</td>\n",
       "      <td>33.346295</td>\n",
       "      <td>2006</td>\n",
       "      <td>Folk</td>\n",
       "      <td>Misty mornin', don't see no sun; I know you're...</td>\n",
       "    </tr>\n",
       "    <tr>\n",
       "      <td>7683</td>\n",
       "      <td>Bob Marley</td>\n",
       "      <td>Small Axe Lyrics</td>\n",
       "      <td>33.346295</td>\n",
       "      <td>1992</td>\n",
       "      <td>Folk</td>\n",
       "      <td>Why boasteth thyself Oh, evil men Playing smar...</td>\n",
       "    </tr>\n",
       "  </tbody>\n",
       "</table>\n",
       "<p>74 rows × 6 columns</p>\n",
       "</div>"
      ],
      "text/plain": [
       "          Artist                                 Name  Popularity  Year genre  \\\n",
       "7609  Bob Marley  Everythings Gonna Be Alright Lyrics  100.000000  2012  Folk   \n",
       "7610  Bob Marley         Don't Worry, Be Happy Lyrics   86.283855  2008  Folk   \n",
       "7611  Bob Marley               No Woman No Cry Lyrics   79.889766  1984  Folk   \n",
       "7612  Bob Marley                      One Love Lyrics   79.173887  2010  Folk   \n",
       "7613  Bob Marley                  Is This Love Lyrics   76.497310  1984  Folk   \n",
       "...          ...                                  ...         ...   ...   ...   \n",
       "7679  Bob Marley          Bus Dem Shut (Pyaka) Lyrics   35.414926  2007  Folk   \n",
       "7680  Bob Marley                        Try Me Lyrics   34.420431  1970  Folk   \n",
       "7681  Bob Marley             All Day All Night Lyrics   33.346295  2013  Folk   \n",
       "7682  Bob Marley                 Misty Morning Lyrics   33.346295  2006  Folk   \n",
       "7683  Bob Marley                     Small Axe Lyrics   33.346295  1992  Folk   \n",
       "\n",
       "                                                 lyrics  \n",
       "7609  \"Don't worry about a thing, 'Cause every littl...  \n",
       "7610  Here is a little song I wrote You might want t...  \n",
       "7611  No, woman no cry No, woman no cry No, woman no...  \n",
       "7612  ken boral,one love,One love, one heart Let's g...  \n",
       "7613  I wanna love you and treat you right I wanna l...  \n",
       "...                                                 ...  \n",
       "7679  Life is for man to live (let man live life) Br...  \n",
       "7680  Try me, try me Try me, try me Try me, try me T...  \n",
       "7681  Wohoo, Said I'd never gonna give my love to no...  \n",
       "7682  Misty mornin', don't see no sun; I know you're...  \n",
       "7683  Why boasteth thyself Oh, evil men Playing smar...  \n",
       "\n",
       "[74 rows x 6 columns]"
      ]
     },
     "execution_count": 20,
     "metadata": {},
     "output_type": "execute_result"
    }
   ],
   "source": [
    "df[df.Artist == 'Bob Marley']"
   ]
  },
  {
   "cell_type": "code",
   "execution_count": null,
   "metadata": {},
   "outputs": [],
   "source": []
  }
 ],
 "metadata": {
  "kernelspec": {
   "display_name": "Python 3",
   "language": "python",
   "name": "python3"
  },
  "language_info": {
   "codemirror_mode": {
    "name": "ipython",
    "version": 3
   },
   "file_extension": ".py",
   "mimetype": "text/x-python",
   "name": "python",
   "nbconvert_exporter": "python",
   "pygments_lexer": "ipython3",
   "version": "3.7.4"
  }
 },
 "nbformat": 4,
 "nbformat_minor": 2
}
